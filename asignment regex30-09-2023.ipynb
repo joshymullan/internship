{
 "cells": [
  {
   "cell_type": "markdown",
   "id": "7a91600a",
   "metadata": {},
   "source": [
    "# Regular Expressions assignment\n",
    "Name: Joshy Mullanchirayil Joseph\n",
    "Batch No: DS2309"
   ]
  },
  {
   "cell_type": "code",
   "execution_count": null,
   "id": "6298366f",
   "metadata": {},
   "outputs": [],
   "source": [
    "import regex as re"
   ]
  },
  {
   "cell_type": "code",
   "execution_count": 144,
   "id": "f046a1cf",
   "metadata": {},
   "outputs": [
    {
     "name": "stdout",
     "output_type": "stream",
     "text": [
      "Python:Exercises::PHP:exercises:\n"
     ]
    }
   ],
   "source": [
    "#question 1\n",
    "string= \"Python Exercises, PHP exercises.\"\n",
    "x=re.sub(r\"[\\s,.]\",\":\",string)\n",
    "print(x)\n"
   ]
  },
  {
   "cell_type": "code",
   "execution_count": 19,
   "id": "2f07e601",
   "metadata": {},
   "outputs": [
    {
     "name": "stdout",
     "output_type": "stream",
     "text": [
      "['ert', 'action', 'an', 'as', 'ery', 'audable', 'aims', 'erating', 'eGovernment', 'eLearning', 'and', 'eBusiness']\n"
     ]
    }
   ],
   "source": [
    "#question 2\n",
    "string=\"Mr.Robert's action plan has very laudable aims in incooperating eGovernment, eLearning and eBusiness \"\n",
    "pattern='a[a-zA-z0-9]+|e[\\w]+'\n",
    "test=re.findall(pattern,string)\n",
    "print(test)"
   ]
  },
  {
   "cell_type": "code",
   "execution_count": 3,
   "id": "6a13a5b7",
   "metadata": {},
   "outputs": [
    {
     "name": "stdout",
     "output_type": "stream",
     "text": [
      "['gone', 'shed', 'fill', 'coal', 'buck']\n"
     ]
    }
   ],
   "source": [
    "# question 3\n",
    "#Create a function in python to find all words that are at least 4 characters long in a string. \n",
    "#The use of the re.compile() method is mandatory.\n",
    "import re\n",
    "pattern=re.compile(r'\\w{4}')\n",
    "def string_len(string):\n",
    "    result=pattern.findall(string)\n",
    "    return result\n",
    "print(string_len(\"I'd gone out to the shed to fill up the coal bucket\"))"
   ]
  },
  {
   "cell_type": "code",
   "execution_count": 7,
   "id": "eb4f0e9e",
   "metadata": {},
   "outputs": [
    {
     "name": "stdout",
     "output_type": "stream",
     "text": [
      "['night', 'gone', 'out', 'the', 'shed', 'fill', 'the', 'coal']\n"
     ]
    }
   ],
   "source": [
    "#question 4\n",
    "#Create a function in python to find all three, four, and five character words in a string. \n",
    "#The use of the re.compile() method is mandatory.\n",
    "pattern=re.compile(r'\\b\\w{3}\\b|\\b\\w{4}\\b|\\b\\w{5}\\b')\n",
    "def char_word(string):\n",
    "    result=pattern.findall(string)\n",
    "    return result\n",
    "print(char_word(\"on school night, I'd gone out to the shed to fill up the coal bucket\"))\n",
    "\n"
   ]
  },
  {
   "cell_type": "code",
   "execution_count": null,
   "id": "ea55321c",
   "metadata": {},
   "outputs": [],
   "source": []
  },
  {
   "cell_type": "code",
   "execution_count": 348,
   "id": "3b4986da",
   "metadata": {},
   "outputs": [
    {
     "name": "stdout",
     "output_type": "stream",
     "text": [
      "example .com\n",
      "hr@fliprobo .com\n",
      "github .com\n",
      "Hello Data Science World\n",
      "Data Scientist\n"
     ]
    }
   ],
   "source": [
    "#Question 5-Question 5- Create a function in Python to remove the parenthesis in a list of strings. The use of the re.compile() method is mandatory.\n",
    "#Sample Text: [\"example (.com)\", \"hr@fliprobo (.com)\", \"github (.com)\", \"Hello (Data Science World)\", \"Data (Scientist)\"]\n",
    "\n",
    "\n",
    "import regex as re\n",
    "pat=re.compile((r'[\\(\\)]'))\n",
    "items= [\"example (.com)\", \"hr@fliprobo (.com)\", \"github (.com)\",\"Hello (Data Science World)\",\"Data (Scientist)\"]\n",
    "for msg in items:\n",
    "    result=pat.sub('',msg)\n",
    "    print(result)\n"
   ]
  },
  {
   "cell_type": "code",
   "execution_count": 390,
   "id": "2ad1422c",
   "metadata": {},
   "outputs": [
    {
     "name": "stdout",
     "output_type": "stream",
     "text": [
      "example\n",
      "hr@fliprobo\n",
      "github\n",
      "Hello\n",
      "Data\n"
     ]
    }
   ],
   "source": [
    "#question 6\n",
    "#write a python program to remove the parenthesis area from the text stored in the text file using Regular Expression.\n",
    "#Sample Text: [\"example (.com)\", \"hr@fliprobo (.com)\", \"github (.com)\", \"Hello (Data Science World)\", \"Data (Scientist)\"]\n",
    "#Expected Output: [\"example\", \"hr@fliprobo\", \"github\", \"Hello\", \"Data\"]\n",
    "#Note- Store given sample text in the text file and then to remove the parenthesis area from the text.\n",
    "#Text=[\"example (.com)\", \"hr@fliprobo (.com)\", \"github (.com)\", \"Hello (Data Science World)\", \"Data (Scientist)\"\n",
    "pat=re.compile((r\" ?\\([^)]+\\)\"))\n",
    "string = [\"example (.com)\", \"hr@fliprobo (.com)\", \"github (.com)\",\"Hello (Data Science World)\",\"Data (Scientist)\"]\n",
    "for msg in string:\n",
    "    result=pat.sub('',msg)\n",
    "    print(result)\n",
    "\n"
   ]
  },
  {
   "cell_type": "code",
   "execution_count": 472,
   "id": "a2fe58a7",
   "metadata": {},
   "outputs": [
    {
     "name": "stdout",
     "output_type": "stream",
     "text": [
      "RegularExpression 1IsAn 2ImportantTopic 3InPython\n"
     ]
    }
   ],
   "source": []
  },
  {
   "cell_type": "code",
   "execution_count": 572,
   "id": "31f07a70",
   "metadata": {},
   "outputs": [
    {
     "name": "stdout",
     "output_type": "stream",
     "text": [
      "['Importance', 'Of', 'Regular', 'Expressions', 'In', 'Python']\n"
     ]
    }
   ],
   "source": [
    "#Question 7- Write a regular expression in Python to split a string into uppercase letters.\n",
    "#Sample text: “ImportanceOfRegularExpressionsInPython”\n",
    "#Expected Output: [‘Importance’, ‘Of’, ‘Regular’, ‘Expression’, ‘In’, ‘Python’]\n",
    "import re\n",
    "text=\"ImportanceOfRegularExpressionsInPython\"\n",
    "pat=r'[A-Z][^A-Z]+'\n",
    "result=re.findall(pat,text)\n",
    "print(result)"
   ]
  },
  {
   "cell_type": "code",
   "execution_count": 8,
   "id": "e9722a09",
   "metadata": {},
   "outputs": [
    {
     "name": "stdout",
     "output_type": "stream",
     "text": [
      "RegularExpression 1IsAn 2ImportantTopic 3InPython\n"
     ]
    }
   ],
   "source": [
    "#question 8\n",
    "#Create a function in python to insert spaces between words starting with numbers.\n",
    "#Sample Text: “RegularExpression1IsAn2ImportantTopic3InPython\"\n",
    "#Expected Output: RegularExpression 1IsAn 2ImportantTopic 3InPython\n",
    "import re\n",
    "def insert_space(Text):\n",
    "    x=re.sub(r'(\\d)',r' \\1',Text)\n",
    "    return x\n",
    "print(insert_space(\"RegularExpression1IsAn2ImportantTopic3InPython\"))"
   ]
  },
  {
   "cell_type": "code",
   "execution_count": 9,
   "id": "b94369f4",
   "metadata": {},
   "outputs": [
    {
     "name": "stdout",
     "output_type": "stream",
     "text": [
      "RegularExpression 1 IsAn 2 ImportantTopic 3 InPython\n"
     ]
    }
   ],
   "source": [
    "#Question 9- Create a function in python to insert spaces between words starting with capital letters or with numbers.\n",
    "#Sample Text: “RegularExpression1IsAn2ImportantTopic3InPython\"\n",
    "#Expected Output:  RegularExpression 1 IsAn 2 ImportantTopic 3 InPython\n",
    "import re\n",
    "def insert_space(Text):\n",
    "    x=re.sub(r'(\\d)',r' \\1 ',Text)\n",
    "    return x\n",
    "print(insert_space(\"RegularExpression1IsAn2ImportantTopic3InPython\"))"
   ]
  },
  {
   "cell_type": "code",
   "execution_count": 583,
   "id": "c5d78a92",
   "metadata": {},
   "outputs": [
    {
     "name": "stdout",
     "output_type": "stream",
     "text": [
      "['xyz@domain.com']\n",
      "['xyz.abc@sdomain.domain.com']\n",
      "['hr@fliprobo.com']\n"
     ]
    }
   ],
   "source": [
    "#Question 10- Write a python program to extract email address from the text stored in the text file using Regular Expression.\n",
    "#Sample Text- Hello my name is Data Science and my email address is xyz@domain.com \n",
    "#and alternate email address is xyz.abc@sdomain.domain.com. \n",
    "#Please contact us at hr@fliprobo.com for further information. \n",
    "#Expected Output: \n",
    "#['xyz@domain.com', 'xyz.abc@sdomain.domain.com']\n",
    "#['hr@fliprobo.com']\n",
    "#Note- Store given sample text in the text file and then extract email addresses.\n",
    "import re\n",
    "with open(\"C:/Users/johan/OneDrive/Documents/sample.txt\") as file:\n",
    "    for line in file:\n",
    "        pattern='[a-zA-Z0-9._%+-]+@[a-zA-Z0-9.-]+\\.[a-zA-z]{2,}'\n",
    "        urls=re.findall(pattern,line)\n",
    "        print(urls)"
   ]
  },
  {
   "cell_type": "code",
   "execution_count": 636,
   "id": "0dbbf94f",
   "metadata": {},
   "outputs": [
    {
     "name": "stdout",
     "output_type": "stream",
     "text": [
      "<re.Match object; span=(0, 9), match='Reg_ular9'>\n"
     ]
    }
   ],
   "source": [
    "#Question 11- Write a Python program to match a string that contains \n",
    "#only upper and lowercase letters, numbers, and underscores.\n",
    "string=\"Reg_ular9 Expression 1IsAn 2Important Topic 3In_Python\"\n",
    "pat='^[a-zA-z0-9_]+'\n",
    "result=re.match(pat,string)\n",
    "print(result)\n",
    "#print(result.group())"
   ]
  },
  {
   "cell_type": "code",
   "execution_count": 655,
   "id": "bf2cf6da",
   "metadata": {},
   "outputs": [
    {
     "name": "stdout",
     "output_type": "stream",
     "text": [
      "<re.Match object; span=(8, 9), match='7'>\n",
      "7\n"
     ]
    }
   ],
   "source": [
    "#Question 12- Write a Python program where a string will start with a specific number. \n",
    "string=\"Regular 7Expression 1IsAn 2Important Topic 3In_Python\"\n",
    "pat=r'\\d+'\n",
    "result=re.search(pat,string)\n",
    "print(result)\n",
    "print(result.group())"
   ]
  },
  {
   "cell_type": "code",
   "execution_count": 699,
   "id": "26786da4",
   "metadata": {},
   "outputs": [
    {
     "name": "stdout",
     "output_type": "stream",
     "text": [
      "200.40.9.400\n"
     ]
    }
   ],
   "source": [
    "#Question 13- Write a Python program to remove leading zeros from an IP address\n",
    "ip=\"200.040.009.400\"\n",
    "pattern=r'\\.0+'\n",
    "result=re.sub(pattern,'.',ip)\n",
    "print(result)\n"
   ]
  },
  {
   "cell_type": "code",
   "execution_count": 143,
   "id": "751ad1b1",
   "metadata": {},
   "outputs": [
    {
     "name": "stdout",
     "output_type": "stream",
     "text": [
      "['August 15th 1947']\n"
     ]
    }
   ],
   "source": [
    "#Question 14- Write a regular expression in python to match a date string in the form of Month name followed by\n",
    "# day number and year stored in a text file.\n",
    "#Sample text :  ' On August 15th 1947 that India was declared independent from British colonialism,\n",
    "#and the reins of control were handed over to the leaders of the Country’.\n",
    "#Expected Output- August 15th 1947\n",
    "#Note- Store given sample text in the text file and then extract the date string asked format.\n",
    "pat=r'([A-Z][a-z]+ \\d{1,2}(?:st|nd|rd|th) \\d{4})\\b'\n",
    "with open(\"C:/Users/johan/OneDrive/Documents/assignmenttest2.txt\") as file:\n",
    "        for line in file:\n",
    "            result=re.findall(pat,line)\n",
    "            print(result)"
   ]
  },
  {
   "cell_type": "code",
   "execution_count": 716,
   "id": "e705d1c2",
   "metadata": {},
   "outputs": [
    {
     "name": "stdout",
     "output_type": "stream",
     "text": [
      "<re.Match object; span=(16, 19), match='fox'>\n",
      "<re.Match object; span=(40, 43), match='dog'>\n",
      "None\n"
     ]
    }
   ],
   "source": [
    "#Question 15- Write a Python program to search some literals strings in a string. \n",
    "#Sample text : 'The quick brown fox jumps over the lazy dog.'\n",
    "#Searched words : 'fox', 'dog', 'horse'\n",
    "import re\n",
    "text='The quick brown fox jumps over the lazy dog.'\n",
    "pattern=['fox', 'dog', 'horse']\n",
    "for i in pattern:\n",
    "    result=re.search(i,text)\n",
    "    print(result)"
   ]
  },
  {
   "cell_type": "code",
   "execution_count": 725,
   "id": "e0e516f6",
   "metadata": {},
   "outputs": [
    {
     "name": "stdout",
     "output_type": "stream",
     "text": [
      "<re.Match object; span=(16, 19), match='fox'>\n",
      "16\n"
     ]
    }
   ],
   "source": [
    "#Question 16- Write a Python program to search a literals string in a string and\n",
    "#also find the location within the original string where the pattern occurs\n",
    "text='The quick brown fox jumps over the lazy dog.'\n",
    "pattern='fox'\n",
    "result=re.search(pattern,text)\n",
    "print(result)\n",
    "print(result.start())"
   ]
  },
  {
   "cell_type": "code",
   "execution_count": 789,
   "id": "c21c93c6",
   "metadata": {},
   "outputs": [
    {
     "name": "stdout",
     "output_type": "stream",
     "text": [
      "['exercise', 'exercise', 'exercise']\n"
     ]
    }
   ],
   "source": [
    "#Question 17- Write a Python program to find the substrings within a string.\n",
    "#Sample text : 'Python exercises, PHP exercises, C# exercises'\n",
    "#Pattern : 'exercises'.\n",
    "text=\"Python exercises, PHP exercise, C# exercises\"\n",
    "pattern=r'(\\bexercise)'\n",
    "result=re.findall(pattern,text)\n",
    "print(result)"
   ]
  },
  {
   "cell_type": "code",
   "execution_count": 806,
   "id": "7b1e7bf3",
   "metadata": {},
   "outputs": [
    {
     "name": "stdout",
     "output_type": "stream",
     "text": [
      "14\n",
      "0\n"
     ]
    }
   ],
   "source": [
    "#Question 18 Write a Python program to find the occurrence and position of the substrings within a string.\n",
    "string=[\"I was born on June 24\", \"June is the month of leaves and roses\"]\n",
    "pattern=r'(\\bJune)'\n",
    "for month in string:\n",
    "    result=re.search(pattern,month)\n",
    "    print(result.start())"
   ]
  },
  {
   "cell_type": "code",
   "execution_count": 852,
   "id": "28954ae1",
   "metadata": {},
   "outputs": [
    {
     "name": "stdout",
     "output_type": "stream",
     "text": [
      "I was born on 12-10-2000\n"
     ]
    }
   ],
   "source": [
    "#Question 19- Write a Python program to convert a date of yyyy-mm-dd format to dd-mm-yyyy format.\n",
    "string=\"I was born on 2000-10-12\"\n",
    "pattern=r'(\\d{4})\\-(\\d{2})\\-(\\d{2})'\n",
    "result=re.sub(pattern,'\\\\3-\\\\2-\\\\1',string)\n",
    "print(result)"
   ]
  },
  {
   "cell_type": "code",
   "execution_count": 888,
   "id": "36162c87",
   "metadata": {},
   "outputs": [
    {
     "name": "stdout",
     "output_type": "stream",
     "text": [
      "[('01', '.12'), ('145', '.8'), ('3', '.01'), ('27', '.25'), ('0', '.25')]\n"
     ]
    }
   ],
   "source": [
    "#Question 20- Create a function in python to find all decimal numbers with a precision of 1 or 2 in a string. \n",
    "#The use of the re.compile() method is mandatory.\n",
    "#Sample Text: \"01.12 0132.123 2.31875 145.8 3.01 27.25 0.25\"\n",
    "#Expected Output: ['01.12', '145.8', '3.01', '27.25', '0.25']\n",
    "string=\"01.12 0132.123 2.31875 145.8 3.01 27.25 0.25\"\n",
    "pattern=re.compile(r'(\\d{1,3})(\\.\\d{1,2})\\b')\n",
    "result=pattern.findall(string)\n",
    "print(result)"
   ]
  },
  {
   "cell_type": "code",
   "execution_count": 897,
   "id": "664c59f1",
   "metadata": {},
   "outputs": [
    {
     "name": "stdout",
     "output_type": "stream",
     "text": [
      "<re.Match object; span=(24, 43), match='43 centuries and 91'>\n"
     ]
    }
   ],
   "source": [
    "#Question 21- Write a Python program to separate and print the numbers and their position of a given string.\n",
    "text=\"Rohit sharma has scored 43 centuries and 91 half centuries\"\n",
    "pattern=r'(\\b\\d+).+(\\b\\d+)'\n",
    "result=re.search(pattern,text)\n",
    "print(result)"
   ]
  },
  {
   "cell_type": "code",
   "execution_count": 2,
   "id": "11a0db63",
   "metadata": {},
   "outputs": [
    {
     "name": "stdout",
     "output_type": "stream",
     "text": [
      "950\n"
     ]
    }
   ],
   "source": [
    "#Question 22 Write a regular expression in python program to extract maximum/largest numeric value from a string.\n",
    "#Sample Text:  'My marks in each semester are: 947, 896, 926, 524, 734, 950, 642'\n",
    "#Expected Output: 950\n",
    "import re\n",
    "text='My marks in each semester are: 947, 896, 926, 524, 734, 950, 642'\n",
    "pattern='\\d+'\n",
    "result=re.findall(pattern,text)\n",
    "max_value=max(result)\n",
    "print(max_value)\n"
   ]
  },
  {
   "cell_type": "code",
   "execution_count": 10,
   "id": "5a4610d1",
   "metadata": {},
   "outputs": [
    {
     "name": "stdout",
     "output_type": "stream",
     "text": [
      " Regular Expression Is An Important Topic In Python\n"
     ]
    }
   ],
   "source": [
    "#Question 22 Create a function in python to insert spaces between words starting with capital letters.\n",
    "#Sample Text: “RegularExpressionIsAnImportantTopicInPython\"\n",
    "#Expected Output: Regular Expression Is An Important Topic In Python\n",
    "\n",
    "def insert_space(Text):\n",
    "    x=re.sub(r'([A-Z])+',r' \\1',Text)\n",
    "    return x\n",
    "print(insert_space(\"RegularExpressionIsAnImportantTopicInPython\"))"
   ]
  },
  {
   "cell_type": "code",
   "execution_count": 33,
   "id": "5f6224fc",
   "metadata": {},
   "outputs": [
    {
     "name": "stdout",
     "output_type": "stream",
     "text": [
      "['Rohit', 'Sharma', 'Centuries']\n"
     ]
    }
   ],
   "source": [
    "#Question 24- Python regex to find sequences of one upper case letter followed by lower case letters\n",
    "\n",
    "string=\"Rohit Sharma has scored 43 Centuries and 91 half centuries\"\n",
    "pattern=r'[A-Z][a-z]+'\n",
    "result=re.findall(pattern,string)\n",
    "print(result)"
   ]
  },
  {
   "cell_type": "code",
   "execution_count": 35,
   "id": "1ab84532",
   "metadata": {},
   "outputs": [
    {
     "name": "stdout",
     "output_type": "stream",
     "text": [
      "Hello hello world\n"
     ]
    }
   ],
   "source": [
    "#Question 25- Write a Python program to remove continuous duplicate words from Sentence using Regular Expression.\n",
    "#Sample Text: \"Hello hello world world\"\n",
    "#Expected Output: Hello hello world\n",
    "string=\"Hello hello world world\"\n",
    "pattern=r'\\b(\\w+)(?:\\W+\\1\\b)'\n",
    "result=re.sub(pattern,r'\\1',string)\n",
    "print(result)"
   ]
  },
  {
   "cell_type": "code",
   "execution_count": 41,
   "id": "6c2b0aaf",
   "metadata": {},
   "outputs": [
    {
     "name": "stdout",
     "output_type": "stream",
     "text": [
      "<regex.Match object; span=(5, 6), match='9'>\n",
      "end with alphanumeric\n"
     ]
    }
   ],
   "source": [
    "##Question 26 Write a python program using RegEx to accept string ending with alphanumeric character.\n",
    "import regex as re\n",
    "string=\"john99\"\n",
    "pattern='[a-zA-Z0-9]$'\n",
    "result=re.search(pattern,string)\n",
    "print(result)\n",
    "if result==None:\n",
    "        print(\"doesn't end with alphanumeric\")\n",
    "else:\n",
    "    print(\"end with alphanumeric\")\n"
   ]
  },
  {
   "cell_type": "code",
   "execution_count": 64,
   "id": "3e00d70d",
   "metadata": {},
   "outputs": [
    {
     "name": "stdout",
     "output_type": "stream",
     "text": [
      "['#Doltiwal', '#xyzabc', '#Demonetization']\n"
     ]
    }
   ],
   "source": [
    "#Question 27-Write a python program using RegEx to extract the hashtags.\n",
    "#Sample Text:  \"\"\"RT @kapil_kausik: #Doltiwal I mean #xyzabc is \"hurt\" by #Demonetization as the same has rendered USELESS <ed><U+00A0><U+00BD><ed><U+00B1><U+0089> \"acquired funds\" No wo\"\"\"\n",
    "#Expected Output: ['#Doltiwal', '#xyzabc', '#Demonetization']\n",
    "text=\"\"\"RT @kapil_kausik: #Doltiwal I mean #xyzabc is \"hurt\" by #Demonetization as the same has rendered USELESS <ed><U+00A0><U+00BD><ed><U+00B1><U+0089> \"acquired funds\" No wo\"\"\"\n",
    "pattern=r'(\\#\\w+)\\b'\n",
    "result=re.findall(pattern,text)\n",
    "print(result)\n"
   ]
  },
  {
   "cell_type": "code",
   "execution_count": 90,
   "id": "36b1cb11",
   "metadata": {},
   "outputs": [
    {
     "name": "stdout",
     "output_type": "stream",
     "text": [
      "@Jags123456 Bharat band on 28??<ed><ed>Those who  are protesting #demonetization  are all different party leaders\n"
     ]
    }
   ],
   "source": [
    "#Question 28- Write a python program using RegEx to remove <U+..> like symbols\n",
    "#Check the below sample text, there are strange symbols something of the sort <U+..> all over the place. You need to come up with a general Regex expression that will cover all such symbols.\n",
    "#Sample Text: \"@Jags123456 Bharat band on 28??<ed><U+00A0><U+00BD><ed><U+00B8><U+0082>Those who  are protesting #demonetization  are all different party leaders\"\n",
    "#Expected Output: @Jags123456 Bharat band on 28??<ed><ed>Those who  are protesting #demonetization  are all different party leaders\n",
    "\n",
    "text=\"@Jags123456 Bharat band on 28??<ed><U+00A0><U+00BD><ed><U+00B8><U+0082>Those who  are protesting #demonetization  are all different party leaders\"\n",
    "pat=r'<U\\+\\w+>'\n",
    "result=re.sub(pat,'',text)\n",
    "print(result)"
   ]
  },
  {
   "cell_type": "code",
   "execution_count": 94,
   "id": "47a5493c",
   "metadata": {},
   "outputs": [
    {
     "name": "stdout",
     "output_type": "stream",
     "text": [
      "['12-09-1992', '15-12-1999']\n"
     ]
    }
   ],
   "source": [
    "#Question 29- Write a python program to extract dates from the text stored in the text file.\n",
    "#Sample Text: Ron was born on 12-09-1992 and he was admitted to school 15-12-1999.\n",
    "#Note- Store this sample text in the file and then extract dates.\n",
    "with open(\"C:/Users/johan/OneDrive/Documents/assignmenttest.txt\") as file:\n",
    "    for line in file:\n",
    "        pattern=r'\\d{2}-\\d{2}-\\d{4}'\n",
    "        result=re.findall(pattern,line)\n",
    "print(result)\n"
   ]
  },
  {
   "cell_type": "code",
   "execution_count": 122,
   "id": "ca6642ef",
   "metadata": {},
   "outputs": [
    {
     "name": "stdout",
     "output_type": "stream",
     "text": [
      "following example creates ArrayList a capacity elements. 4 elements added ArrayList ArrayList trimmed accordingly.\n"
     ]
    }
   ],
   "source": [
    "#Question 30- Create a function in python to remove all words from a string of length between 2 and 4.\n",
    "#The use of the re.compile() method is mandatory.\n",
    "#Sample Text: \"The following example creates an ArrayList with a capacity of 50 elements. \n",
    "#4 elements are then added to the ArrayList and the ArrayList is trimmed accordingly.\"\n",
    "#Expected Output:  following example creates ArrayList a capacity elements. 4 elements added ArrayList ArrayList trimmed accordingly.\n",
    "text=\"The following example creates an ArrayList with a capacity of 50 elements. 4 elements are then added to the ArrayList and the ArrayList is trimmed accordingly.\"\n",
    "pat=re.compile(r'\\b\\w{2,4}\\s')\n",
    "result=pat.sub('',text)\n",
    "print(result)"
   ]
  },
  {
   "cell_type": "code",
   "execution_count": null,
   "id": "de95caf1",
   "metadata": {},
   "outputs": [],
   "source": []
  }
 ],
 "metadata": {
  "kernelspec": {
   "display_name": "Python 3 (ipykernel)",
   "language": "python",
   "name": "python3"
  },
  "language_info": {
   "codemirror_mode": {
    "name": "ipython",
    "version": 3
   },
   "file_extension": ".py",
   "mimetype": "text/x-python",
   "name": "python",
   "nbconvert_exporter": "python",
   "pygments_lexer": "ipython3",
   "version": "3.10.9"
  }
 },
 "nbformat": 4,
 "nbformat_minor": 5
}
