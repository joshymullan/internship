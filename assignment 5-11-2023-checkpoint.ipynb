{
 "cells": [
  {
   "cell_type": "markdown",
   "id": "12fb10db",
   "metadata": {},
   "source": [
    "# assignment 2"
   ]
  },
  {
   "cell_type": "markdown",
   "id": "ac8ac92e",
   "metadata": {},
   "source": [
    "# question 4"
   ]
  },
  {
   "cell_type": "code",
   "execution_count": 459,
   "id": "319ee56b",
   "metadata": {},
   "outputs": [
    {
     "name": "stdout",
     "output_type": "stream",
     "text": [
      "Requirement already satisfied: selenium in c:\\users\\johan\\anaconda3\\lib\\site-packages (4.15.0)\n",
      "Requirement already satisfied: urllib3[socks]<3,>=1.26 in c:\\users\\johan\\anaconda3\\lib\\site-packages (from selenium) (1.26.14)\n",
      "Requirement already satisfied: trio-websocket~=0.9 in c:\\users\\johan\\anaconda3\\lib\\site-packages (from selenium) (0.11.1)\n",
      "Requirement already satisfied: certifi>=2021.10.8 in c:\\users\\johan\\anaconda3\\lib\\site-packages (from selenium) (2022.12.7)\n",
      "Requirement already satisfied: trio~=0.17 in c:\\users\\johan\\anaconda3\\lib\\site-packages (from selenium) (0.22.2)\n",
      "Requirement already satisfied: outcome in c:\\users\\johan\\anaconda3\\lib\\site-packages (from trio~=0.17->selenium) (1.3.0.post0)\n",
      "Requirement already satisfied: idna in c:\\users\\johan\\anaconda3\\lib\\site-packages (from trio~=0.17->selenium) (3.4)\n",
      "Requirement already satisfied: cffi>=1.14 in c:\\users\\johan\\anaconda3\\lib\\site-packages (from trio~=0.17->selenium) (1.15.1)\n",
      "Requirement already satisfied: sortedcontainers in c:\\users\\johan\\anaconda3\\lib\\site-packages (from trio~=0.17->selenium) (2.4.0)\n",
      "Requirement already satisfied: exceptiongroup>=1.0.0rc9 in c:\\users\\johan\\anaconda3\\lib\\site-packages (from trio~=0.17->selenium) (1.1.3)\n",
      "Requirement already satisfied: sniffio in c:\\users\\johan\\anaconda3\\lib\\site-packages (from trio~=0.17->selenium) (1.2.0)\n",
      "Requirement already satisfied: attrs>=20.1.0 in c:\\users\\johan\\anaconda3\\lib\\site-packages (from trio~=0.17->selenium) (22.1.0)\n",
      "Requirement already satisfied: wsproto>=0.14 in c:\\users\\johan\\anaconda3\\lib\\site-packages (from trio-websocket~=0.9->selenium) (1.2.0)\n",
      "Requirement already satisfied: PySocks!=1.5.7,<2.0,>=1.5.6 in c:\\users\\johan\\anaconda3\\lib\\site-packages (from urllib3[socks]<3,>=1.26->selenium) (1.7.1)\n",
      "Requirement already satisfied: pycparser in c:\\users\\johan\\anaconda3\\lib\\site-packages (from cffi>=1.14->trio~=0.17->selenium) (2.21)\n",
      "Requirement already satisfied: h11<1,>=0.9.0 in c:\\users\\johan\\anaconda3\\lib\\site-packages (from wsproto>=0.14->trio-websocket~=0.9->selenium) (0.14.0)\n"
     ]
    }
   ],
   "source": [
    "!pip install selenium"
   ]
  },
  {
   "cell_type": "code",
   "execution_count": 460,
   "id": "0480645e",
   "metadata": {},
   "outputs": [],
   "source": [
    "import selenium\n",
    "from selenium import webdriver\n",
    "from selenium.webdriver.common.by import By\n",
    "import warnings \n",
    "warnings.filterwarnings(\"ignore\")\n",
    "import time"
   ]
  },
  {
   "cell_type": "code",
   "execution_count": 461,
   "id": "237801af",
   "metadata": {},
   "outputs": [],
   "source": [
    "driver=webdriver.Chrome()\n",
    "url=\"https://www.flipkart.com/\"\n",
    "driver.get(url)"
   ]
  },
  {
   "cell_type": "code",
   "execution_count": 462,
   "id": "8832e65a",
   "metadata": {},
   "outputs": [],
   "source": [
    "search_g= driver.find_element(By.XPATH,\"//input[@type='text']\")\n",
    "search_g\n",
    "search_g.send_keys('sunglasses')"
   ]
  },
  {
   "cell_type": "code",
   "execution_count": 463,
   "id": "7ac478d3",
   "metadata": {},
   "outputs": [
    {
     "data": {
      "text/plain": [
       "<selenium.webdriver.remote.webelement.WebElement (session=\"a949ecdbff7d681150b5251c8e4eebad\", element=\"914A16779BBB5779D55BE0810E6DA594_element_69\")>"
      ]
     },
     "execution_count": 463,
     "metadata": {},
     "output_type": "execute_result"
    }
   ],
   "source": [
    "search_btn=driver.find_element(By.CLASS_NAME,\"_2iLD__\")\n",
    "search_btn"
   ]
  },
  {
   "cell_type": "code",
   "execution_count": 465,
   "id": "df13cd19",
   "metadata": {},
   "outputs": [],
   "source": [
    "search_btn=driver.find_element(By.CLASS_NAME,\"_2iLD__\")\n",
    "search_btn.click()"
   ]
  },
  {
   "cell_type": "code",
   "execution_count": 466,
   "id": "df0bbd79",
   "metadata": {},
   "outputs": [],
   "source": [
    "Brand_name=[]\n",
    "Price=[]\n",
    "p_de=[]\n"
   ]
  },
  {
   "cell_type": "code",
   "execution_count": 488,
   "id": "fa9a30c3",
   "metadata": {},
   "outputs": [],
   "source": [
    "for i in range(3):\n",
    "    B_name=driver.find_elements(By.XPATH,\"//div[@class='_2WkVRV']\")\n",
    "    pri =driver.find_elements(By.XPATH,\"//a[@class='IRpwTa']\")\n",
    "    p_des=driver.find_elements(By.XPATH,\"//div[@class='_25b18c']\")\n",
    "   \n",
    "    for j  in B_name:\n",
    "        Brand_name.append(j.text)\n",
    "    Brand_name[:100]    \n",
    "           \n",
    "    for k in pri:\n",
    "        Price.append(k.text)\n",
    "    Price[:100] \n",
    "     \n",
    "    for l in p_des:\n",
    "        p_de.append(l.text)\n",
    "    p_de[:100] \n",
    "    \n",
    "    "
   ]
  },
  {
   "cell_type": "code",
   "execution_count": 489,
   "id": "b1dac5d6",
   "metadata": {},
   "outputs": [
    {
     "data": {
      "text/plain": [
       "['iCopertina',\n",
       " 'ROYAL SON',\n",
       " 'Fastrack',\n",
       " 'SRPM',\n",
       " 'iCopertina',\n",
       " 'Fastrack',\n",
       " 'ROADWAY',\n",
       " 'VINCENT CHASE',\n",
       " 'GANSTA',\n",
       " 'ROYAL SON',\n",
       " 'Nicole Miller',\n",
       " 'Eyewearlabs',\n",
       " 'Rich Club',\n",
       " 'ROADWAY',\n",
       " 'PIRASO',\n",
       " 'ROZZETTA CRAFT',\n",
       " 'iCopertina',\n",
       " 'john jacobs',\n",
       " 'Elligator',\n",
       " 'ROADWAY',\n",
       " 'VINCENT CHASE',\n",
       " 'iCopertina',\n",
       " 'Roadster',\n",
       " 'ROADWAY',\n",
       " 'ROZZETTA CRAFT',\n",
       " 'Eyenaks',\n",
       " 'ROYAL SON',\n",
       " 'ROYAL SON',\n",
       " 'Roadster',\n",
       " 'ROADWAY',\n",
       " 'ROYAL SON',\n",
       " 'VINCENT CHASE',\n",
       " 'Fastrack',\n",
       " 'METRONAUT',\n",
       " 'Roadster',\n",
       " 'PIRASO',\n",
       " 'IRUS',\n",
       " 'ROYAL SON',\n",
       " 'Rich Club',\n",
       " 'GANSTA',\n",
       " 'iCopertina',\n",
       " 'ROYAL SON',\n",
       " 'Fastrack',\n",
       " 'SRPM',\n",
       " 'iCopertina',\n",
       " 'Fastrack',\n",
       " 'ROADWAY',\n",
       " 'VINCENT CHASE',\n",
       " 'GANSTA',\n",
       " 'ROYAL SON',\n",
       " 'Nicole Miller',\n",
       " 'Eyewearlabs',\n",
       " 'Rich Club',\n",
       " 'ROADWAY',\n",
       " 'PIRASO',\n",
       " 'ROZZETTA CRAFT',\n",
       " 'iCopertina',\n",
       " 'john jacobs',\n",
       " 'Elligator',\n",
       " 'ROADWAY',\n",
       " 'VINCENT CHASE',\n",
       " 'iCopertina',\n",
       " 'Roadster',\n",
       " 'ROADWAY',\n",
       " 'ROZZETTA CRAFT',\n",
       " 'Eyenaks',\n",
       " 'ROYAL SON',\n",
       " 'ROYAL SON',\n",
       " 'Roadster',\n",
       " 'ROADWAY',\n",
       " 'ROYAL SON',\n",
       " 'VINCENT CHASE',\n",
       " 'Fastrack',\n",
       " 'METRONAUT',\n",
       " 'Roadster',\n",
       " 'PIRASO',\n",
       " 'IRUS',\n",
       " 'ROYAL SON',\n",
       " 'Rich Club',\n",
       " 'GANSTA',\n",
       " 'iCopertina',\n",
       " 'ROYAL SON',\n",
       " 'Fastrack',\n",
       " 'SRPM',\n",
       " 'iCopertina',\n",
       " 'Fastrack',\n",
       " 'ROADWAY',\n",
       " 'VINCENT CHASE',\n",
       " 'GANSTA',\n",
       " 'ROYAL SON',\n",
       " 'Nicole Miller',\n",
       " 'Eyewearlabs',\n",
       " 'Rich Club',\n",
       " 'ROADWAY',\n",
       " 'PIRASO',\n",
       " 'ROZZETTA CRAFT',\n",
       " 'iCopertina',\n",
       " 'john jacobs',\n",
       " 'Elligator',\n",
       " 'ROADWAY']"
      ]
     },
     "execution_count": 489,
     "metadata": {},
     "output_type": "execute_result"
    }
   ],
   "source": [
    "Brand_name[:100]"
   ]
  },
  {
   "cell_type": "code",
   "execution_count": 490,
   "id": "d6297058",
   "metadata": {},
   "outputs": [
    {
     "data": {
      "text/plain": [
       "['UV Protection Retro Square Sunglasses (Free Size)',\n",
       " 'Mirrored Aviator Sunglasses (58)',\n",
       " 'UV Protection Wayfarer Sunglasses (58)',\n",
       " 'UV Protection Wayfarer Sunglasses (50)',\n",
       " 'UV Protection Rectangular Sunglasses (Free Size)',\n",
       " 'UV Protection Rectangular Sunglasses (Free Size)',\n",
       " 'UV Protection Retro Square Sunglasses (Free Size)',\n",
       " 'by Lenskart Polarized, UV Protection Rectangular Sungla...',\n",
       " 'Night Vision, Riding Glasses Rectangular Sunglasses (60...',\n",
       " 'UV Protection, Gradient Butterfly Sunglasses (62)',\n",
       " 'Polarized Butterfly Sunglasses (64)',\n",
       " 'Polarized, UV Protection Wayfarer Sunglasses (51)',\n",
       " 'UV Protection Retro Square Sunglasses (54)',\n",
       " 'UV Protection Wayfarer Sunglasses (Free Size)',\n",
       " 'UV Protection Clubmaster Sunglasses (54)',\n",
       " 'UV Protection Aviator Sunglasses (62)',\n",
       " 'UV Protection Retro Square Sunglasses (Free Size)',\n",
       " 'UV Protection Round Sunglasses (51)',\n",
       " 'UV Protection Aviator, Wayfarer Sunglasses (54)',\n",
       " 'UV Protection Wayfarer, Sports, Spectacle , Retro Squar...',\n",
       " 'Polarized, UV Protection Round Sunglasses (51)',\n",
       " 'UV Protection Spectacle Sunglasses (Free Size)',\n",
       " 'UV Protection Aviator Sunglasses (58)',\n",
       " 'UV Protection Retro Square, Wayfarer, Sports Sunglasses...',\n",
       " 'Polarized, Riding Glasses Sports, Wrap-around Sunglasse...',\n",
       " 'UV Protection Rectangular Sunglasses (Free Size)',\n",
       " 'UV Protection Rectangular, Retro Square Sunglasses (58)',\n",
       " 'Others Retro Square Sunglasses (58)',\n",
       " 'UV Protection Aviator Sunglasses (58)',\n",
       " 'UV Protection Retro Square Sunglasses (Free Size)',\n",
       " 'Mirrored Aviator Sunglasses (55)',\n",
       " 'Polarized, UV Protection Sports Sunglasses (69)',\n",
       " 'UV Protection Shield Sunglasses (Free Size)',\n",
       " 'UV Protection Sunglass',\n",
       " 'UV Protection Rectangular Sunglasses (59)',\n",
       " 'UV Protection Aviator Sunglasses (58)',\n",
       " 'UV Protection Wayfarer Sunglasses (53)',\n",
       " 'Polarized, UV Protection Retro Square Sunglasses (61)',\n",
       " 'UV Protection Round Sunglasses (50)',\n",
       " 'UV Protection Retro Square Sunglasses (Free Size)',\n",
       " 'Mirrored Aviator Sunglasses (58)',\n",
       " 'UV Protection Wayfarer Sunglasses (58)',\n",
       " 'UV Protection Wayfarer Sunglasses (50)',\n",
       " 'UV Protection Rectangular Sunglasses (Free Size)',\n",
       " 'UV Protection Rectangular Sunglasses (Free Size)',\n",
       " 'UV Protection Retro Square Sunglasses (Free Size)',\n",
       " 'by Lenskart Polarized, UV Protection Rectangular Sungla...',\n",
       " 'Night Vision, Riding Glasses Rectangular Sunglasses (60...',\n",
       " 'UV Protection, Gradient Butterfly Sunglasses (62)',\n",
       " 'Polarized Butterfly Sunglasses (64)',\n",
       " 'Polarized, UV Protection Wayfarer Sunglasses (51)',\n",
       " 'UV Protection Retro Square Sunglasses (54)',\n",
       " 'UV Protection Wayfarer Sunglasses (Free Size)',\n",
       " 'UV Protection Clubmaster Sunglasses (54)',\n",
       " 'UV Protection Aviator Sunglasses (62)',\n",
       " 'UV Protection Retro Square Sunglasses (Free Size)',\n",
       " 'UV Protection Round Sunglasses (51)',\n",
       " 'UV Protection Aviator, Wayfarer Sunglasses (54)',\n",
       " 'UV Protection Wayfarer, Sports, Spectacle , Retro Squar...',\n",
       " 'Polarized, UV Protection Round Sunglasses (51)',\n",
       " 'UV Protection Spectacle Sunglasses (Free Size)',\n",
       " 'UV Protection Aviator Sunglasses (58)',\n",
       " 'UV Protection Retro Square, Wayfarer, Sports Sunglasses...',\n",
       " 'Polarized, Riding Glasses Sports, Wrap-around Sunglasse...',\n",
       " 'UV Protection Rectangular Sunglasses (Free Size)',\n",
       " 'UV Protection Rectangular, Retro Square Sunglasses (58)',\n",
       " 'Others Retro Square Sunglasses (58)',\n",
       " 'UV Protection Aviator Sunglasses (58)',\n",
       " 'UV Protection Retro Square Sunglasses (Free Size)',\n",
       " 'Mirrored Aviator Sunglasses (55)',\n",
       " 'Polarized, UV Protection Sports Sunglasses (69)',\n",
       " 'UV Protection Shield Sunglasses (Free Size)',\n",
       " 'UV Protection Sunglass',\n",
       " 'UV Protection Rectangular Sunglasses (59)',\n",
       " 'UV Protection Aviator Sunglasses (58)',\n",
       " 'UV Protection Wayfarer Sunglasses (53)',\n",
       " 'Polarized, UV Protection Retro Square Sunglasses (61)',\n",
       " 'UV Protection Round Sunglasses (50)',\n",
       " 'UV Protection Retro Square Sunglasses (Free Size)',\n",
       " 'Mirrored Aviator Sunglasses (58)',\n",
       " 'UV Protection Wayfarer Sunglasses (58)',\n",
       " 'UV Protection Wayfarer Sunglasses (50)',\n",
       " 'UV Protection Rectangular Sunglasses (Free Size)',\n",
       " 'UV Protection Rectangular Sunglasses (Free Size)',\n",
       " 'UV Protection Retro Square Sunglasses (Free Size)',\n",
       " 'by Lenskart Polarized, UV Protection Rectangular Sungla...',\n",
       " 'Night Vision, Riding Glasses Rectangular Sunglasses (60...',\n",
       " 'UV Protection, Gradient Butterfly Sunglasses (62)',\n",
       " 'Polarized Butterfly Sunglasses (64)',\n",
       " 'Polarized, UV Protection Wayfarer Sunglasses (51)',\n",
       " 'UV Protection Retro Square Sunglasses (54)',\n",
       " 'UV Protection Wayfarer Sunglasses (Free Size)',\n",
       " 'UV Protection Clubmaster Sunglasses (54)',\n",
       " 'UV Protection Aviator Sunglasses (62)',\n",
       " 'UV Protection Retro Square Sunglasses (Free Size)',\n",
       " 'UV Protection Round Sunglasses (51)',\n",
       " 'UV Protection Aviator, Wayfarer Sunglasses (54)',\n",
       " 'UV Protection Wayfarer, Sports, Spectacle , Retro Squar...',\n",
       " 'Polarized, UV Protection Round Sunglasses (51)',\n",
       " 'UV Protection Spectacle Sunglasses (Free Size)']"
      ]
     },
     "execution_count": 490,
     "metadata": {},
     "output_type": "execute_result"
    }
   ],
   "source": [
    "Price[:100]"
   ]
  },
  {
   "cell_type": "code",
   "execution_count": 491,
   "id": "b8783932",
   "metadata": {},
   "outputs": [
    {
     "data": {
      "text/plain": [
       "['₹209₹99979% off',\n",
       " '₹339₹1,49977% off',\n",
       " '₹549₹1,09950% off',\n",
       " '₹149₹1,29988% off',\n",
       " '₹199₹99980% off',\n",
       " '₹449₹89950% off',\n",
       " '₹199₹1,29984% off',\n",
       " '₹799₹1,99960% off',\n",
       " '₹79₹1,29993% off',\n",
       " '₹489₹1,99975% off',\n",
       " '₹2,499₹9,99975% off',\n",
       " '₹1,236₹3,59965% off',\n",
       " '₹399₹1,29969% off',\n",
       " '₹254₹99974% off',\n",
       " '₹219₹1,59986% off',\n",
       " '₹599₹2,55576% off',\n",
       " '₹219₹99978% off',\n",
       " '₹1,299₹6,00078% off',\n",
       " '₹159₹1,29987% off',\n",
       " '₹242₹1,29981% off',\n",
       " '₹799₹1,99960% off',\n",
       " '₹199₹99980% off',\n",
       " '₹199₹94979% off',\n",
       " '₹199₹99980% off',\n",
       " '₹399₹1,99980% off',\n",
       " '₹365₹1,49975% off',\n",
       " '₹424₹1,49971% off',\n",
       " '₹424₹1,49971% off',\n",
       " '₹199₹89977% off',\n",
       " '₹354₹1,99982% off',\n",
       " '₹339₹1,49977% off',\n",
       " '₹719₹2,50071% off',\n",
       " '₹599₹99940% off',\n",
       " '₹199₹1,29984% off',\n",
       " '₹249₹1,19979% off',\n",
       " '₹275₹2,59989% off',\n",
       " '₹469₹89047% off',\n",
       " '₹641₹1,49957% off',\n",
       " '₹294₹99970% off',\n",
       " '₹199₹1,29984% off',\n",
       " '₹54950% off',\n",
       " '₹7993% off',\n",
       " '₹71971% off',\n",
       " '₹36575% off',\n",
       " '₹14988% off',\n",
       " '₹209₹99979% off',\n",
       " '₹339₹1,49977% off',\n",
       " '₹549₹1,09950% off',\n",
       " '₹149₹1,29988% off',\n",
       " '₹199₹99980% off',\n",
       " '₹449₹89950% off',\n",
       " '₹199₹1,29984% off',\n",
       " '₹799₹1,99960% off',\n",
       " '₹79₹1,29993% off',\n",
       " '₹489₹1,99975% off',\n",
       " '₹2,499₹9,99975% off',\n",
       " '₹1,236₹3,59965% off',\n",
       " '₹399₹1,29969% off',\n",
       " '₹254₹99974% off',\n",
       " '₹219₹1,59986% off',\n",
       " '₹599₹2,55576% off',\n",
       " '₹219₹99978% off',\n",
       " '₹1,299₹6,00078% off',\n",
       " '₹159₹1,29987% off',\n",
       " '₹242₹1,29981% off',\n",
       " '₹799₹1,99960% off',\n",
       " '₹199₹99980% off',\n",
       " '₹199₹94979% off',\n",
       " '₹199₹99980% off',\n",
       " '₹399₹1,99980% off',\n",
       " '₹365₹1,49975% off',\n",
       " '₹424₹1,49971% off',\n",
       " '₹424₹1,49971% off',\n",
       " '₹199₹89977% off',\n",
       " '₹354₹1,99982% off',\n",
       " '₹339₹1,49977% off',\n",
       " '₹719₹2,50071% off',\n",
       " '₹599₹99940% off',\n",
       " '₹199₹1,29984% off',\n",
       " '₹249₹1,19979% off',\n",
       " '₹275₹2,59989% off',\n",
       " '₹469₹89047% off',\n",
       " '₹641₹1,49957% off',\n",
       " '₹294₹99970% off',\n",
       " '₹199₹1,29984% off',\n",
       " '₹54950% off',\n",
       " '₹7993% off',\n",
       " '₹71971% off',\n",
       " '₹36575% off',\n",
       " '₹14988% off',\n",
       " '₹209₹99979% off',\n",
       " '₹339₹1,49977% off',\n",
       " '₹549₹1,09950% off',\n",
       " '₹149₹1,29988% off',\n",
       " '₹199₹99980% off',\n",
       " '₹449₹89950% off',\n",
       " '₹199₹1,29984% off',\n",
       " '₹799₹1,99960% off',\n",
       " '₹79₹1,29993% off',\n",
       " '₹489₹1,99975% off']"
      ]
     },
     "execution_count": 491,
     "metadata": {},
     "output_type": "execute_result"
    }
   ],
   "source": [
    "p_de[:100]"
   ]
  },
  {
   "cell_type": "code",
   "execution_count": 496,
   "id": "80b36004",
   "metadata": {},
   "outputs": [
    {
     "name": "stdout",
     "output_type": "stream",
     "text": [
      "100 100 100\n"
     ]
    }
   ],
   "source": [
    "print(len(Brand_name[:100]),len(Price[:100]),len(p_de[:100]))"
   ]
  },
  {
   "cell_type": "code",
   "execution_count": 500,
   "id": "22702844",
   "metadata": {},
   "outputs": [],
   "source": [
    "import pandas as pd\n",
    "df=pd.DataFrame({'Brand_Name':Brand_name[:100],'Price':p_de[:100],'Description':Price[:100]})"
   ]
  },
  {
   "cell_type": "code",
   "execution_count": 501,
   "id": "2ead1d0b",
   "metadata": {},
   "outputs": [
    {
     "data": {
      "text/html": [
       "<div>\n",
       "<style scoped>\n",
       "    .dataframe tbody tr th:only-of-type {\n",
       "        vertical-align: middle;\n",
       "    }\n",
       "\n",
       "    .dataframe tbody tr th {\n",
       "        vertical-align: top;\n",
       "    }\n",
       "\n",
       "    .dataframe thead th {\n",
       "        text-align: right;\n",
       "    }\n",
       "</style>\n",
       "<table border=\"1\" class=\"dataframe\">\n",
       "  <thead>\n",
       "    <tr style=\"text-align: right;\">\n",
       "      <th></th>\n",
       "      <th>Brand_Name</th>\n",
       "      <th>Price</th>\n",
       "      <th>Description</th>\n",
       "    </tr>\n",
       "  </thead>\n",
       "  <tbody>\n",
       "    <tr>\n",
       "      <th>0</th>\n",
       "      <td>iCopertina</td>\n",
       "      <td>₹209₹99979% off</td>\n",
       "      <td>UV Protection Retro Square Sunglasses (Free Size)</td>\n",
       "    </tr>\n",
       "    <tr>\n",
       "      <th>1</th>\n",
       "      <td>ROYAL SON</td>\n",
       "      <td>₹339₹1,49977% off</td>\n",
       "      <td>Mirrored Aviator Sunglasses (58)</td>\n",
       "    </tr>\n",
       "    <tr>\n",
       "      <th>2</th>\n",
       "      <td>Fastrack</td>\n",
       "      <td>₹549₹1,09950% off</td>\n",
       "      <td>UV Protection Wayfarer Sunglasses (58)</td>\n",
       "    </tr>\n",
       "    <tr>\n",
       "      <th>3</th>\n",
       "      <td>SRPM</td>\n",
       "      <td>₹149₹1,29988% off</td>\n",
       "      <td>UV Protection Wayfarer Sunglasses (50)</td>\n",
       "    </tr>\n",
       "    <tr>\n",
       "      <th>4</th>\n",
       "      <td>iCopertina</td>\n",
       "      <td>₹199₹99980% off</td>\n",
       "      <td>UV Protection Rectangular Sunglasses (Free Size)</td>\n",
       "    </tr>\n",
       "    <tr>\n",
       "      <th>...</th>\n",
       "      <td>...</td>\n",
       "      <td>...</td>\n",
       "      <td>...</td>\n",
       "    </tr>\n",
       "    <tr>\n",
       "      <th>95</th>\n",
       "      <td>ROZZETTA CRAFT</td>\n",
       "      <td>₹449₹89950% off</td>\n",
       "      <td>UV Protection Round Sunglasses (51)</td>\n",
       "    </tr>\n",
       "    <tr>\n",
       "      <th>96</th>\n",
       "      <td>iCopertina</td>\n",
       "      <td>₹199₹1,29984% off</td>\n",
       "      <td>UV Protection Aviator, Wayfarer Sunglasses (54)</td>\n",
       "    </tr>\n",
       "    <tr>\n",
       "      <th>97</th>\n",
       "      <td>john jacobs</td>\n",
       "      <td>₹799₹1,99960% off</td>\n",
       "      <td>UV Protection Wayfarer, Sports, Spectacle , Re...</td>\n",
       "    </tr>\n",
       "    <tr>\n",
       "      <th>98</th>\n",
       "      <td>Elligator</td>\n",
       "      <td>₹79₹1,29993% off</td>\n",
       "      <td>Polarized, UV Protection Round Sunglasses (51)</td>\n",
       "    </tr>\n",
       "    <tr>\n",
       "      <th>99</th>\n",
       "      <td>ROADWAY</td>\n",
       "      <td>₹489₹1,99975% off</td>\n",
       "      <td>UV Protection Spectacle Sunglasses (Free Size)</td>\n",
       "    </tr>\n",
       "  </tbody>\n",
       "</table>\n",
       "<p>100 rows × 3 columns</p>\n",
       "</div>"
      ],
      "text/plain": [
       "        Brand_Name              Price  \\\n",
       "0       iCopertina    ₹209₹99979% off   \n",
       "1        ROYAL SON  ₹339₹1,49977% off   \n",
       "2         Fastrack  ₹549₹1,09950% off   \n",
       "3             SRPM  ₹149₹1,29988% off   \n",
       "4       iCopertina    ₹199₹99980% off   \n",
       "..             ...                ...   \n",
       "95  ROZZETTA CRAFT    ₹449₹89950% off   \n",
       "96      iCopertina  ₹199₹1,29984% off   \n",
       "97     john jacobs  ₹799₹1,99960% off   \n",
       "98       Elligator   ₹79₹1,29993% off   \n",
       "99         ROADWAY  ₹489₹1,99975% off   \n",
       "\n",
       "                                          Description  \n",
       "0   UV Protection Retro Square Sunglasses (Free Size)  \n",
       "1                    Mirrored Aviator Sunglasses (58)  \n",
       "2              UV Protection Wayfarer Sunglasses (58)  \n",
       "3              UV Protection Wayfarer Sunglasses (50)  \n",
       "4    UV Protection Rectangular Sunglasses (Free Size)  \n",
       "..                                                ...  \n",
       "95                UV Protection Round Sunglasses (51)  \n",
       "96    UV Protection Aviator, Wayfarer Sunglasses (54)  \n",
       "97  UV Protection Wayfarer, Sports, Spectacle , Re...  \n",
       "98     Polarized, UV Protection Round Sunglasses (51)  \n",
       "99     UV Protection Spectacle Sunglasses (Free Size)  \n",
       "\n",
       "[100 rows x 3 columns]"
      ]
     },
     "execution_count": 501,
     "metadata": {},
     "output_type": "execute_result"
    }
   ],
   "source": [
    "df"
   ]
  },
  {
   "cell_type": "code",
   "execution_count": 502,
   "id": "fb7c5ede",
   "metadata": {},
   "outputs": [],
   "source": [
    "driver.close()"
   ]
  },
  {
   "cell_type": "markdown",
   "id": "d7bc2673",
   "metadata": {},
   "source": [
    "# QUESTION 6"
   ]
  },
  {
   "cell_type": "code",
   "execution_count": 509,
   "id": "b918618d",
   "metadata": {},
   "outputs": [],
   "source": [
    "driver=webdriver.Chrome()\n",
    "url=\"https://www.flipkart.com/\"\n",
    "driver.get(url)"
   ]
  },
  {
   "cell_type": "code",
   "execution_count": 511,
   "id": "a8fd9740",
   "metadata": {},
   "outputs": [],
   "source": [
    "search_g= driver.find_element(By.XPATH,\"//input[@type='text']\")\n",
    "search_g\n",
    "search_g.send_keys('sneakers')"
   ]
  },
  {
   "cell_type": "code",
   "execution_count": 512,
   "id": "ffd9dc24",
   "metadata": {},
   "outputs": [
    {
     "data": {
      "text/plain": [
       "<selenium.webdriver.remote.webelement.WebElement (session=\"91d35ddfc8c13a5d6f7fcf8876ba7f20\", element=\"A1316F4E83FCB217505A98C291D4E114_element_221\")>"
      ]
     },
     "execution_count": 512,
     "metadata": {},
     "output_type": "execute_result"
    }
   ],
   "source": [
    "search_btn=driver.find_element(By.CLASS_NAME,\"_2iLD__\")\n",
    "search_btn"
   ]
  },
  {
   "cell_type": "code",
   "execution_count": 513,
   "id": "606cc55a",
   "metadata": {},
   "outputs": [],
   "source": [
    "search_btn=driver.find_element(By.CLASS_NAME,\"_2iLD__\")\n",
    "search_btn.click()"
   ]
  },
  {
   "cell_type": "code",
   "execution_count": 514,
   "id": "61057814",
   "metadata": {},
   "outputs": [],
   "source": [
    "Brand_name=[]\n",
    "Price=[]\n",
    "p_de=[]"
   ]
  },
  {
   "cell_type": "code",
   "execution_count": 539,
   "id": "8acbe44b",
   "metadata": {},
   "outputs": [],
   "source": [
    "for i in range(3):\n",
    "    B_name=driver.find_elements(By.XPATH,\"//div[@class='_2WkVRV']\")\n",
    "    pri =driver.find_elements(By.XPATH,\"//div[@class='_25b18c']\")\n",
    "    p_des=driver.find_elements(By.XPATH,\"//a[@class='IRpwTa']/div\")\n",
    "   \n",
    "    for j  in B_name:\n",
    "        Brand_name.append(j.text)\n",
    "    Brand_name[:100]    \n",
    "           \n",
    "    for k in pri:\n",
    "        Price.append(k.text)\n",
    "    Price[:100] \n",
    "     \n",
    "    for l in p_des:\n",
    "        p_de.append(l.text)\n",
    "    p_de[:100] \n",
    "    \n",
    "    \n",
    "    "
   ]
  },
  {
   "cell_type": "code",
   "execution_count": 540,
   "id": "4382a175",
   "metadata": {},
   "outputs": [
    {
     "data": {
      "text/plain": [
       "['BRUTON',\n",
       " 'BRUTON',\n",
       " 'URBANBOX',\n",
       " 'Layasa',\n",
       " 'aadi',\n",
       " 'RED TAPE',\n",
       " 'PUMA',\n",
       " 'VENDOZ',\n",
       " 'RED TAPE',\n",
       " 'PUMA',\n",
       " 'BRUTON',\n",
       " 'aadi',\n",
       " 'PUMA',\n",
       " 'Layasa',\n",
       " 'RED TAPE',\n",
       " 'RED TAPE',\n",
       " 'aadi',\n",
       " 'Aragats',\n",
       " 'PUMA',\n",
       " 'Ego by NS',\n",
       " 'Krors',\n",
       " 'Krors',\n",
       " 'U.S. POLO ASSN.',\n",
       " 'aadi',\n",
       " 'Layasa',\n",
       " 'U.S. POLO ASSN.',\n",
       " 'Afrojack',\n",
       " 'VENDOZ',\n",
       " 'Deals4you',\n",
       " 'RED TAPE',\n",
       " 'Zixer',\n",
       " 'SOLETHREADS REBEL',\n",
       " 'aadi',\n",
       " 'U.S. POLO ASSN.',\n",
       " 'PUMA',\n",
       " 'NIKE',\n",
       " 'Aqualite',\n",
       " 'Fuoatieec',\n",
       " \"K' Footlance\",\n",
       " 'PUMA',\n",
       " 'BRUTON',\n",
       " 'BRUTON',\n",
       " 'URBANBOX',\n",
       " 'Layasa',\n",
       " 'aadi',\n",
       " 'RED TAPE',\n",
       " 'PUMA',\n",
       " 'VENDOZ',\n",
       " 'RED TAPE',\n",
       " 'PUMA',\n",
       " 'BRUTON',\n",
       " 'aadi',\n",
       " 'PUMA',\n",
       " 'Layasa',\n",
       " 'RED TAPE',\n",
       " 'RED TAPE',\n",
       " 'aadi',\n",
       " 'Aragats',\n",
       " 'PUMA',\n",
       " 'Ego by NS',\n",
       " 'Krors',\n",
       " 'Krors',\n",
       " 'U.S. POLO ASSN.',\n",
       " 'aadi',\n",
       " 'Layasa',\n",
       " 'U.S. POLO ASSN.',\n",
       " 'Afrojack',\n",
       " 'VENDOZ',\n",
       " 'Deals4you',\n",
       " 'RED TAPE',\n",
       " 'Zixer',\n",
       " 'SOLETHREADS REBEL',\n",
       " 'aadi',\n",
       " 'U.S. POLO ASSN.',\n",
       " 'PUMA',\n",
       " 'NIKE',\n",
       " 'Aqualite',\n",
       " 'Fuoatieec',\n",
       " \"K' Footlance\",\n",
       " 'PUMA',\n",
       " 'BRUTON',\n",
       " 'BRUTON',\n",
       " 'URBANBOX',\n",
       " 'Layasa',\n",
       " 'aadi',\n",
       " 'RED TAPE',\n",
       " 'PUMA',\n",
       " 'VENDOZ',\n",
       " 'RED TAPE',\n",
       " 'PUMA',\n",
       " 'BRUTON',\n",
       " 'aadi',\n",
       " 'PUMA',\n",
       " 'Layasa',\n",
       " 'RED TAPE',\n",
       " 'RED TAPE',\n",
       " 'aadi',\n",
       " 'Aragats',\n",
       " 'PUMA',\n",
       " 'Ego by NS']"
      ]
     },
     "execution_count": 540,
     "metadata": {},
     "output_type": "execute_result"
    }
   ],
   "source": [
    "    Brand_name[:100]"
   ]
  },
  {
   "cell_type": "code",
   "execution_count": 541,
   "id": "35e786ae",
   "metadata": {},
   "outputs": [
    {
     "data": {
      "text/plain": [
       "['₹497₹2,49980% off',\n",
       " '₹497₹2,49980% off',\n",
       " '₹299₹99970% off',\n",
       " '₹299₹99970% off',\n",
       " '₹289₹1,99985% off',\n",
       " '₹1,275₹5,79978% off',\n",
       " '₹1,299₹4,49971% off',\n",
       " '₹499₹99950% off',\n",
       " '₹1,187₹5,39978% off',\n",
       " '₹3,149₹6,99955% off',\n",
       " '₹497₹2,49980% off',\n",
       " '₹338₹99966% off',\n",
       " '₹1,899₹4,99962% off',\n",
       " '₹294₹99970% off',\n",
       " '₹1,187₹5,39978% off',\n",
       " '₹1,517₹6,89978% off',\n",
       " '₹299₹1,99985% off',\n",
       " '₹678₹99932% off',\n",
       " '₹2,249₹4,99955% off',\n",
       " '₹362₹99963% off',\n",
       " '₹499₹1,99975% off',\n",
       " '₹499₹1,99975% off',\n",
       " '₹1,187₹2,99960% off',\n",
       " '₹338₹99966% off',\n",
       " '₹299₹99970% off',\n",
       " '₹1,347₹3,39960% off',\n",
       " '₹549₹3,74585% off',\n",
       " '₹499₹99950% off',\n",
       " '₹409₹99959% off',\n",
       " '₹1,517₹6,89978% off',\n",
       " '₹729₹2,99575% off',\n",
       " '₹989₹2,49960% off',\n",
       " '₹343₹1,99982% off',\n",
       " '₹1,247₹3,59965% off',\n",
       " '₹2,699₹5,99955% off',\n",
       " '₹1,990₹3,99550% off',\n",
       " '₹699₹1,19941% off',\n",
       " '₹550₹99944% off',\n",
       " '₹289₹99971% off',\n",
       " '₹1,198₹3,99970% off',\n",
       " '₹49950% off',\n",
       " '₹28971% off',\n",
       " '₹33866% off',\n",
       " '₹49780% off',\n",
       " '₹3,14955% off',\n",
       " '₹497₹2,49980% off',\n",
       " '₹497₹2,49980% off',\n",
       " '₹299₹99970% off',\n",
       " '₹299₹99970% off',\n",
       " '₹289₹1,99985% off',\n",
       " '₹1,275₹5,79978% off',\n",
       " '₹1,299₹4,49971% off',\n",
       " '₹499₹99950% off',\n",
       " '₹1,187₹5,39978% off',\n",
       " '₹3,149₹6,99955% off',\n",
       " '₹497₹2,49980% off',\n",
       " '₹338₹99966% off',\n",
       " '₹1,899₹4,99962% off',\n",
       " '₹294₹99970% off',\n",
       " '₹1,187₹5,39978% off',\n",
       " '₹1,517₹6,89978% off',\n",
       " '₹299₹1,99985% off',\n",
       " '₹678₹99932% off',\n",
       " '₹2,249₹4,99955% off',\n",
       " '₹362₹99963% off',\n",
       " '₹499₹1,99975% off',\n",
       " '₹499₹1,99975% off',\n",
       " '₹1,187₹2,99960% off',\n",
       " '₹338₹99966% off',\n",
       " '₹299₹99970% off',\n",
       " '₹1,347₹3,39960% off',\n",
       " '₹549₹3,74585% off',\n",
       " '₹499₹99950% off',\n",
       " '₹409₹99959% off',\n",
       " '₹1,517₹6,89978% off',\n",
       " '₹729₹2,99575% off',\n",
       " '₹989₹2,49960% off',\n",
       " '₹343₹1,99982% off',\n",
       " '₹1,247₹3,59965% off',\n",
       " '₹2,699₹5,99955% off',\n",
       " '₹1,990₹3,99550% off',\n",
       " '₹699₹1,19941% off',\n",
       " '₹550₹99944% off',\n",
       " '₹289₹99971% off',\n",
       " '₹1,198₹3,99970% off',\n",
       " '₹49950% off',\n",
       " '₹28971% off',\n",
       " '₹33866% off',\n",
       " '₹49780% off',\n",
       " '₹3,14955% off',\n",
       " '₹497₹2,49980% off',\n",
       " '₹497₹2,49980% off',\n",
       " '₹299₹99970% off',\n",
       " '₹299₹99970% off',\n",
       " '₹289₹1,99985% off',\n",
       " '₹1,275₹5,79978% off',\n",
       " '₹1,299₹4,49971% off',\n",
       " '₹499₹99950% off',\n",
       " '₹1,187₹5,39978% off',\n",
       " '₹3,149₹6,99955% off']"
      ]
     },
     "execution_count": 541,
     "metadata": {},
     "output_type": "execute_result"
    }
   ],
   "source": [
    "    Price[:100]"
   ]
  },
  {
   "cell_type": "code",
   "execution_count": 542,
   "id": "2abb5a1a",
   "metadata": {},
   "outputs": [
    {
     "data": {
      "text/plain": [
       "['₹497₹2,49980% off',\n",
       " '₹497₹2,49980% off',\n",
       " '₹299₹99970% off',\n",
       " '₹299₹99970% off',\n",
       " '₹289₹1,99985% off',\n",
       " '₹1,275₹5,79978% off',\n",
       " '₹1,299₹4,49971% off',\n",
       " '₹499₹99950% off',\n",
       " '₹1,187₹5,39978% off',\n",
       " '₹3,149₹6,99955% off',\n",
       " '₹497₹2,49980% off',\n",
       " '₹338₹99966% off',\n",
       " '₹1,899₹4,99962% off',\n",
       " '₹294₹99970% off',\n",
       " '₹1,187₹5,39978% off',\n",
       " '₹1,517₹6,89978% off',\n",
       " '₹299₹1,99985% off',\n",
       " '₹678₹99932% off',\n",
       " '₹2,249₹4,99955% off',\n",
       " '₹362₹99963% off',\n",
       " '₹499₹1,99975% off',\n",
       " '₹499₹1,99975% off',\n",
       " '₹1,187₹2,99960% off',\n",
       " '₹338₹99966% off',\n",
       " '₹299₹99970% off',\n",
       " '₹1,347₹3,39960% off',\n",
       " '₹549₹3,74585% off',\n",
       " '₹499₹99950% off',\n",
       " '₹409₹99959% off',\n",
       " '₹1,517₹6,89978% off',\n",
       " '₹729₹2,99575% off',\n",
       " '₹989₹2,49960% off',\n",
       " '₹343₹1,99982% off',\n",
       " '₹1,247₹3,59965% off',\n",
       " '₹2,699₹5,99955% off',\n",
       " '₹1,990₹3,99550% off',\n",
       " '₹699₹1,19941% off',\n",
       " '₹550₹99944% off',\n",
       " '₹289₹99971% off',\n",
       " '₹1,198₹3,99970% off',\n",
       " '₹49950% off',\n",
       " '₹28971% off',\n",
       " '₹33866% off',\n",
       " '₹49780% off',\n",
       " '₹3,14955% off',\n",
       " '₹497₹2,49980% off',\n",
       " '₹497₹2,49980% off',\n",
       " '₹299₹99970% off',\n",
       " '₹299₹99970% off',\n",
       " '₹289₹1,99985% off',\n",
       " '₹1,275₹5,79978% off',\n",
       " '₹1,299₹4,49971% off',\n",
       " '₹499₹99950% off',\n",
       " '₹1,187₹5,39978% off',\n",
       " '₹3,149₹6,99955% off',\n",
       " '₹497₹2,49980% off',\n",
       " '₹338₹99966% off',\n",
       " '₹1,899₹4,99962% off',\n",
       " '₹294₹99970% off',\n",
       " '₹1,187₹5,39978% off',\n",
       " '₹1,517₹6,89978% off',\n",
       " '₹299₹1,99985% off',\n",
       " '₹678₹99932% off',\n",
       " '₹2,249₹4,99955% off',\n",
       " '₹362₹99963% off',\n",
       " '₹499₹1,99975% off',\n",
       " '₹499₹1,99975% off',\n",
       " '₹1,187₹2,99960% off',\n",
       " '₹338₹99966% off',\n",
       " '₹299₹99970% off',\n",
       " '₹1,347₹3,39960% off',\n",
       " '₹549₹3,74585% off',\n",
       " '₹499₹99950% off',\n",
       " '₹409₹99959% off',\n",
       " '₹1,517₹6,89978% off',\n",
       " '₹729₹2,99575% off',\n",
       " '₹989₹2,49960% off',\n",
       " '₹343₹1,99982% off',\n",
       " '₹1,247₹3,59965% off',\n",
       " '₹2,699₹5,99955% off',\n",
       " '₹1,990₹3,99550% off',\n",
       " '₹699₹1,19941% off',\n",
       " '₹550₹99944% off',\n",
       " '₹289₹99971% off',\n",
       " '₹1,198₹3,99970% off',\n",
       " '₹49950% off',\n",
       " '₹28971% off',\n",
       " '₹33866% off',\n",
       " '₹49780% off',\n",
       " '₹3,14955% off',\n",
       " '₹497₹2,49980% off',\n",
       " '₹497₹2,49980% off',\n",
       " '₹299₹99970% off',\n",
       " '₹299₹99970% off',\n",
       " '₹289₹1,99985% off',\n",
       " '₹1,275₹5,79978% off',\n",
       " '₹1,299₹4,49971% off',\n",
       " '₹499₹99950% off',\n",
       " '₹1,187₹5,39978% off',\n",
       " '₹3,149₹6,99955% off']"
      ]
     },
     "execution_count": 542,
     "metadata": {},
     "output_type": "execute_result"
    }
   ],
   "source": [
    "p_de[:100]"
   ]
  },
  {
   "cell_type": "code",
   "execution_count": 527,
   "id": "fe1494ca",
   "metadata": {},
   "outputs": [
    {
     "name": "stdout",
     "output_type": "stream",
     "text": [
      "100 100 100\n"
     ]
    }
   ],
   "source": [
    "print(len(Brand_name[:100]),len(Price[:100]),len(p_de[:100]))"
   ]
  },
  {
   "cell_type": "code",
   "execution_count": 528,
   "id": "63f205bb",
   "metadata": {},
   "outputs": [],
   "source": [
    "import pandas as pd\n",
    "df=pd.DataFrame({'Brand_Name':Brand_name[:100],'Price':p_de[:100],'Description':Price[:100]})"
   ]
  },
  {
   "cell_type": "code",
   "execution_count": 537,
   "id": "4944a18c",
   "metadata": {},
   "outputs": [
    {
     "data": {
      "text/html": [
       "<div>\n",
       "<style scoped>\n",
       "    .dataframe tbody tr th:only-of-type {\n",
       "        vertical-align: middle;\n",
       "    }\n",
       "\n",
       "    .dataframe tbody tr th {\n",
       "        vertical-align: top;\n",
       "    }\n",
       "\n",
       "    .dataframe thead th {\n",
       "        text-align: right;\n",
       "    }\n",
       "</style>\n",
       "<table border=\"1\" class=\"dataframe\">\n",
       "  <thead>\n",
       "    <tr style=\"text-align: right;\">\n",
       "      <th></th>\n",
       "      <th>Brand_Name</th>\n",
       "      <th>Price</th>\n",
       "      <th>Description</th>\n",
       "    </tr>\n",
       "  </thead>\n",
       "  <tbody>\n",
       "    <tr>\n",
       "      <th>0</th>\n",
       "      <td>BRUTON</td>\n",
       "      <td>₹497₹2,49980% off</td>\n",
       "      <td>₹497₹2,49980% off</td>\n",
       "    </tr>\n",
       "    <tr>\n",
       "      <th>1</th>\n",
       "      <td>BRUTON</td>\n",
       "      <td>₹497₹2,49980% off</td>\n",
       "      <td>₹497₹2,49980% off</td>\n",
       "    </tr>\n",
       "    <tr>\n",
       "      <th>2</th>\n",
       "      <td>URBANBOX</td>\n",
       "      <td>₹299₹99970% off</td>\n",
       "      <td>₹299₹99970% off</td>\n",
       "    </tr>\n",
       "    <tr>\n",
       "      <th>3</th>\n",
       "      <td>Layasa</td>\n",
       "      <td>₹299₹99970% off</td>\n",
       "      <td>₹299₹99970% off</td>\n",
       "    </tr>\n",
       "    <tr>\n",
       "      <th>4</th>\n",
       "      <td>aadi</td>\n",
       "      <td>₹289₹1,99985% off</td>\n",
       "      <td>₹289₹1,99985% off</td>\n",
       "    </tr>\n",
       "    <tr>\n",
       "      <th>...</th>\n",
       "      <td>...</td>\n",
       "      <td>...</td>\n",
       "      <td>...</td>\n",
       "    </tr>\n",
       "    <tr>\n",
       "      <th>95</th>\n",
       "      <td>RED TAPE</td>\n",
       "      <td>₹1,275₹5,79978% off</td>\n",
       "      <td>₹1,275₹5,79978% off</td>\n",
       "    </tr>\n",
       "    <tr>\n",
       "      <th>96</th>\n",
       "      <td>aadi</td>\n",
       "      <td>₹1,299₹4,49971% off</td>\n",
       "      <td>₹1,299₹4,49971% off</td>\n",
       "    </tr>\n",
       "    <tr>\n",
       "      <th>97</th>\n",
       "      <td>Aragats</td>\n",
       "      <td>₹499₹99950% off</td>\n",
       "      <td>₹499₹99950% off</td>\n",
       "    </tr>\n",
       "    <tr>\n",
       "      <th>98</th>\n",
       "      <td>PUMA</td>\n",
       "      <td>₹1,187₹5,39978% off</td>\n",
       "      <td>₹1,187₹5,39978% off</td>\n",
       "    </tr>\n",
       "    <tr>\n",
       "      <th>99</th>\n",
       "      <td>Ego by NS</td>\n",
       "      <td>₹3,149₹6,99955% off</td>\n",
       "      <td>₹3,149₹6,99955% off</td>\n",
       "    </tr>\n",
       "  </tbody>\n",
       "</table>\n",
       "<p>100 rows × 3 columns</p>\n",
       "</div>"
      ],
      "text/plain": [
       "   Brand_Name                Price          Description\n",
       "0      BRUTON    ₹497₹2,49980% off    ₹497₹2,49980% off\n",
       "1      BRUTON    ₹497₹2,49980% off    ₹497₹2,49980% off\n",
       "2    URBANBOX      ₹299₹99970% off      ₹299₹99970% off\n",
       "3      Layasa      ₹299₹99970% off      ₹299₹99970% off\n",
       "4        aadi    ₹289₹1,99985% off    ₹289₹1,99985% off\n",
       "..        ...                  ...                  ...\n",
       "95   RED TAPE  ₹1,275₹5,79978% off  ₹1,275₹5,79978% off\n",
       "96       aadi  ₹1,299₹4,49971% off  ₹1,299₹4,49971% off\n",
       "97    Aragats      ₹499₹99950% off      ₹499₹99950% off\n",
       "98       PUMA  ₹1,187₹5,39978% off  ₹1,187₹5,39978% off\n",
       "99  Ego by NS  ₹3,149₹6,99955% off  ₹3,149₹6,99955% off\n",
       "\n",
       "[100 rows x 3 columns]"
      ]
     },
     "execution_count": 537,
     "metadata": {},
     "output_type": "execute_result"
    }
   ],
   "source": [
    "df"
   ]
  },
  {
   "cell_type": "code",
   "execution_count": 543,
   "id": "aba3a8c3",
   "metadata": {},
   "outputs": [],
   "source": [
    "driver.close()"
   ]
  },
  {
   "cell_type": "markdown",
   "id": "a1a0a450",
   "metadata": {},
   "source": [
    "# question 7"
   ]
  },
  {
   "cell_type": "code",
   "execution_count": 590,
   "id": "ba0e51fd",
   "metadata": {},
   "outputs": [],
   "source": [
    "driver=webdriver.Chrome()\n",
    "url=\"https://www.amazon.in/\"\n",
    "driver.get(url)"
   ]
  },
  {
   "cell_type": "code",
   "execution_count": 591,
   "id": "83f30448",
   "metadata": {},
   "outputs": [],
   "source": [
    "search_g= driver.find_element(By.XPATH,\"//input[@type='text']\")\n",
    "search_g\n",
    "search_g.send_keys('intel corei7')"
   ]
  },
  {
   "cell_type": "code",
   "execution_count": 592,
   "id": "e8892f02",
   "metadata": {},
   "outputs": [
    {
     "data": {
      "text/plain": [
       "<selenium.webdriver.remote.webelement.WebElement (session=\"09e1ad7831fc6c136284191c3bfe59a1\", element=\"DC2190E789D6FC0723B3E0BC29EF4B04_element_27\")>"
      ]
     },
     "execution_count": 592,
     "metadata": {},
     "output_type": "execute_result"
    }
   ],
   "source": [
    "search_btn=driver.find_element(By.XPATH,\"//input[@id='nav-search-submit-button']\")\n",
    "search_btn"
   ]
  },
  {
   "cell_type": "code",
   "execution_count": 593,
   "id": "1704dd88",
   "metadata": {},
   "outputs": [],
   "source": [
    "search_btn=driver.find_element(By.XPATH,\"//input[@id='nav-search-submit-button']\")\n",
    "search_btn.click()"
   ]
  },
  {
   "cell_type": "code",
   "execution_count": 594,
   "id": "1827cc3c",
   "metadata": {},
   "outputs": [],
   "source": [
    "title=[]\n",
    "rating=[]\n",
    "price=[]"
   ]
  },
  {
   "cell_type": "code",
   "execution_count": null,
   "id": "566c03c6",
   "metadata": {},
   "outputs": [],
   "source": [
    "for i in range(3):\n",
    "    name=driver.find_elements(By.XPATH,\"//span[@class='a-size-mini a-spacing-none a-color-base s-line-clamp-2']\")\n",
    "    desc=driver.find_elements(By.XPATH,\"//span[class='a-size-base s-underline-tex']\")\n",
    "    pri=driver.find_elements(By.XPATH,\"//[span@class='a-price-whole']\")\n",
    "    \n",
    "    \n",
    "    for j  in name:\n",
    "        title.append(j.text)\n",
    "    title[:10]    \n",
    "    \n",
    "    \n",
    "    \n",
    "    for k in desc:\n",
    "        rating.append(k.text)\n",
    "    rating[:10] \n",
    "    \n",
    "    \n",
    "    for l in pri:\n",
    "        Price.append(l.text)\n",
    "    Price[:10] "
   ]
  },
  {
   "cell_type": "code",
   "execution_count": 623,
   "id": "f9acf993",
   "metadata": {},
   "outputs": [
    {
     "data": {
      "text/plain": [
       "['Aspire 5 Gaming Laptop Intel Core i7 13th Gen (Windows 11 Home/16 GB/512 GB SSD/4 GB Graphics/NVIDIA GeForce RTX 2050) A514-56GM, 14.0\" WUXGA Display, 1.56 KG',\n",
       " 'IdeaPad Slim 3 Intel Core i7 11th Gen 15.6\" (39.62cm) FHD Laptop (16GB/512GB SSD/Win 11/Office 2021/1 Year Warranty/Arctic Grey/1.65Kg), 82H803LPIN',\n",
       " 'Core i7-13700K Desktop Processor 16 cores (8 P-cores + 8 E-cores) 30M Cache, up to 5.4 GHz Socket LGA 1700',\n",
       " 'Core i7 12700 12th Gen Generation Desktop PC Processor CPU APU with 25MB Cache and up to 4.90 GHz Clock Speed 3 Years Warranty with Fan LGA 1700 4K (Graphic Card Not Required)',\n",
       " 'Laptop 15s, 12th Gen Intel Core i7-1255U, 15.6-inch (39.6 cm), FHD, 16GB DDR4, 512GB SSD, Intel Iris Xe Graphics, Backlit KB, Thin & Light (Win 11, MSO 2021, Silver, 1.69 kg), fq5190TU',\n",
       " 'Core i7-9700K Processor (12M Cache, up to 4.90 GHz) LGA 1151 Socket',\n",
       " 'Core i7-11700F 11th Gen Generation Desktop PC Processor CPU with 16 MB Cache and up to 4.90 GHz Clock Speed 3 Years Warranty Support LGA 1200 Socket (Graphic Card Mandatory)',\n",
       " 'IdeaPad Slim 3 Intel Core i7 11th Gen 15.6\" (39.62cm) FHD Laptop (16GB/512GB SSD/Win 11/Office 2021/1 Year Warranty/Arctic Grey/1.65Kg), 82H803LPIN',\n",
       " 'Core™ i7-14700K New Gaming Desktop Processor 20 cores (8 P-cores + 12 E-cores) with Integrated Graphics - Unlocked',\n",
       " 'Core™ i7-10700F Desktop Processor 16M Cache, up to 4.80 GHz LGA1200']"
      ]
     },
     "execution_count": 623,
     "metadata": {},
     "output_type": "execute_result"
    }
   ],
   "source": [
    "title[:10] "
   ]
  },
  {
   "cell_type": "code",
   "execution_count": 626,
   "id": "570acb84",
   "metadata": {},
   "outputs": [
    {
     "data": {
      "text/plain": [
       "['', '', '', '', '', '', '', '', '', '']"
      ]
     },
     "execution_count": 626,
     "metadata": {},
     "output_type": "execute_result"
    }
   ],
   "source": [
    " rating[:10] "
   ]
  },
  {
   "cell_type": "code",
   "execution_count": 625,
   "id": "79d84f03",
   "metadata": {},
   "outputs": [
    {
     "data": {
      "text/plain": [
       "['₹497₹2,49980% off',\n",
       " '₹497₹2,49980% off',\n",
       " '₹299₹99970% off',\n",
       " '₹299₹99970% off',\n",
       " '₹289₹1,99985% off',\n",
       " '₹1,275₹5,79978% off',\n",
       " '₹1,299₹4,49971% off',\n",
       " '₹499₹99950% off',\n",
       " '₹1,187₹5,39978% off',\n",
       " '₹3,149₹6,99955% off']"
      ]
     },
     "execution_count": 625,
     "metadata": {},
     "output_type": "execute_result"
    }
   ],
   "source": [
    "Price[:10]"
   ]
  },
  {
   "cell_type": "code",
   "execution_count": 630,
   "id": "e7d20104",
   "metadata": {},
   "outputs": [
    {
     "name": "stdout",
     "output_type": "stream",
     "text": [
      "10 10 10\n"
     ]
    }
   ],
   "source": [
    "print(len(title[:10]),len(rating[:10]),len(Price[:10]))"
   ]
  },
  {
   "cell_type": "code",
   "execution_count": 631,
   "id": "a30d67e7",
   "metadata": {},
   "outputs": [],
   "source": [
    "import pandas as pd\n",
    "df=pd.DataFrame({'Title':title[:10],'rating':rating[:10],'price':Price[:10]})"
   ]
  },
  {
   "cell_type": "code",
   "execution_count": 632,
   "id": "67c814fe",
   "metadata": {},
   "outputs": [
    {
     "data": {
      "text/html": [
       "<div>\n",
       "<style scoped>\n",
       "    .dataframe tbody tr th:only-of-type {\n",
       "        vertical-align: middle;\n",
       "    }\n",
       "\n",
       "    .dataframe tbody tr th {\n",
       "        vertical-align: top;\n",
       "    }\n",
       "\n",
       "    .dataframe thead th {\n",
       "        text-align: right;\n",
       "    }\n",
       "</style>\n",
       "<table border=\"1\" class=\"dataframe\">\n",
       "  <thead>\n",
       "    <tr style=\"text-align: right;\">\n",
       "      <th></th>\n",
       "      <th>Title</th>\n",
       "      <th>rating</th>\n",
       "      <th>price</th>\n",
       "    </tr>\n",
       "  </thead>\n",
       "  <tbody>\n",
       "    <tr>\n",
       "      <th>0</th>\n",
       "      <td>Aspire 5 Gaming Laptop Intel Core i7 13th Gen ...</td>\n",
       "      <td></td>\n",
       "      <td>₹497₹2,49980% off</td>\n",
       "    </tr>\n",
       "    <tr>\n",
       "      <th>1</th>\n",
       "      <td>IdeaPad Slim 3 Intel Core i7 11th Gen 15.6\" (3...</td>\n",
       "      <td></td>\n",
       "      <td>₹497₹2,49980% off</td>\n",
       "    </tr>\n",
       "    <tr>\n",
       "      <th>2</th>\n",
       "      <td>Core i7-13700K Desktop Processor 16 cores (8 P...</td>\n",
       "      <td></td>\n",
       "      <td>₹299₹99970% off</td>\n",
       "    </tr>\n",
       "    <tr>\n",
       "      <th>3</th>\n",
       "      <td>Core i7 12700 12th Gen Generation Desktop PC P...</td>\n",
       "      <td></td>\n",
       "      <td>₹299₹99970% off</td>\n",
       "    </tr>\n",
       "    <tr>\n",
       "      <th>4</th>\n",
       "      <td>Laptop 15s, 12th Gen Intel Core i7-1255U, 15.6...</td>\n",
       "      <td></td>\n",
       "      <td>₹289₹1,99985% off</td>\n",
       "    </tr>\n",
       "    <tr>\n",
       "      <th>5</th>\n",
       "      <td>Core i7-9700K Processor (12M Cache, up to 4.90...</td>\n",
       "      <td></td>\n",
       "      <td>₹1,275₹5,79978% off</td>\n",
       "    </tr>\n",
       "    <tr>\n",
       "      <th>6</th>\n",
       "      <td>Core i7-11700F 11th Gen Generation Desktop PC ...</td>\n",
       "      <td></td>\n",
       "      <td>₹1,299₹4,49971% off</td>\n",
       "    </tr>\n",
       "    <tr>\n",
       "      <th>7</th>\n",
       "      <td>IdeaPad Slim 3 Intel Core i7 11th Gen 15.6\" (3...</td>\n",
       "      <td></td>\n",
       "      <td>₹499₹99950% off</td>\n",
       "    </tr>\n",
       "    <tr>\n",
       "      <th>8</th>\n",
       "      <td>Core™ i7-14700K New Gaming Desktop Processor 2...</td>\n",
       "      <td></td>\n",
       "      <td>₹1,187₹5,39978% off</td>\n",
       "    </tr>\n",
       "    <tr>\n",
       "      <th>9</th>\n",
       "      <td>Core™ i7-10700F Desktop Processor 16M Cache, u...</td>\n",
       "      <td></td>\n",
       "      <td>₹3,149₹6,99955% off</td>\n",
       "    </tr>\n",
       "  </tbody>\n",
       "</table>\n",
       "</div>"
      ],
      "text/plain": [
       "                                               Title rating  \\\n",
       "0  Aspire 5 Gaming Laptop Intel Core i7 13th Gen ...          \n",
       "1  IdeaPad Slim 3 Intel Core i7 11th Gen 15.6\" (3...          \n",
       "2  Core i7-13700K Desktop Processor 16 cores (8 P...          \n",
       "3  Core i7 12700 12th Gen Generation Desktop PC P...          \n",
       "4  Laptop 15s, 12th Gen Intel Core i7-1255U, 15.6...          \n",
       "5  Core i7-9700K Processor (12M Cache, up to 4.90...          \n",
       "6  Core i7-11700F 11th Gen Generation Desktop PC ...          \n",
       "7  IdeaPad Slim 3 Intel Core i7 11th Gen 15.6\" (3...          \n",
       "8  Core™ i7-14700K New Gaming Desktop Processor 2...          \n",
       "9  Core™ i7-10700F Desktop Processor 16M Cache, u...          \n",
       "\n",
       "                 price  \n",
       "0    ₹497₹2,49980% off  \n",
       "1    ₹497₹2,49980% off  \n",
       "2      ₹299₹99970% off  \n",
       "3      ₹299₹99970% off  \n",
       "4    ₹289₹1,99985% off  \n",
       "5  ₹1,275₹5,79978% off  \n",
       "6  ₹1,299₹4,49971% off  \n",
       "7      ₹499₹99950% off  \n",
       "8  ₹1,187₹5,39978% off  \n",
       "9  ₹3,149₹6,99955% off  "
      ]
     },
     "execution_count": 632,
     "metadata": {},
     "output_type": "execute_result"
    }
   ],
   "source": [
    "df"
   ]
  },
  {
   "cell_type": "code",
   "execution_count": 633,
   "id": "17571a16",
   "metadata": {},
   "outputs": [],
   "source": [
    "driver.close()"
   ]
  },
  {
   "cell_type": "markdown",
   "id": "71351540",
   "metadata": {},
   "source": [
    "# question 1"
   ]
  },
  {
   "cell_type": "code",
   "execution_count": 653,
   "id": "a2731e7c",
   "metadata": {},
   "outputs": [],
   "source": [
    "driver=webdriver.Chrome()\n",
    "url=\"https://www.shine.com/\"\n",
    "driver.get(url)"
   ]
  },
  {
   "cell_type": "code",
   "execution_count": 665,
   "id": "53315d43",
   "metadata": {},
   "outputs": [],
   "source": [
    "search_g= driver.find_element(By.XPATH,\"//div[@id='select_container_id_q']/input\")\n",
    "search_g\n",
    "search_g.send_keys('Data Analyst')"
   ]
  },
  {
   "cell_type": "code",
   "execution_count": 667,
   "id": "7250dd58",
   "metadata": {},
   "outputs": [],
   "source": [
    "search_l=driver.find_element(By.XPATH,\"//div[@id='select_container_id_loc']/input\")\n",
    "search_l\n",
    "search_l.send_keys('Bangalore')"
   ]
  },
  {
   "cell_type": "code",
   "execution_count": 670,
   "id": "edd4b4e7",
   "metadata": {},
   "outputs": [
    {
     "data": {
      "text/plain": [
       "<selenium.webdriver.remote.webelement.WebElement (session=\"dfc05b919f2d11bbfdfd5ff233f3f284\", element=\"B9C57D84813662266A84962EDC89ABEF_element_170\")>"
      ]
     },
     "execution_count": 670,
     "metadata": {},
     "output_type": "execute_result"
    }
   ],
   "source": [
    "search_btn=driver.find_element(By.XPATH,\"//button[@type='submit']\")\n",
    "search_btn"
   ]
  },
  {
   "cell_type": "code",
   "execution_count": 671,
   "id": "eba22917",
   "metadata": {},
   "outputs": [],
   "source": [
    "search_btn=driver.find_element(By.XPATH,\"//button[@type='submit']\")\n",
    "search_btn.click()"
   ]
  },
  {
   "cell_type": "code",
   "execution_count": 754,
   "id": "c8958c34",
   "metadata": {},
   "outputs": [],
   "source": [
    "title=[]\n",
    "locat=[]"
   ]
  },
  {
   "cell_type": "code",
   "execution_count": 775,
   "id": "ad30c4ba",
   "metadata": {},
   "outputs": [],
   "source": [
    "for i in range(3):\n",
    "    name=driver.find_elements(By.XPATH,'//h2[@itemprop=\"name\"]/a')\n",
    "    loc=driver.find_elements(By.XPATH,'//div[@class=\" jobCard_jobCard_lists_item__YxRkV jobCard_locationIcon__zrWt2\"]/div/div')\n",
    "    #loc=driver.find_elements(By.XPATH,'//div[@class=\"jobCard_jobCard_lists__fdnsc\"]/div/div/div')\n",
    "    \n",
    "    \n",
    "    \n",
    "    for j  in name:\n",
    "        title.append(j.text)\n",
    "    title[:10]    \n",
    "    \n",
    "    \n",
    "    \n",
    "    for k in loc:\n",
    "        locat.append(k.text)\n",
    "    locat[:10] "
   ]
  },
  {
   "cell_type": "code",
   "execution_count": 777,
   "id": "4f8a75be",
   "metadata": {},
   "outputs": [
    {
     "data": {
      "text/plain": [
       "['Data Analyst Vacancy',\n",
       " 'Data Analyst Vacancy',\n",
       " 'Clinical Data Analyst',\n",
       " 'Data Analyst Urgent Recruitment',\n",
       " 'Data Analyst Urgent Recruitment',\n",
       " 'Data Analyst Urgent Recruitment',\n",
       " 'Data Analyst 1',\n",
       " 'Data Analytics - Analyst',\n",
       " 'Clinical Data Analyst',\n",
       " 'Hiring For Data Analyst']"
      ]
     },
     "execution_count": 777,
     "metadata": {},
     "output_type": "execute_result"
    }
   ],
   "source": [
    "title[:10]"
   ]
  },
  {
   "cell_type": "code",
   "execution_count": 776,
   "id": "a373a0ec",
   "metadata": {},
   "outputs": [
    {
     "data": {
      "text/plain": [
       "['0 to 4 Yrs\\nBangalore\\n+14',\n",
       " '0 to 4 Yrs\\nBangalore\\n+14',\n",
       " '0 to 4 Yrs\\nBangalore\\n+14',\n",
       " '0 to 4 Yrs\\nBangalore\\n+14',\n",
       " '0 to 4 Yrs\\nBangalore\\n+14',\n",
       " '0 to 2 Yrs\\nBangalore\\n+4',\n",
       " '0 to 4 Yrs\\nBangalore\\n+14',\n",
       " '0 to 4 Yrs\\nBangalore\\n+14',\n",
       " '0 to 4 Yrs\\nBangalore\\n+14',\n",
       " '1 to 3 Yrs\\nBangalore']"
      ]
     },
     "execution_count": 776,
     "metadata": {},
     "output_type": "execute_result"
    }
   ],
   "source": [
    "locat[:10]"
   ]
  },
  {
   "cell_type": "code",
   "execution_count": 778,
   "id": "fffffd1e",
   "metadata": {},
   "outputs": [
    {
     "name": "stdout",
     "output_type": "stream",
     "text": [
      "10 10\n"
     ]
    }
   ],
   "source": [
    "print(len(title[:10]),len(locat[:10]))"
   ]
  },
  {
   "cell_type": "code",
   "execution_count": 779,
   "id": "8f2801b3",
   "metadata": {},
   "outputs": [],
   "source": [
    "import pandas as pd\n",
    "df=pd.DataFrame({'Title':title[:10],'location':locat[:10]})"
   ]
  },
  {
   "cell_type": "code",
   "execution_count": 780,
   "id": "1f8d53a3",
   "metadata": {},
   "outputs": [
    {
     "data": {
      "text/html": [
       "<div>\n",
       "<style scoped>\n",
       "    .dataframe tbody tr th:only-of-type {\n",
       "        vertical-align: middle;\n",
       "    }\n",
       "\n",
       "    .dataframe tbody tr th {\n",
       "        vertical-align: top;\n",
       "    }\n",
       "\n",
       "    .dataframe thead th {\n",
       "        text-align: right;\n",
       "    }\n",
       "</style>\n",
       "<table border=\"1\" class=\"dataframe\">\n",
       "  <thead>\n",
       "    <tr style=\"text-align: right;\">\n",
       "      <th></th>\n",
       "      <th>Title</th>\n",
       "      <th>location</th>\n",
       "    </tr>\n",
       "  </thead>\n",
       "  <tbody>\n",
       "    <tr>\n",
       "      <th>0</th>\n",
       "      <td>Data Analyst Vacancy</td>\n",
       "      <td>0 to 4 Yrs\\nBangalore\\n+14</td>\n",
       "    </tr>\n",
       "    <tr>\n",
       "      <th>1</th>\n",
       "      <td>Data Analyst Vacancy</td>\n",
       "      <td>0 to 4 Yrs\\nBangalore\\n+14</td>\n",
       "    </tr>\n",
       "    <tr>\n",
       "      <th>2</th>\n",
       "      <td>Clinical Data Analyst</td>\n",
       "      <td>0 to 4 Yrs\\nBangalore\\n+14</td>\n",
       "    </tr>\n",
       "    <tr>\n",
       "      <th>3</th>\n",
       "      <td>Data Analyst Urgent Recruitment</td>\n",
       "      <td>0 to 4 Yrs\\nBangalore\\n+14</td>\n",
       "    </tr>\n",
       "    <tr>\n",
       "      <th>4</th>\n",
       "      <td>Data Analyst Urgent Recruitment</td>\n",
       "      <td>0 to 4 Yrs\\nBangalore\\n+14</td>\n",
       "    </tr>\n",
       "    <tr>\n",
       "      <th>5</th>\n",
       "      <td>Data Analyst Urgent Recruitment</td>\n",
       "      <td>0 to 2 Yrs\\nBangalore\\n+4</td>\n",
       "    </tr>\n",
       "    <tr>\n",
       "      <th>6</th>\n",
       "      <td>Data Analyst 1</td>\n",
       "      <td>0 to 4 Yrs\\nBangalore\\n+14</td>\n",
       "    </tr>\n",
       "    <tr>\n",
       "      <th>7</th>\n",
       "      <td>Data Analytics - Analyst</td>\n",
       "      <td>0 to 4 Yrs\\nBangalore\\n+14</td>\n",
       "    </tr>\n",
       "    <tr>\n",
       "      <th>8</th>\n",
       "      <td>Clinical Data Analyst</td>\n",
       "      <td>0 to 4 Yrs\\nBangalore\\n+14</td>\n",
       "    </tr>\n",
       "    <tr>\n",
       "      <th>9</th>\n",
       "      <td>Hiring For Data Analyst</td>\n",
       "      <td>1 to 3 Yrs\\nBangalore</td>\n",
       "    </tr>\n",
       "  </tbody>\n",
       "</table>\n",
       "</div>"
      ],
      "text/plain": [
       "                             Title                    location\n",
       "0             Data Analyst Vacancy  0 to 4 Yrs\\nBangalore\\n+14\n",
       "1             Data Analyst Vacancy  0 to 4 Yrs\\nBangalore\\n+14\n",
       "2            Clinical Data Analyst  0 to 4 Yrs\\nBangalore\\n+14\n",
       "3  Data Analyst Urgent Recruitment  0 to 4 Yrs\\nBangalore\\n+14\n",
       "4  Data Analyst Urgent Recruitment  0 to 4 Yrs\\nBangalore\\n+14\n",
       "5  Data Analyst Urgent Recruitment   0 to 2 Yrs\\nBangalore\\n+4\n",
       "6                   Data Analyst 1  0 to 4 Yrs\\nBangalore\\n+14\n",
       "7         Data Analytics - Analyst  0 to 4 Yrs\\nBangalore\\n+14\n",
       "8            Clinical Data Analyst  0 to 4 Yrs\\nBangalore\\n+14\n",
       "9          Hiring For Data Analyst       1 to 3 Yrs\\nBangalore"
      ]
     },
     "execution_count": 780,
     "metadata": {},
     "output_type": "execute_result"
    }
   ],
   "source": [
    "df"
   ]
  },
  {
   "cell_type": "code",
   "execution_count": 781,
   "id": "2e85e1f9",
   "metadata": {},
   "outputs": [],
   "source": [
    "driver.close()\n"
   ]
  },
  {
   "cell_type": "markdown",
   "id": "eb897eee",
   "metadata": {},
   "source": [
    "# question 2"
   ]
  },
  {
   "cell_type": "code",
   "execution_count": 784,
   "id": "4f7e4a25",
   "metadata": {},
   "outputs": [],
   "source": [
    "driver=webdriver.Chrome()\n",
    "url=\"https://www.shine.com/\"\n",
    "driver.get(url)"
   ]
  },
  {
   "cell_type": "code",
   "execution_count": 786,
   "id": "3a1a7e89",
   "metadata": {},
   "outputs": [],
   "source": [
    "search_g= driver.find_element(By.XPATH,\"//div[@id='select_container_id_q']/input\")\n",
    "search_g\n",
    "search_g.send_keys('Data Scientist')"
   ]
  },
  {
   "cell_type": "code",
   "execution_count": 787,
   "id": "f84983c0",
   "metadata": {},
   "outputs": [],
   "source": [
    "search_l=driver.find_element(By.XPATH,\"//div[@id='select_container_id_loc']/input\")\n",
    "search_l\n",
    "search_l.send_keys('Bangalore')"
   ]
  },
  {
   "cell_type": "code",
   "execution_count": 788,
   "id": "8910f45a",
   "metadata": {},
   "outputs": [
    {
     "data": {
      "text/plain": [
       "<selenium.webdriver.remote.webelement.WebElement (session=\"995212fcbb368e17d4ebb292dcb6a35a\", element=\"7CA77872A943226AD1E71DF8B06291BC_element_92\")>"
      ]
     },
     "execution_count": 788,
     "metadata": {},
     "output_type": "execute_result"
    }
   ],
   "source": [
    "search_btn=driver.find_element(By.XPATH,\"//button[@type='submit']\")\n",
    "search_btn"
   ]
  },
  {
   "cell_type": "code",
   "execution_count": 789,
   "id": "325431e7",
   "metadata": {},
   "outputs": [],
   "source": [
    "search_btn=driver.find_element(By.XPATH,\"//button[@type='submit']\")\n",
    "search_btn.click()"
   ]
  },
  {
   "cell_type": "code",
   "execution_count": 832,
   "id": "56bf1775",
   "metadata": {},
   "outputs": [],
   "source": [
    "title=[]\n",
    "l_loc=[]"
   ]
  },
  {
   "cell_type": "code",
   "execution_count": 833,
   "id": "d8d102f4",
   "metadata": {},
   "outputs": [],
   "source": [
    "for i in range(3):\n",
    "    name=driver.find_elements(By.XPATH,'//h2[@itemprop=\"name\"]/a')\n",
    "    loc=driver.find_elements(By.XPATH,'//div[@class=\" jobCard_jobCard_lists_item__YxRkV jobCard_locationIcon__zrWt2\"]')\n",
    "    \n",
    "    \n",
    "    \n",
    "    for j  in name:\n",
    "        title.append(j.text)\n",
    "    title[:10]    \n",
    "    \n",
    "    \n",
    "    \n",
    "    for k in loc:\n",
    "        l_loc.append(k.text)\n",
    "    l_loc[:10] "
   ]
  },
  {
   "cell_type": "code",
   "execution_count": 798,
   "id": "0fd7a495",
   "metadata": {},
   "outputs": [
    {
     "data": {
      "text/plain": [
       "['Data Scientist Vacancy',\n",
       " 'Data Scientist Urgent Recruitment',\n",
       " 'Data Scientist- Bangalore',\n",
       " 'Data Scientist AI ML CV',\n",
       " 'Data Scientist AI ML NLP',\n",
       " 'Data Scientist-Bangalore',\n",
       " 'Phd Data Scientist',\n",
       " 'Hiring For Data Scientist',\n",
       " 'Data Scientist',\n",
       " 'Staff Data Scientist & Team Lead']"
      ]
     },
     "execution_count": 798,
     "metadata": {},
     "output_type": "execute_result"
    }
   ],
   "source": [
    "title[:10]"
   ]
  },
  {
   "cell_type": "code",
   "execution_count": 834,
   "id": "4ed401e9",
   "metadata": {},
   "outputs": [
    {
     "data": {
      "text/plain": [
       "['Bangalore\\n+14',\n",
       " 'Bangalore\\n+14',\n",
       " 'Bangalore',\n",
       " 'Bangalore',\n",
       " 'Bangalore',\n",
       " 'Bangalore',\n",
       " 'Bangalore',\n",
       " 'Bangalore\\n+14',\n",
       " 'Bangalore',\n",
       " 'Bangalore']"
      ]
     },
     "execution_count": 834,
     "metadata": {},
     "output_type": "execute_result"
    }
   ],
   "source": [
    "l_loc[:10]"
   ]
  },
  {
   "cell_type": "code",
   "execution_count": 835,
   "id": "dd60327c",
   "metadata": {},
   "outputs": [
    {
     "name": "stdout",
     "output_type": "stream",
     "text": [
      "10 10\n"
     ]
    }
   ],
   "source": [
    "print(len(title[:10]),len(l_loc[:10]))"
   ]
  },
  {
   "cell_type": "code",
   "execution_count": 837,
   "id": "d22f8a25",
   "metadata": {},
   "outputs": [],
   "source": [
    "df=pd.DataFrame({'Title':title[:10],'location':l_loc[:10]})"
   ]
  },
  {
   "cell_type": "code",
   "execution_count": 838,
   "id": "445a786c",
   "metadata": {},
   "outputs": [
    {
     "data": {
      "text/html": [
       "<div>\n",
       "<style scoped>\n",
       "    .dataframe tbody tr th:only-of-type {\n",
       "        vertical-align: middle;\n",
       "    }\n",
       "\n",
       "    .dataframe tbody tr th {\n",
       "        vertical-align: top;\n",
       "    }\n",
       "\n",
       "    .dataframe thead th {\n",
       "        text-align: right;\n",
       "    }\n",
       "</style>\n",
       "<table border=\"1\" class=\"dataframe\">\n",
       "  <thead>\n",
       "    <tr style=\"text-align: right;\">\n",
       "      <th></th>\n",
       "      <th>Title</th>\n",
       "      <th>location</th>\n",
       "    </tr>\n",
       "  </thead>\n",
       "  <tbody>\n",
       "    <tr>\n",
       "      <th>0</th>\n",
       "      <td>Data Scientist Vacancy</td>\n",
       "      <td>Bangalore\\n+14</td>\n",
       "    </tr>\n",
       "    <tr>\n",
       "      <th>1</th>\n",
       "      <td>Data Scientist Urgent Recruitment</td>\n",
       "      <td>Bangalore\\n+14</td>\n",
       "    </tr>\n",
       "    <tr>\n",
       "      <th>2</th>\n",
       "      <td>Data Scientist- Bangalore</td>\n",
       "      <td>Bangalore</td>\n",
       "    </tr>\n",
       "    <tr>\n",
       "      <th>3</th>\n",
       "      <td>Data Scientist AI ML CV</td>\n",
       "      <td>Bangalore</td>\n",
       "    </tr>\n",
       "    <tr>\n",
       "      <th>4</th>\n",
       "      <td>Data Scientist AI ML NLP</td>\n",
       "      <td>Bangalore</td>\n",
       "    </tr>\n",
       "    <tr>\n",
       "      <th>5</th>\n",
       "      <td>Data Scientist-Bangalore</td>\n",
       "      <td>Bangalore</td>\n",
       "    </tr>\n",
       "    <tr>\n",
       "      <th>6</th>\n",
       "      <td>Phd Data Scientist</td>\n",
       "      <td>Bangalore</td>\n",
       "    </tr>\n",
       "    <tr>\n",
       "      <th>7</th>\n",
       "      <td>Hiring For Data Scientist</td>\n",
       "      <td>Bangalore\\n+14</td>\n",
       "    </tr>\n",
       "    <tr>\n",
       "      <th>8</th>\n",
       "      <td>Data Scientist</td>\n",
       "      <td>Bangalore</td>\n",
       "    </tr>\n",
       "    <tr>\n",
       "      <th>9</th>\n",
       "      <td>Staff Data Scientist &amp; Team Lead</td>\n",
       "      <td>Bangalore</td>\n",
       "    </tr>\n",
       "  </tbody>\n",
       "</table>\n",
       "</div>"
      ],
      "text/plain": [
       "                               Title        location\n",
       "0             Data Scientist Vacancy  Bangalore\\n+14\n",
       "1  Data Scientist Urgent Recruitment  Bangalore\\n+14\n",
       "2          Data Scientist- Bangalore       Bangalore\n",
       "3            Data Scientist AI ML CV       Bangalore\n",
       "4           Data Scientist AI ML NLP       Bangalore\n",
       "5           Data Scientist-Bangalore       Bangalore\n",
       "6                 Phd Data Scientist       Bangalore\n",
       "7          Hiring For Data Scientist  Bangalore\\n+14\n",
       "8                     Data Scientist       Bangalore\n",
       "9   Staff Data Scientist & Team Lead       Bangalore"
      ]
     },
     "execution_count": 838,
     "metadata": {},
     "output_type": "execute_result"
    }
   ],
   "source": [
    "df"
   ]
  },
  {
   "cell_type": "markdown",
   "id": "9c1e8e7e",
   "metadata": {},
   "source": [
    "# question 10"
   ]
  },
  {
   "cell_type": "code",
   "execution_count": 876,
   "id": "15c67ce7",
   "metadata": {},
   "outputs": [],
   "source": [
    "driver=webdriver.Chrome()\n",
    "url=\"https://www.motor1.com/\"\n",
    "driver.get(url)"
   ]
  },
  {
   "cell_type": "code",
   "execution_count": 878,
   "id": "e451de49",
   "metadata": {},
   "outputs": [],
   "source": [
    "search_g= driver.find_element(By.XPATH,'//input[@class=\"m1-search-panel-input m1-search-form-text\"]')\n",
    "search_g\n",
    "search_g.send_keys('most expensive cars')"
   ]
  },
  {
   "cell_type": "code",
   "execution_count": 879,
   "id": "e6e32b00",
   "metadata": {},
   "outputs": [
    {
     "data": {
      "text/plain": [
       "<selenium.webdriver.remote.webelement.WebElement (session=\"e729fb76e3cdc8d586aadd587125a201\", element=\"ABC0BF4C9AB985B59D2F37D51954D5FE_element_51\")>"
      ]
     },
     "execution_count": 879,
     "metadata": {},
     "output_type": "execute_result"
    }
   ],
   "source": [
    "search_btn=driver.find_element(By.XPATH,'//button[@class=\"m1-search-panel-button m1-search-form-button-animate icon-search-svg\"]')\n",
    "search_btn"
   ]
  },
  {
   "cell_type": "code",
   "execution_count": 880,
   "id": "ecef649b",
   "metadata": {},
   "outputs": [],
   "source": [
    "search_btn=driver.find_element(By.XPATH,'//button[@class=\"m1-search-panel-button m1-search-form-button-animate icon-search-svg\"]')\n",
    "search_btn.click()"
   ]
  },
  {
   "cell_type": "code",
   "execution_count": 904,
   "id": "deb56044",
   "metadata": {},
   "outputs": [],
   "source": [
    "cars=[]"
   ]
  },
  {
   "cell_type": "code",
   "execution_count": 905,
   "id": "2670fc54",
   "metadata": {},
   "outputs": [],
   "source": [
    "for i in range(3):\n",
    "    name=driver.find_elements(By.XPATH,'//div[@class=\"info\"]/div/h3/a')\n",
    "    for j  in name:\n",
    "        cars.append(j.text)\n",
    "    cars[:50] "
   ]
  },
  {
   "cell_type": "code",
   "execution_count": 903,
   "id": "e24e4bae",
   "metadata": {},
   "outputs": [
    {
     "data": {
      "text/plain": [
       "['Mercedes-AMG GT S used during winter gets the cleaning it deserves',\n",
       " 'This 1996 Nissan Nismo GT-R is the most expensive in the world',\n",
       " 'UK: Bentley performance cars line up for the most expensive drag race ever',\n",
       " \"Bugatti La Voiture Noire joins world's most expensive cars at drag strip\",\n",
       " 'Most expensive auction at Monterey 2022 is 1955 Ferrari selling for £18m',\n",
       " \"Mercedes 300 SLR Uhlenhaut Coupe is world's most expensive car at £114m\",\n",
       " \"Mercedes-Benz 300 SLR could be the world's most expensive car at £116m\",\n",
       " \"Bentley Coupe by Mulliner expected to be company's most expensive car ever\",\n",
       " 'Evo VI Tommi Makinen becomes most expensive Lancer sold at auction',\n",
       " \"Study shows most drivers think electric cars are 'too expensive'\"]"
      ]
     },
     "execution_count": 903,
     "metadata": {},
     "output_type": "execute_result"
    }
   ],
   "source": [
    "    cars[:50] "
   ]
  },
  {
   "cell_type": "code",
   "execution_count": 906,
   "id": "ccc15135",
   "metadata": {},
   "outputs": [
    {
     "name": "stdout",
     "output_type": "stream",
     "text": [
      "50\n"
     ]
    }
   ],
   "source": [
    "print(len(cars[:50]))"
   ]
  },
  {
   "cell_type": "code",
   "execution_count": 907,
   "id": "1d22e5f3",
   "metadata": {},
   "outputs": [],
   "source": [
    "df=pd.DataFrame({'Most expensive cars':cars[:50]})"
   ]
  },
  {
   "cell_type": "code",
   "execution_count": 908,
   "id": "91a6641b",
   "metadata": {},
   "outputs": [
    {
     "data": {
      "text/html": [
       "<div>\n",
       "<style scoped>\n",
       "    .dataframe tbody tr th:only-of-type {\n",
       "        vertical-align: middle;\n",
       "    }\n",
       "\n",
       "    .dataframe tbody tr th {\n",
       "        vertical-align: top;\n",
       "    }\n",
       "\n",
       "    .dataframe thead th {\n",
       "        text-align: right;\n",
       "    }\n",
       "</style>\n",
       "<table border=\"1\" class=\"dataframe\">\n",
       "  <thead>\n",
       "    <tr style=\"text-align: right;\">\n",
       "      <th></th>\n",
       "      <th>Most expensive cars</th>\n",
       "    </tr>\n",
       "  </thead>\n",
       "  <tbody>\n",
       "    <tr>\n",
       "      <th>0</th>\n",
       "      <td>Mercedes-AMG GT S used during winter gets the ...</td>\n",
       "    </tr>\n",
       "    <tr>\n",
       "      <th>1</th>\n",
       "      <td>This 1996 Nissan Nismo GT-R is the most expens...</td>\n",
       "    </tr>\n",
       "    <tr>\n",
       "      <th>2</th>\n",
       "      <td>UK: Bentley performance cars line up for the m...</td>\n",
       "    </tr>\n",
       "    <tr>\n",
       "      <th>3</th>\n",
       "      <td>Bugatti La Voiture Noire joins world's most ex...</td>\n",
       "    </tr>\n",
       "    <tr>\n",
       "      <th>4</th>\n",
       "      <td>Most expensive auction at Monterey 2022 is 195...</td>\n",
       "    </tr>\n",
       "    <tr>\n",
       "      <th>5</th>\n",
       "      <td>Mercedes 300 SLR Uhlenhaut Coupe is world's mo...</td>\n",
       "    </tr>\n",
       "    <tr>\n",
       "      <th>6</th>\n",
       "      <td>Mercedes-Benz 300 SLR could be the world's mos...</td>\n",
       "    </tr>\n",
       "    <tr>\n",
       "      <th>7</th>\n",
       "      <td>Bentley Coupe by Mulliner expected to be compa...</td>\n",
       "    </tr>\n",
       "    <tr>\n",
       "      <th>8</th>\n",
       "      <td>Evo VI Tommi Makinen becomes most expensive La...</td>\n",
       "    </tr>\n",
       "    <tr>\n",
       "      <th>9</th>\n",
       "      <td>Study shows most drivers think electric cars a...</td>\n",
       "    </tr>\n",
       "    <tr>\n",
       "      <th>10</th>\n",
       "      <td>Bugatti La Voiture Noire becomes the ultimate ...</td>\n",
       "    </tr>\n",
       "    <tr>\n",
       "      <th>11</th>\n",
       "      <td>Koenigsegg Regera and Agera RS with blue carbo...</td>\n",
       "    </tr>\n",
       "    <tr>\n",
       "      <th>12</th>\n",
       "      <td>Here are the most expensive Premier League pla...</td>\n",
       "    </tr>\n",
       "    <tr>\n",
       "      <th>13</th>\n",
       "      <td>February and August are the cheapest months to...</td>\n",
       "    </tr>\n",
       "    <tr>\n",
       "      <th>14</th>\n",
       "      <td>Birmingham is the UK's most expensive place to...</td>\n",
       "    </tr>\n",
       "    <tr>\n",
       "      <th>15</th>\n",
       "      <td>Nine of the 10 most expensive places to insure...</td>\n",
       "    </tr>\n",
       "    <tr>\n",
       "      <th>16</th>\n",
       "      <td>£6.7m Veneno Roadster becomes most expensive L...</td>\n",
       "    </tr>\n",
       "    <tr>\n",
       "      <th>17</th>\n",
       "      <td>20 most expensive cars in the world</td>\n",
       "    </tr>\n",
       "    <tr>\n",
       "      <th>18</th>\n",
       "      <td>Watch the world's most expensive new car in mo...</td>\n",
       "    </tr>\n",
       "    <tr>\n",
       "      <th>19</th>\n",
       "      <td>£150,000 Mercedes-Maybach GLS to be built in A...</td>\n",
       "    </tr>\n",
       "    <tr>\n",
       "      <th>20</th>\n",
       "      <td>The story behind Bugatti La Voiture Noire</td>\n",
       "    </tr>\n",
       "    <tr>\n",
       "      <th>21</th>\n",
       "      <td>Bugatti La Voiture Noire debuts in Geneva: Mos...</td>\n",
       "    </tr>\n",
       "    <tr>\n",
       "      <th>22</th>\n",
       "      <td>Top 5 most expensive Porsche cars ever sold</td>\n",
       "    </tr>\n",
       "    <tr>\n",
       "      <th>23</th>\n",
       "      <td>Toyota Century GRMN is real and it's spectacular</td>\n",
       "    </tr>\n",
       "    <tr>\n",
       "      <th>24</th>\n",
       "      <td>Mercedes-AMG GT S used during winter gets the ...</td>\n",
       "    </tr>\n",
       "    <tr>\n",
       "      <th>25</th>\n",
       "      <td>This 1996 Nissan Nismo GT-R is the most expens...</td>\n",
       "    </tr>\n",
       "    <tr>\n",
       "      <th>26</th>\n",
       "      <td>UK: Bentley performance cars line up for the m...</td>\n",
       "    </tr>\n",
       "    <tr>\n",
       "      <th>27</th>\n",
       "      <td>Bugatti La Voiture Noire joins world's most ex...</td>\n",
       "    </tr>\n",
       "    <tr>\n",
       "      <th>28</th>\n",
       "      <td>Most expensive auction at Monterey 2022 is 195...</td>\n",
       "    </tr>\n",
       "    <tr>\n",
       "      <th>29</th>\n",
       "      <td>Mercedes 300 SLR Uhlenhaut Coupe is world's mo...</td>\n",
       "    </tr>\n",
       "    <tr>\n",
       "      <th>30</th>\n",
       "      <td>Mercedes-Benz 300 SLR could be the world's mos...</td>\n",
       "    </tr>\n",
       "    <tr>\n",
       "      <th>31</th>\n",
       "      <td>Bentley Coupe by Mulliner expected to be compa...</td>\n",
       "    </tr>\n",
       "    <tr>\n",
       "      <th>32</th>\n",
       "      <td>Evo VI Tommi Makinen becomes most expensive La...</td>\n",
       "    </tr>\n",
       "    <tr>\n",
       "      <th>33</th>\n",
       "      <td>Study shows most drivers think electric cars a...</td>\n",
       "    </tr>\n",
       "    <tr>\n",
       "      <th>34</th>\n",
       "      <td>Bugatti La Voiture Noire becomes the ultimate ...</td>\n",
       "    </tr>\n",
       "    <tr>\n",
       "      <th>35</th>\n",
       "      <td>Koenigsegg Regera and Agera RS with blue carbo...</td>\n",
       "    </tr>\n",
       "    <tr>\n",
       "      <th>36</th>\n",
       "      <td>Here are the most expensive Premier League pla...</td>\n",
       "    </tr>\n",
       "    <tr>\n",
       "      <th>37</th>\n",
       "      <td>February and August are the cheapest months to...</td>\n",
       "    </tr>\n",
       "    <tr>\n",
       "      <th>38</th>\n",
       "      <td>Birmingham is the UK's most expensive place to...</td>\n",
       "    </tr>\n",
       "    <tr>\n",
       "      <th>39</th>\n",
       "      <td>Nine of the 10 most expensive places to insure...</td>\n",
       "    </tr>\n",
       "    <tr>\n",
       "      <th>40</th>\n",
       "      <td>£6.7m Veneno Roadster becomes most expensive L...</td>\n",
       "    </tr>\n",
       "    <tr>\n",
       "      <th>41</th>\n",
       "      <td>20 most expensive cars in the world</td>\n",
       "    </tr>\n",
       "    <tr>\n",
       "      <th>42</th>\n",
       "      <td>Watch the world's most expensive new car in mo...</td>\n",
       "    </tr>\n",
       "    <tr>\n",
       "      <th>43</th>\n",
       "      <td>£150,000 Mercedes-Maybach GLS to be built in A...</td>\n",
       "    </tr>\n",
       "    <tr>\n",
       "      <th>44</th>\n",
       "      <td>The story behind Bugatti La Voiture Noire</td>\n",
       "    </tr>\n",
       "    <tr>\n",
       "      <th>45</th>\n",
       "      <td>Bugatti La Voiture Noire debuts in Geneva: Mos...</td>\n",
       "    </tr>\n",
       "    <tr>\n",
       "      <th>46</th>\n",
       "      <td>Top 5 most expensive Porsche cars ever sold</td>\n",
       "    </tr>\n",
       "    <tr>\n",
       "      <th>47</th>\n",
       "      <td>Toyota Century GRMN is real and it's spectacular</td>\n",
       "    </tr>\n",
       "    <tr>\n",
       "      <th>48</th>\n",
       "      <td>Mercedes-AMG GT S used during winter gets the ...</td>\n",
       "    </tr>\n",
       "    <tr>\n",
       "      <th>49</th>\n",
       "      <td>This 1996 Nissan Nismo GT-R is the most expens...</td>\n",
       "    </tr>\n",
       "  </tbody>\n",
       "</table>\n",
       "</div>"
      ],
      "text/plain": [
       "                                  Most expensive cars\n",
       "0   Mercedes-AMG GT S used during winter gets the ...\n",
       "1   This 1996 Nissan Nismo GT-R is the most expens...\n",
       "2   UK: Bentley performance cars line up for the m...\n",
       "3   Bugatti La Voiture Noire joins world's most ex...\n",
       "4   Most expensive auction at Monterey 2022 is 195...\n",
       "5   Mercedes 300 SLR Uhlenhaut Coupe is world's mo...\n",
       "6   Mercedes-Benz 300 SLR could be the world's mos...\n",
       "7   Bentley Coupe by Mulliner expected to be compa...\n",
       "8   Evo VI Tommi Makinen becomes most expensive La...\n",
       "9   Study shows most drivers think electric cars a...\n",
       "10  Bugatti La Voiture Noire becomes the ultimate ...\n",
       "11  Koenigsegg Regera and Agera RS with blue carbo...\n",
       "12  Here are the most expensive Premier League pla...\n",
       "13  February and August are the cheapest months to...\n",
       "14  Birmingham is the UK's most expensive place to...\n",
       "15  Nine of the 10 most expensive places to insure...\n",
       "16  £6.7m Veneno Roadster becomes most expensive L...\n",
       "17                20 most expensive cars in the world\n",
       "18  Watch the world's most expensive new car in mo...\n",
       "19  £150,000 Mercedes-Maybach GLS to be built in A...\n",
       "20          The story behind Bugatti La Voiture Noire\n",
       "21  Bugatti La Voiture Noire debuts in Geneva: Mos...\n",
       "22        Top 5 most expensive Porsche cars ever sold\n",
       "23   Toyota Century GRMN is real and it's spectacular\n",
       "24  Mercedes-AMG GT S used during winter gets the ...\n",
       "25  This 1996 Nissan Nismo GT-R is the most expens...\n",
       "26  UK: Bentley performance cars line up for the m...\n",
       "27  Bugatti La Voiture Noire joins world's most ex...\n",
       "28  Most expensive auction at Monterey 2022 is 195...\n",
       "29  Mercedes 300 SLR Uhlenhaut Coupe is world's mo...\n",
       "30  Mercedes-Benz 300 SLR could be the world's mos...\n",
       "31  Bentley Coupe by Mulliner expected to be compa...\n",
       "32  Evo VI Tommi Makinen becomes most expensive La...\n",
       "33  Study shows most drivers think electric cars a...\n",
       "34  Bugatti La Voiture Noire becomes the ultimate ...\n",
       "35  Koenigsegg Regera and Agera RS with blue carbo...\n",
       "36  Here are the most expensive Premier League pla...\n",
       "37  February and August are the cheapest months to...\n",
       "38  Birmingham is the UK's most expensive place to...\n",
       "39  Nine of the 10 most expensive places to insure...\n",
       "40  £6.7m Veneno Roadster becomes most expensive L...\n",
       "41                20 most expensive cars in the world\n",
       "42  Watch the world's most expensive new car in mo...\n",
       "43  £150,000 Mercedes-Maybach GLS to be built in A...\n",
       "44          The story behind Bugatti La Voiture Noire\n",
       "45  Bugatti La Voiture Noire debuts in Geneva: Mos...\n",
       "46        Top 5 most expensive Porsche cars ever sold\n",
       "47   Toyota Century GRMN is real and it's spectacular\n",
       "48  Mercedes-AMG GT S used during winter gets the ...\n",
       "49  This 1996 Nissan Nismo GT-R is the most expens..."
      ]
     },
     "execution_count": 908,
     "metadata": {},
     "output_type": "execute_result"
    }
   ],
   "source": [
    "df"
   ]
  },
  {
   "cell_type": "code",
   "execution_count": 909,
   "id": "646ad117",
   "metadata": {},
   "outputs": [],
   "source": [
    "driver.close()"
   ]
  },
  {
   "cell_type": "markdown",
   "id": "c86bab9f",
   "metadata": {},
   "source": [
    "# Question 9"
   ]
  },
  {
   "cell_type": "code",
   "execution_count": 919,
   "id": "5701a13c",
   "metadata": {},
   "outputs": [],
   "source": [
    "driver=webdriver.Chrome()\n",
    "url=\"https://www.jagranjosh.com/\"\n",
    "driver.get(url)"
   ]
  },
  {
   "cell_type": "code",
   "execution_count": 922,
   "id": "0cc96b63",
   "metadata": {},
   "outputs": [
    {
     "data": {
      "text/plain": [
       "<selenium.webdriver.remote.webelement.WebElement (session=\"4b6e0a833383ad7ec2593aaa75b00c03\", element=\"A5E0E7C3A3B00D0499A5A54D093C59C4_element_177\")>"
      ]
     },
     "execution_count": 922,
     "metadata": {},
     "output_type": "execute_result"
    }
   ],
   "source": [
    "search_btn=driver.find_element(By.XPATH,'//meta[@content=\"GK\"]')\n",
    "search_btn"
   ]
  },
  {
   "cell_type": "code",
   "execution_count": 924,
   "id": "7b23f8f8",
   "metadata": {},
   "outputs": [],
   "source": [
    "search_btn=driver.find_element(By.XPATH,'/html/body/div[1]/header/nav/div/div/div[3]/ul/li[6]/a')\n",
    "search_btn.click()"
   ]
  },
  {
   "cell_type": "code",
   "execution_count": 925,
   "id": "117752ef",
   "metadata": {},
   "outputs": [
    {
     "data": {
      "text/plain": [
       "<selenium.webdriver.remote.webelement.WebElement (session=\"4b6e0a833383ad7ec2593aaa75b00c03\", element=\"2D110CF8B5B7C6105F5B5332EA0A181C_element_1060\")>"
      ]
     },
     "execution_count": 925,
     "metadata": {},
     "output_type": "execute_result"
    }
   ],
   "source": [
    "search_btn1=driver.find_element(By.XPATH,'/html/body/div[2]/div/div/div[2]/div/div[10]/div/div/ul/li[2]/a')\n",
    "search_btn1"
   ]
  },
  {
   "cell_type": "code",
   "execution_count": 926,
   "id": "734a7ef5",
   "metadata": {},
   "outputs": [],
   "source": [
    "search_btn1=driver.find_element(By.XPATH,'/html/body/div[2]/div/div/div[2]/div/div[10]/div/div/ul/li[2]/a')\n",
    "search_btn1.click()"
   ]
  },
  {
   "cell_type": "code",
   "execution_count": 978,
   "id": "69b3ba88",
   "metadata": {},
   "outputs": [],
   "source": [
    "title=[]\n",
    "born_dead=[]\n",
    "term=[]\n",
    "remarks=[]"
   ]
  },
  {
   "cell_type": "code",
   "execution_count": 981,
   "id": "5a7fb970",
   "metadata": {},
   "outputs": [],
   "source": [
    "title=[]\n",
    "born_dead=[]\n",
    "term=[]\n",
    "remarks=[]"
   ]
  },
  {
   "cell_type": "code",
   "execution_count": 983,
   "id": "7b5bf3a6",
   "metadata": {},
   "outputs": [],
   "source": [
    " for i in range(3):\n",
    "    name=driver.find_elements(By.XPATH,'//td[@style=\"width: 150px; height: 121px;\"]/p/a')\n",
    "    for j  in name:\n",
    "        title.append(j.text)\n",
    "    title[:50] "
   ]
  },
  {
   "cell_type": "code",
   "execution_count": 985,
   "id": "19e45ef1",
   "metadata": {},
   "outputs": [
    {
     "data": {
      "text/plain": [
       "[]"
      ]
     },
     "execution_count": 985,
     "metadata": {},
     "output_type": "execute_result"
    }
   ],
   "source": [
    "title[:50]"
   ]
  },
  {
   "cell_type": "code",
   "execution_count": 986,
   "id": "a4400c41",
   "metadata": {},
   "outputs": [],
   "source": [
    "#stuck at this stage"
   ]
  },
  {
   "cell_type": "code",
   "execution_count": 989,
   "id": "e834dc81",
   "metadata": {},
   "outputs": [],
   "source": [
    "driver=webdriver.Chrome()\n",
    "url=\"https://www.flipkart.com/apple-iphone-11-black-64-gb/productreviews\"\n",
    "driver.get(url)"
   ]
  },
  {
   "cell_type": "code",
   "execution_count": null,
   "id": "85d04471",
   "metadata": {},
   "outputs": [],
   "source": []
  }
 ],
 "metadata": {
  "kernelspec": {
   "display_name": "Python 3 (ipykernel)",
   "language": "python",
   "name": "python3"
  },
  "language_info": {
   "codemirror_mode": {
    "name": "ipython",
    "version": 3
   },
   "file_extension": ".py",
   "mimetype": "text/x-python",
   "name": "python",
   "nbconvert_exporter": "python",
   "pygments_lexer": "ipython3",
   "version": "3.10.9"
  }
 },
 "nbformat": 4,
 "nbformat_minor": 5
}
