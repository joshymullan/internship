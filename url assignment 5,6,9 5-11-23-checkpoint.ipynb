{
 "cells": [
  {
   "cell_type": "markdown",
   "id": "4a7fc84b",
   "metadata": {},
   "source": [
    "# question 5"
   ]
  },
  {
   "cell_type": "code",
   "execution_count": 128,
   "id": "81f148a6",
   "metadata": {},
   "outputs": [],
   "source": [
    "import selenium\n",
    "from selenium import webdriver\n",
    "from selenium.webdriver.common.by import By\n",
    "import warnings \n",
    "warnings.filterwarnings(\"ignore\")\n",
    "import time\n",
    "from selenium.common.exceptions import StaleElementReferenceException, NoSuchElementException"
   ]
  },
  {
   "cell_type": "code",
   "execution_count": 6,
   "id": "ceafe739",
   "metadata": {},
   "outputs": [],
   "source": [
    "driver=webdriver.Chrome()\n",
    "url='https://www.google.co.in/maps'\n",
    "driver.get(url)"
   ]
  },
  {
   "cell_type": "code",
   "execution_count": 14,
   "id": "606f7174",
   "metadata": {},
   "outputs": [
    {
     "name": "stdout",
     "output_type": "stream",
     "text": [
      "Enter City Name : london\n"
     ]
    }
   ],
   "source": [
    "city = input('Enter City Name : ')                                         \n",
    "search = driver.find_element(By.XPATH,'//input[@jslog=\"11886\"]')\n",
    "search.clear()                                                             \n",
    "\n",
    "search.send_keys(city)                                                     \n",
    "button = driver.find_element(By.XPATH,'/html/body/div[3]/div[8]/div[3]/div[1]/div[1]/div/div[2]/div[1]/button')               \n",
    "button.click()  "
   ]
  },
  {
   "cell_type": "code",
   "execution_count": 16,
   "id": "7dcea61f",
   "metadata": {},
   "outputs": [
    {
     "data": {
      "text/plain": [
       "'https://www.google.co.in/maps/place/London/@51.515104,-0.1712237,9.75z/data=!4m6!3m5!1s0x47d8a00baf21de75:0x52963a5addd52a99!8m2!3d51.5072178!4d-0.1275862!16zL20vMDRqcGw?entry=ttu'"
      ]
     },
     "execution_count": 16,
     "metadata": {},
     "output_type": "execute_result"
    }
   ],
   "source": [
    "url_string = driver.current_url\n",
    "url_string"
   ]
  },
  {
   "cell_type": "markdown",
   "id": "fa92bcdb",
   "metadata": {},
   "source": [
    "# question 6"
   ]
  },
  {
   "cell_type": "code",
   "execution_count": 200,
   "id": "db3078e8",
   "metadata": {},
   "outputs": [],
   "source": [
    "driver=webdriver.Chrome()\n",
    "url='https://digit.in/'\n",
    "driver.get(url)"
   ]
  },
  {
   "cell_type": "code",
   "execution_count": 201,
   "id": "9b94376a",
   "metadata": {},
   "outputs": [
    {
     "data": {
      "text/plain": [
       "<selenium.webdriver.remote.webelement.WebElement (session=\"e587bb7ddef04cb65547d0f2c0b3b975\", element=\"E3DDAF94B96CC6EA36AAD997C5F95862_element_305\")>"
      ]
     },
     "execution_count": 201,
     "metadata": {},
     "output_type": "execute_result"
    }
   ],
   "source": [
    "search_btn=driver.find_element(By.CLASS_NAME,\"icon-search-onclick\")\n",
    "search_btn"
   ]
  },
  {
   "cell_type": "code",
   "execution_count": 202,
   "id": "c60d54e3",
   "metadata": {},
   "outputs": [],
   "source": [
    "search_btn=driver.find_element(By.CLASS_NAME,\"icon-search-onclick\")\n",
    "search_btn.click()"
   ]
  },
  {
   "cell_type": "code",
   "execution_count": 203,
   "id": "6194f664",
   "metadata": {},
   "outputs": [],
   "source": [
    "search_g= driver.find_element(By.XPATH,'/html/body/div[5]/div/form/input[1]')\n",
    "search_g\n",
    "search_g.send_keys('laptop')"
   ]
  },
  {
   "cell_type": "code",
   "execution_count": 204,
   "id": "47e299be",
   "metadata": {},
   "outputs": [
    {
     "data": {
      "text/plain": [
       "<selenium.webdriver.remote.webelement.WebElement (session=\"e587bb7ddef04cb65547d0f2c0b3b975\", element=\"E3DDAF94B96CC6EA36AAD997C5F95862_element_915\")>"
      ]
     },
     "execution_count": 204,
     "metadata": {},
     "output_type": "execute_result"
    }
   ],
   "source": [
    "search_btn1=driver.find_element(By.XPATH,'/html/body/div[5]/div/form/button')\n",
    "search_btn1"
   ]
  },
  {
   "cell_type": "code",
   "execution_count": 206,
   "id": "0d75f7e9",
   "metadata": {},
   "outputs": [],
   "source": [
    "search_btn1=driver.find_element(By.XPATH,'/html/body/div[5]/div/form/button')\n",
    "search_btn1.click()"
   ]
  },
  {
   "cell_type": "code",
   "execution_count": 207,
   "id": "62fd5935",
   "metadata": {},
   "outputs": [],
   "source": [
    "prod_url=[]\n",
    "for page in range(0,1):\n",
    "    url1=driver.find_elements(By.XPATH,'//div[@class=\"product col_item woo_grid_compact two_column_mobile type-product \"]/h3/a')\n",
    "    for t in url1:\n",
    "        prod_url.append(t.get_attribute('href'))"
   ]
  },
  {
   "cell_type": "code",
   "execution_count": 208,
   "id": "c2416c4a",
   "metadata": {},
   "outputs": [
    {
     "data": {
      "text/plain": [
       "['https://www.digit.in/laptops/avita-pura-e14-ns14a6ing541-ibb-14-inches-laptop-price-351186.html',\n",
       " 'https://www.digit.in/laptops/dell-alienware-m16-r1-gaming-laptop-price-350853.html',\n",
       " 'https://www.digit.in/laptops/dell-alienware-x14-r2-gaming-laptop-price-350232.html',\n",
       " 'https://www.digit.in/laptops/hp-victus-gaming-laptop-16-r0075tx-price-349620.html',\n",
       " 'https://www.digit.in/laptops/microsoft-surface-laptop-4-5pb-00023-ryzen-5-4680u-2021-price-345138.html',\n",
       " 'https://www.digit.in/laptops/microsoft-surface-laptop-3-v4g-00021-ryzen-5-3580u-2020-price-337245.html',\n",
       " 'https://www.digit.in/laptops/microsoft-surface-laptop-5-rip-00048-12th-gen-core-i7-1255u-2022-price-332142.html',\n",
       " 'https://www.digit.in/laptops/microsoft-surface-laptop-5-rby-00023-12th-gen-core-i7-1255u-2022-price-332133.html',\n",
       " 'https://www.digit.in/laptops/microsoft-surface-laptop-5-rbg-00048-12th-gen-core-i7-1255u-2022-price-332124.html',\n",
       " 'https://www.digit.in/laptops/microsoft-surface-laptop-5-qzi-00023-12th-gen-core-i5-1235u-2022-price-332115.html',\n",
       " 'https://www.digit.in/laptops/microsoft-surface-laptop-studio-thr-00022-11th-gen-core-i5-11300h-2022-price-329001.html',\n",
       " 'https://www.digit.in/laptops/alienware-x14-gaming-laptop-price-318804.html']"
      ]
     },
     "execution_count": 208,
     "metadata": {},
     "output_type": "execute_result"
    }
   ],
   "source": [
    "prod_url"
   ]
  },
  {
   "cell_type": "code",
   "execution_count": 216,
   "id": "b623d33e",
   "metadata": {},
   "outputs": [],
   "source": [
    "Brand_Name=[]\n",
    "description=[]"
   ]
  },
  {
   "cell_type": "code",
   "execution_count": 217,
   "id": "8cd078a6",
   "metadata": {},
   "outputs": [],
   "source": [
    "for i in prod_url:\n",
    "    driver.get(i)\n",
    "    time.sleep(1)\n",
    "   \n",
    "    try:\n",
    "        brand=driver.find_element(By.XPATH,'/html/body/div[2]/div[3]/div/div/div/div/div[2]/div[1]/div[1]/h1')\n",
    "        Brand_Name.append(brand.text)\n",
    "         \n",
    "        des=driver.find_element(By.XPATH,'/html/body/div[2]/div[3]/div/div/div/div/div[2]/div[4]/div[1]/div[2]/div[2]/div[1]/div[2]/div/p')\n",
    "        description.append(des.text)\n",
    "    except NoSuchElementException :\n",
    "        Brand_Name.append('-')\n",
    "        description.append('-')"
   ]
  },
  {
   "cell_type": "code",
   "execution_count": 219,
   "id": "a1df0169",
   "metadata": {},
   "outputs": [
    {
     "data": {
      "text/plain": [
       "(['AVITA PURA E14 NS14A6ING541-IBB 14 Inches Laptop',\n",
       "  '-',\n",
       "  'Dell Alienware M16 R1 Gaming Laptop',\n",
       "  '-',\n",
       "  '-',\n",
       "  'Hp Victus Gaming Laptop 16-R0075TX',\n",
       "  '-',\n",
       "  'Microsoft Surface Laptop 4 5PB-00023 Ryzen 5-4680U',\n",
       "  '-',\n",
       "  'Microsoft Surface Laptop 3 V4G-00021 Ryzen 5-3580U',\n",
       "  '-',\n",
       "  'Microsoft Surface Laptop 5 RIP-00048 12th Gen Core I7-1255U (2022)',\n",
       "  '-',\n",
       "  'Microsoft Surface Laptop 5 RBY-00023 12th Gen Core I7-1255U (2022)',\n",
       "  '-',\n",
       "  'Microsoft Surface Laptop 5 RBG-00048 12th Gen Core I7-1255U (2022)',\n",
       "  '-',\n",
       "  'Microsoft Surface Laptop 5 QZI-00023 12th Gen Core I5-1235U (2022)',\n",
       "  '-',\n",
       "  'Microsoft Surface Laptop Studio Thr-00022 11th Gen Core I5-11300H (2022)',\n",
       "  '-',\n",
       "  'Alienware X14 Gaming Laptop'],\n",
       " ['-',\n",
       "  '-',\n",
       "  '-',\n",
       "  '-',\n",
       "  '-',\n",
       "  '-',\n",
       "  '-',\n",
       "  '-',\n",
       "  '-',\n",
       "  '-',\n",
       "  '-',\n",
       "  \"All things said and done, the Alienware X14 is an impressive machine. It's compact, looks extremely stylish, and comes with some crazy specs. However, it could have done more in the specs department for the price, since you can get similar and in some cases even better gaming performance on cheaper laptops.\"])"
      ]
     },
     "execution_count": 219,
     "metadata": {},
     "output_type": "execute_result"
    }
   ],
   "source": [
    "Brand_Name,description"
   ]
  },
  {
   "cell_type": "markdown",
   "id": "20238b3d",
   "metadata": {},
   "source": [
    "# question 9"
   ]
  },
  {
   "cell_type": "code",
   "execution_count": 329,
   "id": "a29d01c1",
   "metadata": {},
   "outputs": [],
   "source": [
    "driver=webdriver.Chrome()\n",
    "url='https://www.hostelworld.com/'\n",
    "driver.get(url)"
   ]
  },
  {
   "cell_type": "code",
   "execution_count": 353,
   "id": "2e03b560",
   "metadata": {},
   "outputs": [
    {
     "data": {
      "text/plain": [
       "<selenium.webdriver.remote.webelement.WebElement (session=\"1fc7096f03e1cc7eb13006043490ad55\", element=\"FA85F25DA3EB4796C91893AC32077FEE_element_259\")>"
      ]
     },
     "execution_count": 353,
     "metadata": {},
     "output_type": "execute_result"
    }
   ],
   "source": [
    "search_g= driver.find_element(By.XPATH,\"//input[@type='text']\")\n",
    "search_g"
   ]
  },
  {
   "cell_type": "code",
   "execution_count": 354,
   "id": "2896b070",
   "metadata": {},
   "outputs": [],
   "source": [
    "search_g.send_keys('london')"
   ]
  },
  {
   "cell_type": "code",
   "execution_count": 356,
   "id": "240f0d0e",
   "metadata": {},
   "outputs": [],
   "source": [
    "search_btn=driver.find_element(By.CLASS_NAME,\"label\")\n",
    "search_btn.click()"
   ]
  },
  {
   "cell_type": "code",
   "execution_count": null,
   "id": "b3c7a75a",
   "metadata": {},
   "outputs": [],
   "source": [
    "search_btn1=driver.find_element(By.XPATH,\"/html/body/div[3]/div/div/div[2]/div[2]/div[2]/div/div[2]/div/div/div[3]/div/div/button[2]/span\")\n",
    "search_btn1.click()"
   ]
  },
  {
   "cell_type": "code",
   "execution_count": null,
   "id": "1585d9e5",
   "metadata": {},
   "outputs": [],
   "source": [
    "search_btn1=driver.find_element(By.XPATH,'/html/body/div[3]/div/div/div[2]/div[2]/div[2]/div/div[2]/div/div/div[3]/div/div/button/span')\n",
    "search_btn1.click()"
   ]
  },
  {
   "cell_type": "code",
   "execution_count": 363,
   "id": "9377e3be",
   "metadata": {},
   "outputs": [],
   "source": [
    "prod_url=[]\n",
    "for page in range(0,1):\n",
    "    url1=driver.find_elements(By.XPATH,'/html/body/div[3]/div/div/div[2]/div[2]/div[1]/div/div/div[4]/div/a')\n",
    "    for t in url1:\n",
    "        prod_url.append(t.get_attribute('href'))"
   ]
  },
  {
   "cell_type": "code",
   "execution_count": 364,
   "id": "f0b1e026",
   "metadata": {},
   "outputs": [
    {
     "data": {
      "text/plain": [
       "['https://www.hostelworld.com/pwa/hosteldetails.php/St-Christopher-s-Village/London/502?from=2023-11-14&to=2023-11-17&guests=2',\n",
       " 'https://www.hostelworld.com/pwa/hosteldetails.php/Onefam-Notting-Hill/London/291433?from=2023-11-14&to=2023-11-17&guests=2',\n",
       " 'https://www.hostelworld.com/pwa/hosteldetails.php/Urbany-Hostel-London/London/303427?from=2023-11-14&to=2023-11-17&guests=2',\n",
       " 'https://www.hostelworld.com/pwa/hosteldetails.php/Palmers-Lodge-Swiss-Cottage/London/14348?from=2023-11-14&to=2023-11-17&guests=2',\n",
       " 'https://www.hostelworld.com/pwa/hosteldetails.php/Generator-London/London/510?from=2023-11-14&to=2023-11-17&guests=2',\n",
       " 'https://www.hostelworld.com/pwa/hosteldetails.php/Safestay-London-Elephant-Castle/London/55551?from=2023-11-14&to=2023-11-17&guests=2',\n",
       " 'https://www.hostelworld.com/pwa/hosteldetails.php/Astor-Hyde-Park/London/25678?from=2023-11-14&to=2023-11-17&guests=2',\n",
       " 'https://www.hostelworld.com/pwa/hosteldetails.php/NX-London-Hostel/London/15204?from=2023-11-14&to=2023-11-17&guests=2',\n",
       " 'https://www.hostelworld.com/pwa/hosteldetails.php/Safestay-London-Kensington-Holland-Park/London/93920?from=2023-11-14&to=2023-11-17&guests=2',\n",
       " 'https://www.hostelworld.com/pwa/hosteldetails.php/Clink261/London/516?from=2023-11-14&to=2023-11-17&guests=2',\n",
       " 'https://www.hostelworld.com/pwa/hosteldetails.php/No-8-Willesden-Hostel-London/London/18420?from=2023-11-14&to=2023-11-17&guests=2',\n",
       " 'https://www.hostelworld.com/pwa/hosteldetails.php/Smart-Russell-Square-Hostel/London/29412?from=2023-11-14&to=2023-11-17&guests=2',\n",
       " 'https://www.hostelworld.com/pwa/hosteldetails.php/Destinations-Hostels-The-Gallery/London/314563?from=2023-11-14&to=2023-11-17&guests=2',\n",
       " 'https://www.hostelworld.com/pwa/hosteldetails.php/Smart-Hyde-Park-Inn-Hostel/London/517?from=2023-11-14&to=2023-11-17&guests=2',\n",
       " 'https://www.hostelworld.com/pwa/hosteldetails.php/Phoenix-Hostel/London/48221?from=2023-11-14&to=2023-11-17&guests=2',\n",
       " 'https://www.hostelworld.com/pwa/hosteldetails.php/No-8-Seven-Sisters/London/91108?from=2023-11-14&to=2023-11-17&guests=2',\n",
       " 'https://www.hostelworld.com/pwa/hosteldetails.php/Hostelle-women-only-hostel-London/London/316723?from=2023-11-14&to=2023-11-17&guests=2',\n",
       " 'https://www.hostelworld.com/pwa/hosteldetails.php/YHA-London-Oxford-Street/London/6996?from=2023-11-14&to=2023-11-17&guests=2',\n",
       " 'https://www.hostelworld.com/pwa/hosteldetails.php/St-Christopher-s-Hammersmith/London/20976?from=2023-11-14&to=2023-11-17&guests=2',\n",
       " 'https://www.hostelworld.com/pwa/hosteldetails.php/Prime-Backpackers-Angel/London/93902?from=2023-11-14&to=2023-11-17&guests=2',\n",
       " 'https://www.hostelworld.com/pwa/hosteldetails.php/Barmy-Badger-Backpackers/London/64746?from=2023-11-14&to=2023-11-17&guests=2',\n",
       " 'https://www.hostelworld.com/pwa/hosteldetails.php/London-Backpackers/London/527?from=2023-11-14&to=2023-11-17&guests=2',\n",
       " 'https://www.hostelworld.com/pwa/hosteldetails.php/Astor-Victoria/London/524?from=2023-11-14&to=2023-11-17&guests=2',\n",
       " 'https://www.hostelworld.com/pwa/hosteldetails.php/Saint-James-Backpackers/London/70909?from=2023-11-14&to=2023-11-17&guests=2',\n",
       " 'https://www.hostelworld.com/pwa/hosteldetails.php/Kabannas-London-St-Pancras/London/7010?from=2023-11-14&to=2023-11-17&guests=2',\n",
       " 'https://www.hostelworld.com/pwa/hosteldetails.php/Book-a-Bed-Hostels/London/14746?from=2023-11-14&to=2023-11-17&guests=2',\n",
       " 'https://www.hostelworld.com/pwa/hosteldetails.php/St-Christopher-s-Camden/London/505?from=2023-11-14&to=2023-11-17&guests=2',\n",
       " 'https://www.hostelworld.com/pwa/hosteldetails.php/PubLove-The-Steam-Engine-Waterloo/London/29389?from=2023-11-14&to=2023-11-17&guests=2',\n",
       " 'https://www.hostelworld.com/pwa/hosteldetails.php/Bell-House-Hostel/London/315821?from=2023-11-14&to=2023-11-17&guests=2',\n",
       " 'https://www.hostelworld.com/pwa/hosteldetails.php/Smart-Hyde-Park-View-Hostel/London/8069?from=2023-11-14&to=2023-11-17&guests=2']"
      ]
     },
     "execution_count": 364,
     "metadata": {},
     "output_type": "execute_result"
    }
   ],
   "source": [
    "prod_url"
   ]
  },
  {
   "cell_type": "code",
   "execution_count": 369,
   "id": "b346c605",
   "metadata": {},
   "outputs": [],
   "source": [
    "Name=[]\n",
    "distance=[]\n",
    "rating=[]\n",
    "tot_review=[]\n",
    "over_review=[]\n",
    "private_price=[]\n",
    "dom_price=[]\n",
    "fecilities=[]\n",
    "description=[]\n"
   ]
  },
  {
   "cell_type": "code",
   "execution_count": 377,
   "id": "e9b13b0d",
   "metadata": {},
   "outputs": [],
   "source": [
    "for i in prod_url:\n",
    "    driver.get(i)\n",
    "    time.sleep(1)\n",
    "   \n",
    "    try:\n",
    "        brand=driver.find_element(By.XPATH,'/html/body/div[3]/div/div/div[2]/section/div[4]/div/div[1]/h1/div')\n",
    "        Name.append(brand.text)\n",
    "        \n",
    "        rate=driver.find_element(By.XPATH,'/html/body/div[3]/div/div/div[2]/section/div[8]/div/div[1]/div[1]/div[1]')\n",
    "        rating.append(rate.text)\n",
    "        \n",
    "        totrv=driver.find_element(By.XPATH,'/html/body/div[3]/div/div/div[2]/section/div[8]/div/div[1]/div[1]/div[2]/div[2]')\n",
    "        tot_review.append(totrv.text)\n",
    "        \n",
    "        overrw=driver.find_element(By.XPATH,'/html/body/div[3]/div/div/div[2]/section/div[8]/div/div[1]/div[1]/div[2]/div[1]/span')\n",
    "        over_review.append(overrw.text)\n",
    "        \n",
    "        pprice=driver.find_element(By.XPATH,'/html/body/div[3]/div/div/div[2]/section/div[10]/div/div/section/div/div/div[2]/div/div[2]/div[1]/div[2]/div/div')\n",
    "        private_price.append(pprice.text)\n",
    "        \n",
    "        dprice=driver.find_element(By.XPATH,'/html/body/div[3]/div/div/div[2]/section/div[10]/div/div/section/div/div[1]/div[2]/div/div[2]/div/div[2]/div[2]/div/div[1]/div[1]/div')\n",
    "        dom_price.append(dprice.text)\n",
    "        \n",
    "        feci=driver.find_element(By.XPATH,'/html/body/div[3]/div/div/div[2]/section/div[12]/div')\n",
    "        fecilities.append(feci.text)\n",
    "        \n",
    "        des=driver.find_element(By.XPATH,'/html/body/div[3]/div/div/div[2]/section/div[8]/div/div[2]/div[4]/div/div[2]')\n",
    "        description.append(des.text)\n",
    "        \n",
    "    except NoSuchElementException :\n",
    "        Name.append('-')\n",
    "        rating.append('-')\n",
    "        tot_review.append('-')\n",
    "        over_review.append('-')\n",
    "        private_price.append('-')\n",
    "        dom_pricer.append('-')\n",
    "        fecilities.append('-')\n",
    "        description.append('-')                           "
   ]
  },
  {
   "cell_type": "code",
   "execution_count": 379,
   "id": "15dbf4ae",
   "metadata": {},
   "outputs": [
    {
     "data": {
      "text/plain": [
       "([\"St Christopher's Village\",\n",
       "  \"St Christopher's Village\",\n",
       "  'Onefam Notting Hill',\n",
       "  '-',\n",
       "  \"St Christopher's Village\",\n",
       "  '-',\n",
       "  \"St Christopher's Village\",\n",
       "  'Onefam Notting Hill',\n",
       "  '-',\n",
       "  \"St Christopher's Village\",\n",
       "  'Onefam Notting Hill',\n",
       "  '-',\n",
       "  \"St Christopher's Village\",\n",
       "  '-',\n",
       "  \"St Christopher's Village\",\n",
       "  'Onefam Notting Hill',\n",
       "  '-',\n",
       "  \"St Christopher's Village\",\n",
       "  'Onefam Notting Hill',\n",
       "  '-',\n",
       "  'Urbany Hostel London',\n",
       "  '-',\n",
       "  'Palmers Lodge - Swiss Cottage',\n",
       "  'Generator London',\n",
       "  'Safestay London Elephant & Castle',\n",
       "  'Astor Hyde Park',\n",
       "  'NX London Hostel',\n",
       "  '-',\n",
       "  'Safestay London Kensington Holland Park',\n",
       "  '-',\n",
       "  'Clink261',\n",
       "  'No.8 Willesden Hostel London',\n",
       "  '-',\n",
       "  'Smart Russell Square Hostel',\n",
       "  'Destinations Hostels @ The Gallery',\n",
       "  '-',\n",
       "  'Smart Hyde Park Inn Hostel',\n",
       "  '-',\n",
       "  'Phoenix Hostel',\n",
       "  '-',\n",
       "  'No.8 Seven Sisters',\n",
       "  '-',\n",
       "  'Hostelle - women only hostel London',\n",
       "  '-',\n",
       "  'YHA London Oxford Street',\n",
       "  \"St Christopher's Hammersmith\",\n",
       "  'Prime Backpackers Angel',\n",
       "  '-',\n",
       "  'Barmy Badger Backpackers',\n",
       "  '-',\n",
       "  'London Backpackers',\n",
       "  '-',\n",
       "  'Astor Victoria',\n",
       "  'Saint James Backpackers',\n",
       "  'Kabannas London St Pancras',\n",
       "  'Book a Bed Hostels',\n",
       "  '-',\n",
       "  \"St Christopher's Camden\",\n",
       "  'PubLove @ The Steam Engine, Waterloo',\n",
       "  'Bell House Hostel',\n",
       "  '-',\n",
       "  'Smart Hyde Park View Hostel'],\n",
       " [],\n",
       " ['8.2',\n",
       "  '8.2',\n",
       "  '9.6',\n",
       "  '-',\n",
       "  '8.2',\n",
       "  '-',\n",
       "  '8.2',\n",
       "  '9.6',\n",
       "  '-',\n",
       "  '8.2',\n",
       "  '9.6',\n",
       "  '-',\n",
       "  '8.2',\n",
       "  '-',\n",
       "  '8.2',\n",
       "  '9.6',\n",
       "  '-',\n",
       "  '8.2',\n",
       "  '9.6',\n",
       "  '-',\n",
       "  '9.5',\n",
       "  '-',\n",
       "  '8.8',\n",
       "  '7.5',\n",
       "  '7.1',\n",
       "  '8.2',\n",
       "  '8.3',\n",
       "  '-',\n",
       "  '6.9',\n",
       "  '-',\n",
       "  '8.0',\n",
       "  '7.1',\n",
       "  '-',\n",
       "  '7.5',\n",
       "  '-',\n",
       "  '7.6',\n",
       "  '-',\n",
       "  '7.1',\n",
       "  '-',\n",
       "  '6.5',\n",
       "  '-',\n",
       "  '8.8',\n",
       "  '-',\n",
       "  '9.0',\n",
       "  '7.6',\n",
       "  '8.1',\n",
       "  '-',\n",
       "  '9.0',\n",
       "  '-',\n",
       "  '8.0',\n",
       "  '-',\n",
       "  '7.1',\n",
       "  '7.7',\n",
       "  '8.3',\n",
       "  '7.4',\n",
       "  '-',\n",
       "  '7.4',\n",
       "  '7.8',\n",
       "  '7.1',\n",
       "  '-',\n",
       "  '7.8'],\n",
       " ['12629 Total Reviews',\n",
       "  '12629 Total Reviews',\n",
       "  '2385 Total Reviews',\n",
       "  '-',\n",
       "  '12629 Total Reviews',\n",
       "  '-',\n",
       "  '12629 Total Reviews',\n",
       "  '2385 Total Reviews',\n",
       "  '-',\n",
       "  '12629 Total Reviews',\n",
       "  '2385 Total Reviews',\n",
       "  '-',\n",
       "  '12629 Total Reviews',\n",
       "  '-',\n",
       "  '12629 Total Reviews',\n",
       "  '2385 Total Reviews',\n",
       "  '-',\n",
       "  '12629 Total Reviews',\n",
       "  '2385 Total Reviews',\n",
       "  '-',\n",
       "  '1012 Total Reviews',\n",
       "  '-',\n",
       "  '15811 Total Reviews',\n",
       "  '7915 Total Reviews',\n",
       "  '5190 Total Reviews',\n",
       "  '12243 Total Reviews',\n",
       "  '2038 Total Reviews',\n",
       "  '-',\n",
       "  '1718 Total Reviews',\n",
       "  '-',\n",
       "  '448 Total Reviews',\n",
       "  '5139 Total Reviews',\n",
       "  '-',\n",
       "  '10144 Total Reviews',\n",
       "  '-',\n",
       "  '6766 Total Reviews',\n",
       "  '-',\n",
       "  '4538 Total Reviews',\n",
       "  '-',\n",
       "  '4116 Total Reviews',\n",
       "  '-',\n",
       "  '77 Total Reviews',\n",
       "  '-',\n",
       "  '4673 Total Reviews',\n",
       "  '4340 Total Reviews',\n",
       "  '835 Total Reviews',\n",
       "  '-',\n",
       "  '2009 Total Reviews',\n",
       "  '-',\n",
       "  '4544 Total Reviews',\n",
       "  '-',\n",
       "  '15055 Total Reviews',\n",
       "  '1938 Total Reviews',\n",
       "  '2941 Total Reviews',\n",
       "  '1288 Total Reviews',\n",
       "  '-',\n",
       "  '4104 Total Reviews',\n",
       "  '436 Total Reviews',\n",
       "  '112 Total Reviews',\n",
       "  '-',\n",
       "  '4729 Total Reviews'],\n",
       " ['Fabulous',\n",
       "  'Fabulous',\n",
       "  'Superb',\n",
       "  '-',\n",
       "  'Fabulous',\n",
       "  '-',\n",
       "  'Fabulous',\n",
       "  'Superb',\n",
       "  '-',\n",
       "  'Fabulous',\n",
       "  'Superb',\n",
       "  '-',\n",
       "  'Fabulous',\n",
       "  '-',\n",
       "  'Fabulous',\n",
       "  'Superb',\n",
       "  '-',\n",
       "  'Fabulous',\n",
       "  'Superb',\n",
       "  '-',\n",
       "  'Superb',\n",
       "  '-',\n",
       "  'Fabulous',\n",
       "  'Very Good',\n",
       "  'Very Good',\n",
       "  'Fabulous',\n",
       "  'Fabulous',\n",
       "  '-',\n",
       "  'Good',\n",
       "  '-',\n",
       "  'Fabulous',\n",
       "  'Very Good',\n",
       "  '-',\n",
       "  'Very Good',\n",
       "  '-',\n",
       "  'Very Good',\n",
       "  '-',\n",
       "  'Very Good',\n",
       "  '-',\n",
       "  'Good',\n",
       "  '-',\n",
       "  'Fabulous',\n",
       "  '-',\n",
       "  'Superb',\n",
       "  'Very Good',\n",
       "  'Fabulous',\n",
       "  '-',\n",
       "  'Superb',\n",
       "  '-',\n",
       "  'Fabulous',\n",
       "  '-',\n",
       "  'Very Good',\n",
       "  'Very Good',\n",
       "  'Fabulous',\n",
       "  'Very Good',\n",
       "  '-',\n",
       "  'Very Good',\n",
       "  'Very Good',\n",
       "  'Very Good',\n",
       "  '-',\n",
       "  'Very Good'],\n",
       " ['-10%',\n",
       "  '-10%',\n",
       "  '-',\n",
       "  '-',\n",
       "  '£22.97\\n£25.52',\n",
       "  '-',\n",
       "  '-10%\\n£22.97\\n£25.52\\n\\nStandard\\nChoose'],\n",
       " ['-10%', '-10%', '-10%', '-10%', '-10%'],\n",
       " ['Facilities\\nFree\\nLinen Included Free WiFi Free Internet Access\\nGeneral\\nSecurity Lockers Common Room Elevator Breakfast Not Included Air Conditioning Adaptors Book Exchange Hot Showers Dryer Reading Light Hair Dryers For Hire Hair Dryers Iron / Ironing Board Microwave Washing Machine Towels Not Included Follows Covid-19 sanitation guidance\\nServices\\nInternet access Laundry Facilities Towels for hire Luggage Storage 24 Hour Reception 24 Hour Security Housekeeping Late check-out\\nFood & Drink\\nRestaurant Bar Meals Available Vending Machines Tea & Coffee Making Facilities\\nEntertainment\\nNightclub Board Games Games Room Wi-Fi',\n",
       "  'Facilities\\nFree\\nLinen Included Free WiFi Free Internet Access\\nGeneral\\nSecurity Lockers Common Room Elevator Breakfast Not Included Air Conditioning Adaptors Book Exchange Hot Showers Dryer Reading Light Hair Dryers For Hire Hair Dryers Iron / Ironing Board Microwave Washing Machine Towels Not Included Follows Covid-19 sanitation guidance\\nServices\\nInternet access Laundry Facilities Towels for hire Luggage Storage 24 Hour Reception 24 Hour Security Housekeeping Late check-out\\nFood & Drink\\nRestaurant Bar Meals Available Vending Machines Tea & Coffee Making Facilities\\nEntertainment\\nNightclub Board Games Games Room Wi-Fi',\n",
       "  'Facilities\\nFree\\nLinen Included Free WiFi Free Internet Access\\nGeneral\\nSecurity Lockers Common Room Elevator Breakfast Not Included Air Conditioning Adaptors Book Exchange Hot Showers Dryer Reading Light Hair Dryers For Hire Hair Dryers Iron / Ironing Board Microwave Washing Machine Towels Not Included Follows Covid-19 sanitation guidance\\nServices\\nInternet access Laundry Facilities Towels for hire Luggage Storage 24 Hour Reception 24 Hour Security Housekeeping Late check-out\\nFood & Drink\\nRestaurant Bar Meals Available Vending Machines Tea & Coffee Making Facilities\\nEntertainment\\nNightclub Board Games Games Room Wi-Fi',\n",
       "  'Facilities\\nFree\\nLinen Included Free WiFi Free Internet Access\\nGeneral\\nSecurity Lockers Common Room Elevator Breakfast Not Included Air Conditioning Adaptors Book Exchange Hot Showers Dryer Reading Light Hair Dryers For Hire Hair Dryers Iron / Ironing Board Microwave Washing Machine Towels Not Included Follows Covid-19 sanitation guidance\\nServices\\nInternet access Laundry Facilities Towels for hire Luggage Storage 24 Hour Reception 24 Hour Security Housekeeping Late check-out\\nFood & Drink\\nRestaurant Bar Meals Available Vending Machines Tea & Coffee Making Facilities\\nEntertainment\\nNightclub Board Games Games Room Wi-Fi',\n",
       "  'Facilities\\nFree\\nLinen Included Free WiFi Free Internet Access\\nGeneral\\nSecurity Lockers Common Room Elevator Breakfast Not Included Air Conditioning Adaptors Book Exchange Hot Showers Dryer Reading Light Hair Dryers For Hire Hair Dryers Iron / Ironing Board Microwave Washing Machine Towels Not Included Follows Covid-19 sanitation guidance\\nServices\\nInternet access Laundry Facilities Towels for hire Luggage Storage 24 Hour Reception 24 Hour Security Housekeeping Late check-out\\nFood & Drink\\nRestaurant Bar Meals Available Vending Machines Tea & Coffee Making Facilities\\nEntertainment\\nNightclub Board Games Games Room Wi-Fi',\n",
       "  'Facilities\\nFree\\nLinen Included Free WiFi Free Internet Access\\nGeneral\\nSecurity Lockers Common Room Elevator Breakfast Not Included Air Conditioning Adaptors Book Exchange Hot Showers Dryer Reading Light Hair Dryers For Hire Hair Dryers Iron / Ironing Board Microwave Washing Machine Towels Not Included Follows Covid-19 sanitation guidance\\nServices\\nInternet access Laundry Facilities Towels for hire Luggage Storage 24 Hour Reception 24 Hour Security Housekeeping Late check-out\\nFood & Drink\\nRestaurant Bar Meals Available Vending Machines Tea & Coffee Making Facilities\\nEntertainment\\nNightclub Board Games Games Room Wi-Fi',\n",
       "  'Reviews & Ratings\\n9.6\\nSuperb\\n2385 Total Reviews\\nSecurity\\n9.8\\nLocation\\n9.7\\nStaff\\n9.8\\nAtmosphere\\n9.8\\nCleanliness\\n9.6\\nFacilities\\n9.2\\nValue For Money\\n9.5',\n",
       "  '-',\n",
       "  'Facilities\\nFree\\nLinen Included Free WiFi\\nGeneral\\nSecurity Lockers Microwave Follows Covid-19 sanitation guidance\\nServices\\nLuggage Storage 24 Hour Reception\\nFood & Drink\\nTea & Coffee Making Facilities\\nEntertainment\\nWi-Fi',\n",
       "  '-',\n",
       "  \"Facilities\\nFree\\nLinen Included Free WiFi Free Internet Access\\nGeneral\\nSecurity Lockers Key Card Access Common Room Elevator Bicycle Parking BBQ Breakfast Not Included Adaptors Book Exchange Hot Showers Self-Catering Facilities Cooker Fridge/Freezer Utensils Dryer Outdoor Terrace Reading Light Hair Dryers For Hire Parking Hair Dryers Iron / Ironing Board Safe Deposit Box Washing Machine Flexible NRR Follows Covid-19 sanitation guidance\\nServices\\nInternet access Laundry Facilities Towels for hire Luggage Storage 24 Hour Reception Postal Service 24 Hour Security Housekeeping\\nFood & Drink\\nRestaurant Bar Meals Available Vending Machines Cafe Tea & Coffee Making Facilities\\nEntertainment\\nPlayStation DVD's Board Games Games Room Pool Table Wi-Fi\",\n",
       "  'Facilities\\nFree\\nLinen Included Free City Maps Free WiFi Free Internet Access\\nGeneral\\nWheelchair Friendly Security Lockers Key Card Access Common Room Elevator Bicycle Parking Breakfast Not Included Meeting Rooms Hot Showers Reading Light Safe Deposit Box Card Phones Towels Not Included\\nServices\\nInternet access Laundry Facilities Airport Transfers Bicycle Hire Towels for hire Luggage Storage 24 Hour Reception Tours/Travel Desk ATM Shuttle Bus 24 Hour Security Housekeeping Express check-in / out Late check-out\\nFood & Drink\\nRestaurant Bar Meals Available Vending Machines Cafe\\nEntertainment\\nNightclub Board Games Games Room Pool Table Foosball Wi-Fi',\n",
       "  'Facilities\\nFree\\nLinen Included Free WiFi\\nGeneral\\nSecurity Lockers Key Card Access Common Room Adaptors Hot Showers Cots Available Dryer Outdoor Terrace Reading Light Hair Dryers For Hire Iron / Ironing Board Washing Machine Towels Not Included Follows Covid-19 sanitation guidance\\nServices\\nInternet access Laundry Facilities Towels for hire Luggage Storage 24 Hour Reception ATM 24 Hour Security Housekeeping Late check-out\\nFood & Drink\\nRestaurant Bar Vending Machines Cafe\\nEntertainment\\nPool Table Wi-Fi',\n",
       "  'Facilities\\nFree\\nLinen Included Free City Maps Free WiFi Free Internet Access\\nGeneral\\nSecurity Lockers Key Card Access Common Room Adaptors Book Exchange Hot Showers Self-Catering Facilities Cable TV Hair Dryers For Hire Hair Dryers Safe Deposit Box Washing Machine Follows Covid-19 sanitation guidance\\nServices\\nInternet access Laundry Facilities Towels for hire Luggage Storage 24 Hour Security Housekeeping\\nFood & Drink\\nVending Machines\\nEntertainment\\nWi-Fi',\n",
       "  'Facilities\\nFree\\nFree Breakfast Linen Included Towels Included Free WiFi\\nGeneral\\nSecurity Lockers Common Room Hot Showers Self-Catering Facilities Fridge/Freezer Utensils Hair Dryers For Hire Hair Dryers Microwave Washing Machine\\nServices\\nInternet access Laundry Facilities Towels for hire Housekeeping Express check-in / out Reception (limited hours)\\nFood & Drink\\nMeals Available Tea & Coffee Making Facilities\\nEntertainment\\nBoard Games Wi-Fi',\n",
       "  '-',\n",
       "  'Facilities\\nFree\\nLinen Included Free WiFi\\nGeneral\\nSecurity Lockers Key Card Access Common Room Breakfast Not Included Adaptors Hot Showers Dryer Outdoor Terrace Reading Light Hair Dryers For Hire Hair Dryers Iron / Ironing Board Safe Deposit Box Card Phones Washing Machine Towels Not Included\\nServices\\nLaundry Facilities Towels for hire Luggage Storage 24 Hour Reception ATM 24 Hour Security Housekeeping\\nFood & Drink\\nBar Meals Available Vending Machines Cafe\\nEntertainment\\nGames Room Pool Table Wi-Fi',\n",
       "  '-',\n",
       "  'Reviews & Ratings\\n8.0\\nFabulous\\n448 Total Reviews\\nSecurity\\n8.9\\nLocation\\n9.1\\nStaff\\n9\\nAtmosphere\\n6.9\\nCleanliness\\n7.3\\nFacilities\\n7.1\\nValue For Money\\n7.6',\n",
       "  'Facilities\\nFree\\nLinen Included Free WiFi\\nGeneral\\nSecurity Lockers Key Card Access Common Room Breakfast Not Included Adaptors Hot Showers Self-Catering Facilities Cooker Fridge/Freezer Utensils Cable TV Outdoor Terrace Iron / Ironing Board Microwave Towels Not Included Follows Covid-19 sanitation guidance\\nServices\\nLuggage Storage 24 Hour Security Housekeeping Reception (limited hours)\\nFood & Drink\\nBar Tea & Coffee Making Facilities\\nEntertainment\\nGames Room Pool Table Wi-Fi',\n",
       "  '-',\n",
       "  'Reviews & Ratings\\n7.5\\nVery Good\\n10144 Total Reviews\\nSecurity\\n8.4\\nLocation\\n8.9\\nStaff\\n7.7\\nAtmosphere\\n6.6\\nCleanliness\\n7.1\\nFacilities\\n6.6\\nValue For Money\\n7.1',\n",
       "  '-',\n",
       "  'Facilities\\nFree\\nLinen Included Free City Maps Free WiFi Free Internet Access\\nGeneral\\nSecurity Lockers Key Card Access Common Room Breakfast Not Included Air Conditioning Adaptors Hot Showers Self-Catering Facilities Dryer Cable TV Outdoor Terrace Hair Dryers Iron / Ironing Board Safe Deposit Box Microwave Washing Machine Towels Not Included Flexible NRR\\nServices\\nLaundry Facilities Luggage Storage 24 Hour Reception 24 Hour Security Housekeeping Late check-out\\nFood & Drink\\nVending Machines\\nEntertainment\\nBoard Games Games Room Wi-Fi',\n",
       "  '-',\n",
       "  \"Facilities\\nFree\\nLinen Included Free City Maps Free WiFi Free Internet Access\\nGeneral\\nSecurity Lockers Key Card Access Common Room Breakfast Not Included Adaptors Hot Showers Fridge/Freezer Utensils Hair Dryers Microwave Towels Not Included Follows Covid-19 sanitation guidance\\nServices\\nInternet access Luggage Storage 24 Hour Reception Housekeeping Reception (limited hours)\\nFood & Drink\\nBar\\nEntertainment\\nDVD's Board Games Wi-Fi\",\n",
       "  '-',\n",
       "  'Facilities\\nFree\\nLinen Included Free WiFi\\nGeneral\\nSecurity Lockers Key Card Access Common Room Bicycle Parking Breakfast Not Included Adaptors Hot Showers Self-Catering Facilities Cooker Fridge/Freezer Utensils Cable TV Outdoor Terrace Iron / Ironing Board Microwave Towels Not Included Follows Covid-19 sanitation guidance\\nServices\\nLuggage Storage 24 Hour Security Housekeeping Reception (limited hours)\\nFood & Drink\\nBar Tea & Coffee Making Facilities\\nEntertainment\\nGames Room Pool Table Wi-Fi',\n",
       "  '-',\n",
       "  \"Facilities\\nFree\\nLinen Included Free City Maps Free WiFi Free Internet Access\\nGeneral\\nCommon Room Hot Showers Fridge/Freezer Cable TV Outdoor Terrace Hair Dryers Iron / Ironing Board Microwave Follows Covid-19 sanitation guidance\\nServices\\nLaundry Facilities Towels for hire Luggage Storage 24 Hour Reception Housekeeping\\nFood & Drink\\nTea & Coffee Making Facilities\\nEntertainment\\nDVD's Board Games Wi-Fi\",\n",
       "  '-',\n",
       "  'Facilities\\nFree\\nLinen Included Free WiFi\\nGeneral\\nSecurity Lockers Key Card Access Common Room Breakfast Not Included Adaptors Hot Showers Self-Catering Facilities Cooker Fridge/Freezer Dryer Reading Light Hair Dryers For Hire Iron / Ironing Board Microwave Card Phones Washing Machine Towels Not Included Follows Covid-19 sanitation guidance\\nServices\\nInternet access Laundry Facilities Towels for hire Luggage Storage 24 Hour Reception Tours/Travel Desk 24 Hour Security Housekeeping Late check-out Reception (limited hours)\\nFood & Drink\\nBar Meals Available Cafe',\n",
       "  'Facilities\\nFree\\nLinen Included Free City Maps Free WiFi Free Internet Access\\nGeneral\\nSecurity Lockers Key Card Access Hot Showers Reading Light Hair Dryers For Hire Hair Dryers Microwave Towels Not Included Follows Covid-19 sanitation guidance\\nServices\\nInternet access Towels for hire Luggage Storage 24 Hour Reception Housekeeping Late check-out\\nFood & Drink\\nRestaurant Bar Vending Machines\\nEntertainment\\nNightclub Wi-Fi',\n",
       "  'Facilities\\nFree\\nLinen Included Free City Maps Towels Included Free WiFi Free Internet Access Free City Tour\\nGeneral\\nSecurity Lockers Key Card Access Common Room BBQ Breakfast Not Included Adaptors Book Exchange Hot Showers Self-Catering Facilities Cooker Fridge/Freezer Utensils Dryer Cable TV Outdoor Terrace Reading Light Hair Dryers For Hire Hair Dryers Iron / Ironing Board Microwave Washing Machine Follows Covid-19 sanitation guidance\\nServices\\nInternet access Laundry Facilities Towels for hire Luggage Storage 24 Hour Security Reception (limited hours)\\nFood & Drink\\nTea & Coffee Making Facilities\\nEntertainment\\nBoard Games Wi-Fi',\n",
       "  '-',\n",
       "  'Facilities\\nFree\\nFree Breakfast Linen Included Free City Maps Free WiFi\\nGeneral\\nSecurity Lockers Common Room Bicycle Parking BBQ Adaptors Book Exchange Hot Showers Self-Catering Facilities Cooker Fridge/Freezer Utensils Dryer Cable TV Outdoor Terrace Reading Light Jobs Board Hair Dryers For Hire Iron / Ironing Board Safe Deposit Box Microwave Washing Machine Towels Not Included\\nServices\\nLaundry Facilities Towels for hire Luggage Storage Postal Service 24 Hour Security Reception (limited hours)\\nFood & Drink\\nTea & Coffee Making Facilities\\nEntertainment\\nPlayStation Board Games Wi-Fi',\n",
       "  '-',\n",
       "  'Facilities\\nFree\\nLinen Included Free City Maps Free WiFi Free Internet Access\\nGeneral\\nSecurity Lockers Key Card Access Common Room Breakfast Not Included Adaptors Book Exchange Hot Showers Self-Catering Facilities Cooker Fridge/Freezer Utensils Dryer Cable TV Reading Light Hair Dryers For Hire Hair Dryers Iron / Ironing Board Safe Deposit Box Microwave Washing Machine Towels Not Included Flexible NRR Follows Covid-19 sanitation guidance\\nServices\\nInternet access Laundry Facilities Towels for hire Luggage Storage Tours/Travel Desk Postal Service 24 Hour Security Housekeeping Reception (limited hours)\\nFood & Drink\\nTea & Coffee Making Facilities\\nEntertainment\\nBoard Games Games Room Pool Table Wi-Fi',\n",
       "  '-',\n",
       "  \"Facilities\\nFree\\nLinen Included Free City Maps Free WiFi Free Internet Access\\nGeneral\\nSecurity Lockers Key Card Access Common Room Meeting Rooms Adaptors Book Exchange Hot Showers Self-Catering Facilities Cable TV Hair Dryers For Hire Hair Dryers Iron / Ironing Board Safe Deposit Box Washing Machine Follows Covid-19 sanitation guidance\\nServices\\nInternet access Laundry Facilities Towels for hire Luggage Storage 24 Hour Reception ATM 24 Hour Security Housekeeping Late check-out\\nFood & Drink\\nVending Machines Cafe Tea & Coffee Making Facilities\\nEntertainment\\nPlayStation DVD's Board Games Wi-Fi\",\n",
       "  \"Facilities\\nFree\\nFree Breakfast Linen Included Free City Maps Free WiFi Free Internet Access\\nGeneral\\nCommon Room BBQ Adaptors Hot Showers Self-Catering Facilities Cooker Fridge/Freezer Cable TV Outdoor Terrace Jobs Board Hair Dryers For Hire Hair Dryers Microwave Towels Not Included Follows Covid-19 sanitation guidance\\nServices\\nInternet access Towels for hire Luggage Storage 24 Hour Reception 24 Hour Security Housekeeping Reception (limited hours)\\nFood & Drink\\nMeals Available Vending Machines Cafe Tea & Coffee Making Facilities\\nEntertainment\\nPlayStation DVD's Board Games Wi-Fi\",\n",
       "  'Facilities\\nFree\\nLinen Included Free City Maps Free WiFi\\nGeneral\\nWheelchair Friendly Security Lockers Key Card Access Elevator Breakfast Not Included Adaptors Book Exchange Hot Showers Reading Light Hair Dryers Washing Machine Towels Not Included Follows Covid-19 sanitation guidance\\nServices\\nInternet access Towels for hire Luggage Storage 24 Hour Reception Tours/Travel Desk 24 Hour Security\\nFood & Drink\\nBar Meals Available Cafe',\n",
       "  'Facilities\\nFree\\nLinen Included Free City Maps Free WiFi Free Internet Access\\nGeneral\\nWheelchair Friendly Security Lockers Key Card Access Common Room Bicycle Parking Breakfast Not Included Adaptors Hot Showers Fridge/Freezer Dryer Cable TV Reading Light Hair Dryers For Hire Hair Dryers Iron / Ironing Board Safe Deposit Box Card Phones Washing Machine\\nServices\\nInternet access Laundry Facilities Towels for hire Luggage Storage Fax Service 24 Hour Security Housekeeping\\nFood & Drink\\nRestaurant Bar Meals Available Vending Machines Tea & Coffee Making Facilities\\nEntertainment\\nWii Board Games Games Room Foosball Wi-Fi',\n",
       "  '-',\n",
       "  \"Facilities\\nFree\\nLinen Included Free City Maps Free WiFi Free Internet Access\\nGeneral\\nSecurity Lockers Key Card Access Common Room Breakfast Not Included Adaptors Book Exchange Dryer Cable TV Hair Dryers For Hire Washing Machine Follows Covid-19 sanitation guidance\\nServices\\nInternet access Laundry Facilities Towels for hire Luggage Storage 24 Hour Reception 24 Hour Security Housekeeping\\nFood & Drink\\nRestaurant Bar Meals Available Cafe\\nEntertainment\\nNightclub DVD's Board Games Wi-Fi\",\n",
       "  'Facilities\\nFree\\nLinen Included Free City Maps Free WiFi\\nGeneral\\nSecurity Lockers Key Card Access Adaptors Hot Showers Outdoor Terrace Hair Dryers Ceiling fan Iron / Ironing Board Towels Not Included Flexible NRR\\nServices\\nInternet access Towels for hire Luggage Storage 24 Hour Reception Tours/Travel Desk 24 Hour Security Housekeeping Late check-out\\nFood & Drink\\nRestaurant Bar Meals Available Cafe\\nEntertainment\\nBoard Games Wi-Fi',\n",
       "  'Facilities\\nFree\\nLinen Included Free WiFi\\nGeneral\\nSecurity Lockers\\nServices\\nBicycle Hire Towels for hire 24 Hour Reception Housekeeping\\nFood & Drink\\nBar\\nEntertainment\\nWi-Fi',\n",
       "  '-',\n",
       "  'Facilities\\nFree\\nLinen Included Free City Maps Free WiFi Free Internet Access Free City Tour\\nGeneral\\nSecurity Lockers Key Card Access Common Room Elevator Breakfast Not Included Adaptors Hot Showers Fridge/Freezer Dryer Hair Dryers Iron / Ironing Board Safe Deposit Box Microwave Washing Machine Towels Not Included\\nServices\\nInternet access Laundry Facilities Towels for hire Luggage Storage 24 Hour Reception Tours/Travel Desk Currency Exchange Housekeeping Late check-out\\nFood & Drink\\nBar Cafe\\nEntertainment\\nBoard Games Wi-Fi'],\n",
       " [\"St Christopher's Inn at The Village in London Bridge is the UK's first capsule hostel. Its brand new rooms have been specially designed for our guests to get the best night sleep possible before they wake up in amongst one of London's most vibrant areas. \\n\\nVoted as one of the best party hostels in the world, our multi-award winning hostel offers guests Japanese-style capsule beds with USB ports, cool mood lighting and curtains for privacy. We even have new private rooms with one having an awesome view of the Shard right outside! There is a continental breakfast available every morning for just £5 a day which can be purchased at reception on arrival.\\n\\nStep out the door and you'll be just a short walk away from the London Eye, Tower Bridge and the oldest food market in the city, Borough Market. We're also only a two minute walk from TWO tube stations so getting anywhere in London couldn't be easier. \\n\\nParty into the night in our hostel party bar Belushi's, head down to the Dugout to watch live sports and indulge in our legendary burgers with a discount for all our guests.\\n\\n*Please note that we require an in date government approved - drivers license, passport or national ID card at check-in.\\n\\n**Guests under the age of 18 must stay in a private room with guardians. They cannot share in general dormitory rooms with people who are not part of their own group or family. Legal guardians must be over 21. Under-18s are not allowed in the bars or pubs.\\n\\n***The maximum stay policy is 7 days\\n\\n****Please note: non-refundable reservations will be fully charged at the time of booking.\",\n",
       "  \"St Christopher's Inn at The Village in London Bridge is the UK's first capsule hostel. Its brand new rooms have been specially designed for our guests to get the best night sleep possible before they wake up in amongst one of London's most vibrant areas. \\n\\nVoted as one of the best party hostels in the world, our multi-award winning hostel offers guests Japanese-style capsule beds with USB ports, cool mood lighting and curtains for privacy. We even have new private rooms with one having an awesome view of the Shard right outside! There is a continental breakfast available every morning for just £5 a day which can be purchased at reception on arrival.\\n\\nStep out the door and you'll be just a short walk away from the London Eye, Tower Bridge and the oldest food market in the city, Borough Market. We're also only a two minute walk from TWO tube stations so getting anywhere in London couldn't be easier. \\n\\nParty into the night in our hostel party bar Belushi's, head down to the Dugout to watch live sports and indulge in our legendary burgers with a discount for all our guests.\\n\\n*Please note that we require an in date government approved - drivers license, passport or national ID card at check-in.\\n\\n**Guests under the age of 18 must stay in a private room with guardians. They cannot share in general dormitory rooms with people who are not part of their own group or family. Legal guardians must be over 21. Under-18s are not allowed in the bars or pubs.\\n\\n***The maximum stay policy is 7 days\\n\\n****Please note: non-refundable reservations will be fully charged at the time of booking.\",\n",
       "  \"St Christopher's Inn at The Village in London Bridge is the UK's first capsule hostel. Its brand new rooms have been specially designed for our guests to get the best night sleep possible before they wake up in amongst one of London's most vibrant areas. \\n\\nVoted as one of the best party hostels in the world, our multi-award winning hostel offers guests Japanese-style capsule beds with USB ports, cool mood lighting and curtains for privacy. We even have new private rooms with one having an awesome view of the Shard right outside! There is a continental breakfast available every morning for just £5 a day which can be purchased at reception on arrival.\\n\\nStep out the door and you'll be just a short walk away from the London Eye, Tower Bridge and the oldest food market in the city, Borough Market. We're also only a two minute walk from TWO tube stations so getting anywhere in London couldn't be easier. \\n\\nParty into the night in our hostel party bar Belushi's, head down to the Dugout to watch live sports and indulge in our legendary burgers with a discount for all our guests.\\n\\n*Please note that we require an in date government approved - drivers license, passport or national ID card at check-in.\\n\\n**Guests under the age of 18 must stay in a private room with guardians. They cannot share in general dormitory rooms with people who are not part of their own group or family. Legal guardians must be over 21. Under-18s are not allowed in the bars or pubs.\\n\\n***The maximum stay policy is 7 days\\n\\n****Please note: non-refundable reservations will be fully charged at the time of booking.\",\n",
       "  \"St Christopher's Inn at The Village in London Bridge is the UK's first capsule hostel. Its brand new rooms have been specially designed for our guests to get the best night sleep possible before they wake up in amongst one of London's most vibrant areas. \\n\\nVoted as one of the best party hostels in the world, our multi-award winning hostel offers guests Japanese-style capsule beds with USB ports, cool mood lighting and curtains for privacy. We even have new private rooms with one having an awesome view of the Shard right outside! There is a continental breakfast available every morning for just £5 a day which can be purchased at reception on arrival.\\n\\nStep out the door and you'll be just a short walk away from the London Eye, Tower Bridge and the oldest food market in the city, Borough Market. We're also only a two minute walk from TWO tube stations so getting anywhere in London couldn't be easier. \\n\\nParty into the night in our hostel party bar Belushi's, head down to the Dugout to watch live sports and indulge in our legendary burgers with a discount for all our guests.\\n\\n*Please note that we require an in date government approved - drivers license, passport or national ID card at check-in.\\n\\n**Guests under the age of 18 must stay in a private room with guardians. They cannot share in general dormitory rooms with people who are not part of their own group or family. Legal guardians must be over 21. Under-18s are not allowed in the bars or pubs.\\n\\n***The maximum stay policy is 7 days\\n\\n****Please note: non-refundable reservations will be fully charged at the time of booking.\",\n",
       "  \"St Christopher's Inn at The Village in London Bridge is the UK's first capsule hostel. Its brand new rooms have been specially designed for our guests to get the best night sleep possible before they wake up in amongst one of London's most vibrant areas. \\n\\nVoted as one of the best party hostels in the world, our multi-award winning hostel offers guests Japanese-style capsule beds with USB ports, cool mood lighting and curtains for privacy. We even have new private rooms with one having an awesome view of the Shard right outside! There is a continental breakfast available every morning for just £5 a day which can be purchased at reception on arrival.\\n\\nStep out the door and you'll be just a short walk away from the London Eye, Tower Bridge and the oldest food market in the city, Borough Market. We're also only a two minute walk from TWO tube stations so getting anywhere in London couldn't be easier. \\n\\nParty into the night in our hostel party bar Belushi's, head down to the Dugout to watch live sports and indulge in our legendary burgers with a discount for all our guests.\\n\\n*Please note that we require an in date government approved - drivers license, passport or national ID card at check-in.\\n\\n**Guests under the age of 18 must stay in a private room with guardians. They cannot share in general dormitory rooms with people who are not part of their own group or family. Legal guardians must be over 21. Under-18s are not allowed in the bars or pubs.\\n\\n***The maximum stay policy is 7 days\\n\\n****Please note: non-refundable reservations will be fully charged at the time of booking.\",\n",
       "  '-',\n",
       "  '-',\n",
       "  'Whether you\\'re a backpacker, flash-packer or a budget traveller, Palmers Lodge has everything you need for one of the most unique experiences in London! Combining the grand charm of our historic building constucted in 1882, our friendly team and accessible location, Palmers Lodge has it all. \\n\\nSwiss Cottage boasts not only a fantastic London city location and building but our services are unbeatable! We have a 24 hour reception so you can be assured we are always there when you need us, you can meet other like-minded travellers downstairs at Swiss Bar - taking advantage of our selections of drinks and snacks.\\n\\nAn added bonus is that beds are pre-made and come with linen all for free, so the late arriving lodger can jump straight into bed, or the bar! We also offer free Wi-Fi throughout the hostel so you can stay in touch with the rest of the world and explore what\\'s on in London! \\n\\nIt is easy to forget when you stay at Swiss Cottage that there is a vibrant city just outside waiting for you! We are close to the underground (tube to the locals) so you can be in any of London\\'s hotspots within minutes! If it\\'s shopping you\\'re looking for, the tube will take you directly from Swiss Cottage Station to the centre of Oxford Street (15 mins) or you can shop till you drop at Europe\\'s largest shopping centre Westfield. You could also have a drink or two in Leicester Square (15 mins) take a spin on the London Eye (20 mins) or spot Kate and William at Buckingham Palace (10 mins) all this and more with the tube from Swiss Cottage Station or Finchley Road only 200 metres away! \\n\\nAward winning Hostel, winning or being a finalist for \"Best Customer Service\" and \\'Best UK Youth Accommodation\\' (2012, 2013, 2015) by the British Education Travel Association, among our several other awards. \\n\\nJust some of our facilities and services:\\n? 24 hour reception and staff\\n? Check in time 2 pm\\n? Check out time 10 am\\n? Key-card door access\\n? Free safes and luggage lockers in every room\\n? En-suite rooms available\\n? Coach and car parking available (£10.00)\\n? Full CCTV coverage for added security\\n? Free linen and beds which are pre-made\\n? Bar and late night lounge areas\\n? Reading, conservatory and quiet rooms\\n? Lift\\n? Large selection of rooms including double, twin and dormitory rooms\\n? Heavy duty laptop and valuables safes at reception\\n? Ground floor reception and rooms\\n? Group and individual luggage storage for hire\\n? Photocopy facilities\\n? Free Wi-Fi and PC access\\n? Washing and drying facilities available\\n? Theatre and attraction ticket sales at reception\\n? Souvenirs and toiletries sales at reception\\n\\nNote that this property has a maximum stay of 14 nights (with a 6 months gap between any new reservations).\\n\\nAll under 18\\'s must be accompanied by an adult and have a written approval from parents with a copy of their passport or I.D. If staying in a single sex dorm room the adult and child must be the same gender. Please note under 16\\'s are not allowed to stay in dorm rooms. You must book a private room.\\n\\nPlease note that reservations for the night of the 31st December will be subject to a no-cancellation policy.\\n\\nThis property has a 24 HR cancellation policy. Bookings will need to be cancelled via email by 2 pm of the previous day the guest is supposed to arrive. \\nFailure to cancel within this time will result in a cancellation charge equal to the first night of your stay. \\n\\nReservations for any Guests that fail to arrive for check in between 2pm on their Date of Arrival, up until 5am the next day will be subject to complete cancellation of their reservation and also subject to a one-night cancellation charge unless the property have otherwise been informed of a late/delayed arrival and have also approved an amended check-in time and date. \\n\\nGuests are reminded that once they have paid on the day of check-in, no refunds will be issued.\\n\\nPalmers Lodge reserve the right to preauthorise Guests cards for prior to arrival. During times of extremely high demand, all reservations are required to have been made with a valid, chargeable card. Any reservations without a valid, chargeable card may be cancelled by Palmers Lodge at any given time.',\n",
       "  \"Generator London is a design hotel-hostel located in Russell Square in the heart of central London, a short stroll to Covent Garden, Regents Park and trendy King's Cross. Guests can choose from shared dorms to private rooms, offering something for everyone. Complete with 24-hour reception, free wifi, cafe and bar Generator is a fun and affordable choice in London.\\n\\nGenerator London was the very first Generator and you'll find it in the area of Russell Square in the heart of the West End. \\n\\nIt's the ideal spot to enjoy London from, everything you need to see is minutes away by tube. You'll never run out of things to do in the UK's capital. You just have to decide where to start and we can help you with that. When you have seen and done it all for the day head back to Generator and unwind. \\n\\nIt's a destination in its own right and a great place to socialise and reflect on your experiences of the day. Head to the bar and chill out areas to get yourself a well deserved drink or two. It's lively, friendly and un-missable. We've also got great beds for sleepy heads and of course you'll be enjoying London life in the most authentic surroundings. \\n\\nChoose from a great selection of rooms, from Dorms, to Quads, to Private rooms with innovative mod cons. Fast and free Wi-Fi is all yours too. To get the most out of your stay visit the travel shop and our city experts will help you devise an itinerary that will take you to all the hidden treasures this dynamic city has to offer. You'll have to stay longer to fit it all in but you'll not need convincing of that. We'll see you there soon.\",\n",
       "  \"Safestay at Elephant & Castle is ideal if you are looking for budget accommodation in London, whether you see the sights in this amazing city or travelling with your family. If Tate Modern, the National Theatre, The Imperial War Museum, the London Aquarium, the London Dungeon, a cricket match at the Kia Oval or clubbing at the world-famous Ministry of Sound are on your must-do list, Safestay London Elephant & Castle is perfectly located.\\n\\nOur beautiful 18th-century Georgian building is centrally located, close to London's mighty River Thames and the restaurants, bars and cafes the Southbank is famed for, along with the London Eye, Borough Market and Shakespeare's Globe Theatre. It's secure, stylish, comfortable and fun, with an illuminated garden for you to relax in.\\n\\nSo if you're after budget accommodation in London, bringing a group of school children to study the sights or want something different from the usual options in London, why not try this fantastic hostel out for size.\\n\\nClose to all the big London tourist attractions, our staff will happily help you plan your visit and give you top tips on what is happening in London during your stay.\\n\\nSee these London landmarks within 6 stops of the hostel using the Underground:\\n. Oxford Street\\n. Piccadilly Circus\\n. Leicester Square\\n. Covent Garden\\n. Westminster Abbey\\n. Big Ben & the Houses of Parliament\\n. Buckingham Palace\\n. St Paul's Cathedral\\n. The Tower of London and Tower Bridge \\n\\nAttractions: We sell discounted and fast track entrance tickets to some of London's most famous sights and best kept secrets. Including the London Eye, Madame Tussauds, The Tower of London, Walking tours, Bike tours, boat trips, and many more.\\n\\nHostel Activities: We organise fun stuff for you to do nearly every day of the week! Such as Free Walking tours, top-rated Pub Crawls, Group trips to famous West End Shows, Jet boating on the Thames\\n\\nThe hostel also offers free Wi-Fi, weekly activities, breakfast service, meals & snacks and it is open 24 hours a day.\\n\\nGuest will be required to show an official ID with photo at upon arrival. \\n\\nPerson under the age of 18 years are only allowed to stay in private rooms or dormitory rooms that are booked for use of one family or group of persons, and can't share a dormitory rooms with other guests. People under 18 years of age must travel with their parents or legal guardian.\\n\\nBREAKFAST\\nEnjoy our packed breakfast served between 7:00 am and 10:00 am at additional cost\\n\\nTravelling with children? Cots are available on request. Please contact the hostel in advance to arrange.\\n\\nPolicies & Conditions:\\n\\nCheck in from 15:00.\\nCheck out before 10:00.\\n\\nPayment upon arrival only by credit/debit cards. \\n\\n\\n WHY STAYING WITH US ?\\n\\n- The electronic lock on the door\\n- High quality white linen\\n- Outdoor terrace \\n- Individual lockers\\n- Big common space\\n- Luggage room (additional cost applied)\\n- Laundry (additional cost applied)\\n- Free Wi-Fi \\n- Organized events \\n- 24/7 Reception. No curfew.\\n- Child friendly. Non smoking.\\n\\nFOR GROUPS:\\nPlease note that for the group bookings for more than 10 people, different prepayment policies may apply. Please note that if the reservations are made for 10 guests, the hostel has a right to charge the prepayment from the card. Large groups (more than 30 people) are a subject to availability. The Hostel Manager reserves the right not to accept large groups, depending on the individual situation (availability, number of nights etc) or to charge the prepayment. Please contact the property directly for the group reservation details.\\nFor any special requests or to get more information, never hesitate to contact us directly! \\nNo bike parking facilities. \\n\\nTHE MOST IMPORTANT THING: We are always happy to see you at our place! :)\",\n",
       "  \"Located in the most beautiful and charming neighbourhood in London, Astor Hyde Park is one minute from Hyde Park and surrounded by some of London's greatest museums including the Natural History Museum, Victoria & Albert, and Science Museum. The hostel is a short walk from London's best transport connections, including direct trains to Heathrow Airport and all of London's attractions. If this wasn't enough, the iconic pubs, excellent shopping, amazing restaurants, and occasional celebrity sighting make it the perfect place to live while in London!\\n\\nThe moment you walk through our doors you become part of our family and we want you to have an incredible experience! We want every detail - from our super clean bathrooms and comfortable pillows to our unforgettable social events - to be perfect, giving you a London adventure that is 10 out of 10!\\n\\nVALID government issued ID required to stay with us, and ALL guests must be between 18-40 YEARS\\n \\nAt our amazing hostel you will have full access to:\\n\\n-Free Fast Wi-Fi throughout the building as well as Free PC Access\\n-24-hour reception for anything you may need (including late check-in/early check-out)\\n-CCTV in operation 24 hours a day\\n-Storage Lockers available for your valuables £2 per locker, per day (max 14 days).\\n-Luggage room is free to use on day of arrival! You can leave your items from 2.50 GBP per bag on day of departure (7.50 GBP per bag for everyday thereafter). \\n-Laundry facilities available 24-hours. Hairdryers and ironing facilities free to use\\n-Dining room and common area to enjoy a meal or meet fellow travellers\\n-Beautiful lounge area with comfy sofas and enormous projector screen for movies and sports! \\n\\nReception hours\\n-Check-out is between 8am and 10am. \\n-Check-in is available between 3pm and 10pm (please let us know your arrival time to ensure someone is there to greet you with a smile!)\\n\\n(A staff member is available 24 hours a day for emergencies, a number will be provided if you have any issues, or you can call the hostel number directly)\\n\\nCharity breakfast\\nBreakfast is available every day from 8 am to 10 am for £3.50 PP. £1 will be donated to charity for every breakfast!\\n\\nCommon Areas\\n-Kitchen and common areas are all open! Whoop Whoop! (Kitchen and lounges will be shut at midnight and reopening at 8am).\\n\\nHelpful Extras (Hidden costs are a pain! If we can give it to you for free, we will, if we cannot do it as cheap possible!). \\n\\n-Free City Maps \\n-Tourist Information, walking tours and advice on local attractions and transport (24hrs)\\n-Daily events organized for our guests\\n-Room key is a Â£5 cash deposit\\n-Padlocks and Adaptors available for sale at the reception\\n-Discounts at local restaurants and coffee shops\\n-Towels are available for hire at £3.50\\n-Clean, crisp linen on your bed ready to sleep on!\\n-Late Check-Out available to sleep in a little more until Midday (book in advance at reception)!\\n-ATM (Cash Machine)\\n\\nWinner of No.1 Small Hostel Group Worldwide, and a Lifetime Achievement Award for excellence in the Hostel Industry. We thrive on ensuring every guest comes satisfied and if you have any problems along the way we are always there ready to help! For this and many other reasons staying at Astor Hostels is the top choice for anyone exploring London on a budget! \\n\\nReservations must be made for guests over the age of 18. Any reservations made for those under the minimum age will be cancelled and you will not receive a refund. The hostel organises daily events aimed at backpackers between the ages of 18-30, it is therefore suggested that guests under the age of 40 would enjoy the hostel the most.\\n \\nProof of identification must be shown on arrival and can include a passport, driving license and national identity cards. We cannot accept paper driving licences, student, or employee IDs as proof of identity and failure to show proof or a copy upon arrival will result in the cancellation of a reservation without a refund. Get in touch with us for further clarification.\\n \\nWhen booking for 10 persons or more, different policies and additional supplements will apply.\",\n",
       "  '-',\n",
       "  '-',\n",
       "  \"Welcome to Clink261!\\n\\nClink261 is a comfortable, centrally located hostel just 5 minutes walk from King's Cross Tube and St. Pancras International Station; London's main transport hub. The hostel offers free Wi-Fi throughout the building.\\n \\nClink261 opened its doors 20 years ago. It's come a long way since then, but it's still got that laid-back feel that backpackers love. Staying at Clink261 feels a bit like coming home. With a self-catering kitchen, friendly staff, and comfortable sofas, it's a welcoming place to return to after a day of city exploration. The old Student Union building has been brought to life with unique British-themed interiors.\\n \\nClink261 has shared dormitory style accommodation along with girls' only dorms and private rooms. All bunk beds have individual reading lights, a USB/electric port to charge up your devices and a locker (sizes vary from room to room, bring your own padlock). Towels are included in private rooms and available to others for a small fee. \\n \\nReception is open 24/7 and offers discounted tickets on tours and attractions. The friendly team will be happy to help with any questions.\\nPlease note Clink261 is a cashless hostel. All guests must present a debit/credit card on check-in with the name of the person staying at Clink261.\\n \\nKing's Cross is a bustling and creative area of London. Famous gig venue 'Water Rats' is nearby, an open-air swimming pool is just the other side of King's Cross station (only for the brave!). 'Kerb' Street Food Market is held regularly in Granary Square. The British Museum and Camden Market are a 25-30 minutes walk away and all of London's big sights are easily reached on public transport. At just five minutes walk from King's Cross Underground, Clink261's location is hard to beat. \\n\\nPARKING\\nWe don't have any parking spaces directly at the hostels, unfortunately. However, parking is available at the nearby NCP car park. The address is:\\nJudd Street NCP Car Park, Judd Street, St. Pancras, WC1H 9QR.\\nThe car park is open from: 05:00-23:00. Height restriction is: 1.9m\\nParking charges are as follows:\\n2 hours £10.00\\n4 hours £20.00\\n24 hours £28.00\\nYou can pre-book online at the NCPs website.\\n \\nPlease make sure to read the hostel's Terms & Conditions before booking. \\nSpecial conditions apply for group bookings (10 guests or more), please contact the hostel directly.\\n\\nIf you wish to cancel or amend your reservation and avoid full charges for your booking, please ensure you notify us by email as soon as possible and at least 24 hours prior to your arrival date notice. Passed this time, we are afraid full charges will incur.\",\n",
       "  '-',\n",
       "  'Smart Hostels is proud to present our most central London property aiming to provide cost effective accommodation on the doorstep of the city, being in walking distance to the British Museum, Oxford Street, Soho and much more. \\n\\nThe hostel provides dormitories with bunk beds each also has access to a small locker able to lock with a padlock (not supplied). \\n\\nThe property includes a front operating on a 24-hour basis for all inquiries along with a common room and communal kitchen. A Basis Buffet Breakfast is available to purchase which is served between 7.30am to 10.00am',\n",
       "  '-',\n",
       "  '-',\n",
       "  '-',\n",
       "  '-',\n",
       "  '-',\n",
       "  'A quiet hideaway from the bustle of the busiest street in the world, YHA Oxford Street allows you relax and have this fabulous city at your fingertips. \\n\\nWe have a variety of rooms available, from 2 to 4 bed, as well as offering dorm beds. All rooms have shared facilities.\\n\\nNone of our rooms are ensuite - showers and toilets are within easy access of all rooms. \\n\\nPlease note that our breakfast price is £5.95\\nFree Wi-Fi is available to all guests in communal areas\\n\\nPlease note: There is no interior lift access to rooms above 3rd floor. \\nWe apologise, but due to the building architecture we have no disabled facilities at YHA Oxford Street. YHA London Central has full disabled access and is our next nearest hostel. \\n\\nTowels are available to rent from reception, as are padlocks and travel adapters. \\nSmoking is prohibited across the entire UK in public buildings. Please do not smoke in our rooms.\\n\\nEvery penny we make at YHA goes directly back in to our charity ‘Breaks for Kids’ which makes it possible for children from financially disadvantaged backgrounds to take part in school or community group breaks away! Ask us for a full activity list on check in.\\n\\n*All bookings for more than 16 people will not be accepted by YHA and will be cancelled.*\\n\\nPhoto ID must be presented upon arrival and match the name and address on the booking. Where a booking is for more than one person, the named person on the booking will need to provide photographic proof of identify that matches the name and address on the booking. Photo ID will also be requested from all other adult guests. These photo IDs must match the name they sign in with at check in. If photo ID cannot be provided, you will be refused entry to the property.',\n",
       "  \"Located within walking distance of Hammersmith tube station, the Hammersmith Apollo (world-famous music venue), The River Thames, the Thursday Markets, Furnival Gardens, King's Mall Shopping Centre and Charing Cross Hospital.\\n\\nThere is a continental breakfast available every morning for just £5 a day which can be purchased at reception on arrival.\\n\\nA short ride away there is Hyde Park, Buckingham Palace, Westminster, Piccadilly Circus, Trafalgar Square, Covent Garden, Leicester Square, Harrods and Westfield shopping centre.\\n\\nPlease note: non-refundable reservations will be fully charged at the time of booking.\",\n",
       "  '-',\n",
       "  '-',\n",
       "  '-',\n",
       "  'With Victoria Station and Buckingham Palace a few minutes walk away, it is hard to beat to this location! Amazing 24-hour transport links to attractions, parties, airports, coaches (to the rest of the UK/Europe), and almost anywhere! Astor Victoria is the dream place for a base in London. \\nThe excellent local markets, restaurants, pubs, vintage stores, coffee shops and galleries, all within a 15 minutes walk of Big Ben, will make you feel like a true Londoner! This, combined with staff who love the city and want to share all their knowledge with you, means there is no better place to stay in Central London!\\n\\nThe moment you walk through our doors you become part of our family and we want you to have an incredible experience! We want every detail - from our super clean bathrooms and comfortable pillows to our unforgettable social events - to be perfect, giving you a London adventure that is 10 out of 10!\\n\\nVALID government issued ID required to stay with us, and ALL guests must be between 18-40 YEARS\\n \\nAt our amazing hostel you will have full access to:\\n\\n- Free Fast Wi-Fi throughout the building as well as Free PC Access\\n- 24-hour reception for anything you may need (including late check-in/early check-out)\\n- CCTV in operation 24 hours a day\\n- Storage Lockers available for your valuables £2 per locker, per day (max 14 days).\\n- Luggage room is free to use on day of arrival! You can leave your items from GBP 2.50 per bag on day of departure (GBP 7.50 per bag for everyday thereafter). \\n- Laundry facilities available 24-hours. Hairdryers and ironing facilities free to use\\n- Dining room and common area to enjoy a meal or meet fellow travellers\\n- Beautiful lounge area with comfy sofas and enormous projector screen for movies and sports! \\n\\nReception hours\\n- Check-out is between 8am and 10am. \\n- Check-in is available between 3pm and 10pm (please let us know your arrival time to ensure someone is there to greet you with a smile!)\\n\\n(A staff member is available 24 hours a day for emergencies, a number will be provided if you have any issues, or you can call the hostel number directly).\\n\\nCharity breakfast\\nBreakfast is available every day from 8 am to 10 am for £3.50 PP. £1 will be donated to charity for every breakfast!\\n\\nCommon Areas\\n- Kitchen and common areas are all open! Whoop Whoop! (Kitchen and lounges will be shut at midnight and reopening at 8am).\\n\\nHelpful Extras (Hidden costs are a pain! If we can give it to you for free, we will, if we cannot do it as cheap possible!). \\n\\n- Free City Maps \\n- Tourist Information, walking tours and advice on local attractions and transport (24hrs)\\n- Daily events organized for our guests\\n- Room key is a £5 cash deposit\\n- Padlocks and Adaptors available for sale at the reception\\n- Discounts at local restaurants and coffee shops\\n- Towels are available for hire at £3.50\\n- Clean, crisp linen on your bed ready to sleep on!\\n- Late Check-Out available to sleep in a little more until Midday (book in advance at reception)!\\n- ATM (Cash Machine)\\n\\nWinner of No.1 Small Hostel Group Worldwide, and a Lifetime Achievement Award for excellence in the Hostel Industry. We thrive on ensuring every guest comes satisfied and if you have any problems along the way we are always there ready to help! For this and many other reasons staying at Astor Hostels is the top choice for anyone exploring London on a budget! \\n\\nReservations must be made for guests over the age of 18. Any reservations made for those under the minimum age will be cancelled and you will not receive a refund. The hostel organises daily events aimed at backpackers between the ages of 18-30, it is therefore suggested that guests under the age of 40 would enjoy the hostel the most.\\n \\nProof of identification must be shown on arrival and can include a passport, driving license and national identity cards. We cannot accept paper driving licences, student, or employee IDs as proof of identity and failure to show proof or a copy upon arrival will result in the cancellation of a reservation without a refund. Get in touch with us for further clarification.\\n \\nWhen booking for 10 persons or more, different policies and additional supplements will apply.',\n",
       "  'We are located in central London - just 5 minutes walk from the station. Rated one of the best hostels in London 2017 by the Telegraph newspaper, we offer free dinner & free breakfast everyday. Come stay with us and make new friends for life.\\n\\nFree high speed WiFi throughout, a huge garden patio with free gym, communal lounge with a 85-inch Ultra HD TV with cable, Netflix & PS4. Guests can also use the modern shared kitchen to cook their own meals.\\n\\nAll dorms have contemporary designs. We also have many private rooms. \\n\\nThe hostel is 15 minutes walk from Natural History & Science Museums and Hyde Park. Madame Tussauds, Harrods and Buckingham Palace are also a 15-minute train ride away.\\n\\n\\n\\nThe Reception is open 24/7 and the international staff will be there, happy to help you. \\n\\nMore reasons to stay at Saint James Backpackers? \\n- A 24-hour reception to make sure to be available for our guests at any time \\n- Massive living rooms with a large television, with options such as Sky TV, Netflix and a PlayStation 4 \\n- USB Charging Points in every room \\n- An exclusive ladies-only dorm room and showers \\n- Massive patio garden including BBQ \\n- Outdoor gym\\n- Hostel activities: movie and popcorn nights, sangria nights, board game competitions, screening sports events, holiday parties…\\n\\nNote: \\n\\n- There is a 48-hour cancellation policy on all reservations. Non-refundable reservations cannot be refunded. In case of a no show, the guest would be charged the whole amount of their stay \\n- A ?10 key deposit is payable in cash at check-in, which is returned on return of the key at check-out. \\n- Check-in: 14.00/ Check out: 10.00 \\n- Credit cards accepted \\n- Taxes included \\n- No smoking anywhere inside the building (but we do have a large patio garden where you can indulge) \\n- On the property lives one cat and one dog.\\n- Card Payments must be authorised by chip and pin \\n- Minimum age to stay in the hostel is 5. \\n- Please note that there are limited spaces for dinner; you must sign up at reception each day before 16:00, signup is done on a first come first serve bases. If you cannot make it here in time please just call us and request to be put on the list. Management reserve the right to discontinue meals without notice',\n",
       "  \"Located opposite Kings Cross/St Pancras International Station, Kabannas London St Pancras is your perfect getaway in London. We offer great value accommodation in the heart of London.\\nConveniently located to transit links so you can easily explore everyone's favourite city. Hop on a bus and you'll find yourself in Oxford Street's shops or South Kensington's Muesums in minutes. Perfect stopover for an early Eurostar train in to Europe.\\nLondon, the city on the top of everyone's travel list, from your traditional tourist sites to the weird and whacky, our team LOVE London and can't wait to tell you all about it. \\nCome on in, the beds are comfy. From private rooms for two and dorms up to 6, we've got you covered (in a cosy duvet)\\n\\nLuggage room/stores\\nDorm rooms\\nBar\\n\\nCheck in from 16:00\\nCheck out before: 10:00\\n\\nVisit our licensed café/bar for our city-style breakfast or relax over a light snack or full meal.\\n\\nLondon Attractions: We sell discounted and fast track entrance tickets to some of London’s most famous sights and best kept secrets. Including the London Eye, Madame Tussauds, The Tower of London, Walking tours, Bike tours, boat trips and many, many more. \\n\\nHostel Activities: We organise fun stuff for you to do nearly every day of the week! Such as Free Walking tours, top rated Pub Crawls, Group trips to famous West End Shows, Jet boating on the Thames, Burger nights, Sunday Roasts, movie nights…..well, you get the drift! It’s a fantastic way to meet other travellers and really make the most of your time in London! \\n\\nPhoto ID must be presented upon arrival and match the name and address on the booking. Where a booking is for more than one person, the named person on the booking will need to provide photographic proof of identify that matches the name and address on the booking. Photo ID will also be requested from all other adult guests. These photo IDs must match the name they sign in with at check in. If photo ID cannot be provided, you will be refused entry to the property.\",\n",
       "  '-',\n",
       "  \"Find our Camden hostel in London's north, smack bang in the middle of one of the city's coolest neighbourhoods. Camden is covered with some of the world's best street art plus its live music scene is iconic. Just a short walk from St Christopher's is the famous Camden Market serving up some of the best street food in London as well as vintage clothes, antiques and loads more. Once you're done exploring the local attractions, head to Belushi's where you'll meet other travellers while rockin' out to live bands or taking part in a daily pub crawl! \\n\\nSome of London's most famous live music venues are just a couple of minutes walk from our hostel. We also have Regents Park and Primrose Hill just a stone's throw away so you can benefit from seeing two different sides of the city within a few minutes. \\nThere is a continental breakfast available every morning for just £5 a day which can be purchased at reception.on arrival.\\n\\n*Please note that we require an in date government approved - drivers license, passport or national ID card at check-in.\\n\\n**Guests under the age of 18 must stay in a private room with guardians. They cannot share in general dormitory rooms with people who are not part of their own group or family. Under-18s are not allowed in the bars or pubs.\\n\\n***Please note: non-refundable reservations will be fully charged at the time of booking.\",\n",
       "  'The heart & soul of London backpacking\\nPull up a bar stool and talk until morning at PubLove’s most sociable Hostel-Pub. As well as being on the doorstep of London’s biggest tourist attractions, the Steam Engine is beautifully soulful and life-afﬁrming - you’ll feel at home as soon as you step through the door. Warning: you’ll never want to leave. \\nPerfect for travellers looking to meet new people to share their London adventure.\\n\\nLegendary London adventures start at PubLove.\\nAll our Hostel-Pubs are welcoming, small and social - the perfect places to get to know your fellow travellers. The best thing about staying with us? Your common room is the great British pub! We have 24hr bars specialising in craft beer & gin. Get social with the locals or swap stories over a drink with your fellow backpackers.\\n\\nOur dorms are modern, cool and spotlessly clean. Our bunks have hygiene/privacy screens, dedicated power sockets, great free Wi-Fi and crisp white linen. Our top-class washrooms are private and offer shampoo, shower gel and plenty of hot water.\\n\\nEvery Hostel-Pub has an award-winning Burger Craft kitchen serving up burgers, loaded fries and brunch, with vegetarian and vegan options. They open daily from 12pm until 10pm.\\n\\nBOOK NOW to start your own London adventure.',\n",
       "  '-',\n",
       "  'Our Hyde Park View Hostel is in a superb location with friendly and helpful staff. The hostel offers comfortable, clean rooms and fantastic access to London’s most famous sights and attractions. You can, also, enjoy the stunning walk through the Hyde Park to Buckingham Palace and Piccadilly Circus or London’s and Europe’s most popular shopping areas, Portobello Market, Knightsbridge and Oxford Street.\\n\\nAll the rooms have en-suite facilities, with its own shower and toilet facilities making it a perfect place to stay. The beds have curtains and panels ensuring that your stay is private and comfortable.\\n\\nThe local transport links are great, we are located within 5 minutes walking distance from either Queensway or Bayswater underground stations. There are 24 hour buses running next to the hostel which connect to many of the cities train and bus stations, making us accessible at day or night.'])"
      ]
     },
     "execution_count": 379,
     "metadata": {},
     "output_type": "execute_result"
    }
   ],
   "source": [
    "Name,distance,rating,tot_review,over_review,private_price,dom_price,fecilities,description\n"
   ]
  },
  {
   "cell_type": "code",
   "execution_count": null,
   "id": "2b1687ba",
   "metadata": {},
   "outputs": [],
   "source": []
  }
 ],
 "metadata": {
  "kernelspec": {
   "display_name": "Python 3 (ipykernel)",
   "language": "python",
   "name": "python3"
  },
  "language_info": {
   "codemirror_mode": {
    "name": "ipython",
    "version": 3
   },
   "file_extension": ".py",
   "mimetype": "text/x-python",
   "name": "python",
   "nbconvert_exporter": "python",
   "pygments_lexer": "ipython3",
   "version": "3.10.9"
  }
 },
 "nbformat": 4,
 "nbformat_minor": 5
}
