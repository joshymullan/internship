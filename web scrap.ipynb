{
 "cells": [
  {
   "cell_type": "markdown",
   "id": "dc9598b8",
   "metadata": {},
   "source": [
    "# web scrap"
   ]
  },
  {
   "cell_type": "code",
   "execution_count": null,
   "id": "721c0eaa",
   "metadata": {},
   "outputs": [],
   "source": [
    "# Queation 1) Write a python program to display all the header tags from wikipedia.org and make data frame"
   ]
  },
  {
   "cell_type": "code",
   "execution_count": null,
   "id": "cffd1ae3",
   "metadata": {},
   "outputs": [],
   "source": [
    "!pip install bs4\n",
    "!pip install requests"
   ]
  },
  {
   "cell_type": "code",
   "execution_count": 6,
   "id": "8f6ee718",
   "metadata": {},
   "outputs": [],
   "source": [
    "from bs4 import BeautifulSoup\n",
    "import requests"
   ]
  },
  {
   "cell_type": "code",
   "execution_count": 7,
   "id": "008c1eb6",
   "metadata": {},
   "outputs": [
    {
     "data": {
      "text/plain": [
       "<Response [200]>"
      ]
     },
     "execution_count": 7,
     "metadata": {},
     "output_type": "execute_result"
    }
   ],
   "source": [
    "page=requests.get('https://en.wikipedia.org/wiki/Main_Page')\n",
    "page"
   ]
  },
  {
   "cell_type": "code",
   "execution_count": null,
   "id": "dd29e6b1",
   "metadata": {},
   "outputs": [],
   "source": [
    "soup=BeautifulSoup(page.content)\n",
    "soup"
   ]
  },
  {
   "cell_type": "code",
   "execution_count": 23,
   "id": "2dbae683",
   "metadata": {},
   "outputs": [
    {
     "data": {
      "text/plain": [
       "['Welcome to Wikipedia',\n",
       " \"From today's featured article\",\n",
       " 'Did you know\\xa0...',\n",
       " 'In the news',\n",
       " 'On this day',\n",
       " \"From today's featured list\",\n",
       " \"Today's featured picture\",\n",
       " 'Other areas of Wikipedia',\n",
       " \"Wikipedia's sister projects\",\n",
       " 'Wikipedia languages']"
      ]
     },
     "execution_count": 23,
     "metadata": {},
     "output_type": "execute_result"
    }
   ],
   "source": [
    "titles =[]\n",
    "for i in soup.find_all('span', class_=\"mw-headline\" ):\n",
    "    titles.append(i.text)\n",
    "titles"
   ]
  },
  {
   "cell_type": "code",
   "execution_count": 24,
   "id": "2c14bcbe",
   "metadata": {},
   "outputs": [
    {
     "name": "stdout",
     "output_type": "stream",
     "text": [
      "10\n"
     ]
    }
   ],
   "source": [
    "print(len(titles))"
   ]
  },
  {
   "cell_type": "code",
   "execution_count": 28,
   "id": "67458d0f",
   "metadata": {},
   "outputs": [
    {
     "data": {
      "text/html": [
       "<div>\n",
       "<style scoped>\n",
       "    .dataframe tbody tr th:only-of-type {\n",
       "        vertical-align: middle;\n",
       "    }\n",
       "\n",
       "    .dataframe tbody tr th {\n",
       "        vertical-align: top;\n",
       "    }\n",
       "\n",
       "    .dataframe thead th {\n",
       "        text-align: right;\n",
       "    }\n",
       "</style>\n",
       "<table border=\"1\" class=\"dataframe\">\n",
       "  <thead>\n",
       "    <tr style=\"text-align: right;\">\n",
       "      <th></th>\n",
       "      <th>titles</th>\n",
       "    </tr>\n",
       "  </thead>\n",
       "  <tbody>\n",
       "    <tr>\n",
       "      <th>0</th>\n",
       "      <td>Welcome to Wikipedia</td>\n",
       "    </tr>\n",
       "    <tr>\n",
       "      <th>1</th>\n",
       "      <td>From today's featured article</td>\n",
       "    </tr>\n",
       "    <tr>\n",
       "      <th>2</th>\n",
       "      <td>Did you know ...</td>\n",
       "    </tr>\n",
       "    <tr>\n",
       "      <th>3</th>\n",
       "      <td>In the news</td>\n",
       "    </tr>\n",
       "    <tr>\n",
       "      <th>4</th>\n",
       "      <td>On this day</td>\n",
       "    </tr>\n",
       "    <tr>\n",
       "      <th>5</th>\n",
       "      <td>From today's featured list</td>\n",
       "    </tr>\n",
       "    <tr>\n",
       "      <th>6</th>\n",
       "      <td>Today's featured picture</td>\n",
       "    </tr>\n",
       "    <tr>\n",
       "      <th>7</th>\n",
       "      <td>Other areas of Wikipedia</td>\n",
       "    </tr>\n",
       "    <tr>\n",
       "      <th>8</th>\n",
       "      <td>Wikipedia's sister projects</td>\n",
       "    </tr>\n",
       "    <tr>\n",
       "      <th>9</th>\n",
       "      <td>Wikipedia languages</td>\n",
       "    </tr>\n",
       "  </tbody>\n",
       "</table>\n",
       "</div>"
      ],
      "text/plain": [
       "                          titles\n",
       "0           Welcome to Wikipedia\n",
       "1  From today's featured article\n",
       "2               Did you know ...\n",
       "3                    In the news\n",
       "4                    On this day\n",
       "5     From today's featured list\n",
       "6       Today's featured picture\n",
       "7       Other areas of Wikipedia\n",
       "8    Wikipedia's sister projects\n",
       "9            Wikipedia languages"
      ]
     },
     "execution_count": 28,
     "metadata": {},
     "output_type": "execute_result"
    }
   ],
   "source": [
    "import pandas as pd\n",
    "df=pd.DataFrame({'titles':titles})\n",
    "df"
   ]
  },
  {
   "cell_type": "code",
   "execution_count": 30,
   "id": "c0671026",
   "metadata": {},
   "outputs": [],
   "source": [
    "#Question 2)  Write s python program to display list of respected former presidents of India(i.e. Name , Term ofoffice)\n",
    "# from https://presidentofindia.nic.in/former-presidents.htm and make data frame."
   ]
  },
  {
   "cell_type": "code",
   "execution_count": 31,
   "id": "db3d28eb",
   "metadata": {},
   "outputs": [
    {
     "data": {
      "text/plain": [
       "<Response [404]>"
      ]
     },
     "execution_count": 31,
     "metadata": {},
     "output_type": "execute_result"
    }
   ],
   "source": [
    "page=requests.get('https://presidentofindia.nic.in/former-presidents.htm')\n",
    "page"
   ]
  },
  {
   "cell_type": "code",
   "execution_count": 118,
   "id": "f00b4b1d",
   "metadata": {},
   "outputs": [
    {
     "data": {
      "text/plain": [
       "[]"
      ]
     },
     "execution_count": 118,
     "metadata": {},
     "output_type": "execute_result"
    }
   ],
   "source": [
    "soup=BeautifulSoup(page.content)\n",
    "page\n",
    "pres=[]\n",
    "for i in soup.find_all('div', class_=\"content\"):\n",
    "    pres.append(i.text)\n",
    "pres"
   ]
  },
  {
   "cell_type": "code",
   "execution_count": null,
   "id": "c995acc1",
   "metadata": {},
   "outputs": [],
   "source": [
    "#3) Write a python program to scrape cricket rankings from icc-cricket.com. You have to scrape and make data frame\u0002a) Top 10 ODI teams in men’s cricket along with the records for matches, points and rating.\n",
    "#b) Top 10 ODI Batsmen along with the records of their team andrating.\n",
    "#c) Top 10 ODI bowlers along with the records of their team andrating"
   ]
  },
  {
   "cell_type": "code",
   "execution_count": 65,
   "id": "fb792f80",
   "metadata": {},
   "outputs": [
    {
     "data": {
      "text/plain": [
       "<Response [200]>"
      ]
     },
     "execution_count": 65,
     "metadata": {},
     "output_type": "execute_result"
    }
   ],
   "source": [
    "page=requests.get('https://www.icc-cricket.com')\n",
    "page"
   ]
  },
  {
   "cell_type": "code",
   "execution_count": null,
   "id": "0c0c4c27",
   "metadata": {},
   "outputs": [],
   "source": [
    "soup=BeautifulSoup(page.content)\n",
    "soup"
   ]
  },
  {
   "cell_type": "code",
   "execution_count": 102,
   "id": "893e4a4c",
   "metadata": {},
   "outputs": [
    {
     "data": {
      "text/plain": [
       "[]"
      ]
     },
     "execution_count": 102,
     "metadata": {},
     "output_type": "execute_result"
    }
   ],
   "source": [
    "rank =[]\n",
    "for i in soup.find_all('div', class_=\"table-head__cell u-text-right\"):\n",
    "    rank.append(i.text)\n",
    "rank"
   ]
  },
  {
   "cell_type": "code",
   "execution_count": null,
   "id": "67a6e664",
   "metadata": {},
   "outputs": [],
   "source": [
    "#question 6) Write a python program to scrape mentioned news details from https://www.cnbc.com/world/?region=world and\n",
    "#make data frame\u0002i) Headline\n",
    "#ii) Time\n",
    "#iii) News Lin"
   ]
  },
  {
   "cell_type": "code",
   "execution_count": 104,
   "id": "9d2b7ed6",
   "metadata": {},
   "outputs": [
    {
     "data": {
      "text/plain": [
       "<Response [200]>"
      ]
     },
     "execution_count": 104,
     "metadata": {},
     "output_type": "execute_result"
    }
   ],
   "source": [
    "page=requests.get('https://www.cnbc.com/world/?region=world')\n",
    "page"
   ]
  },
  {
   "cell_type": "code",
   "execution_count": null,
   "id": "5dc01ef8",
   "metadata": {},
   "outputs": [],
   "source": [
    "soup=BeautifulSoup(page.content)\n",
    "soup"
   ]
  },
  {
   "cell_type": "code",
   "execution_count": 144,
   "id": "5d1926ed",
   "metadata": {},
   "outputs": [
    {
     "data": {
      "text/plain": [
       "[\"Moscow claims the West is attempting to 'split Russian society' after airport stormed by mob\",\n",
       " \"There's a 'game of thrones' in AI, but these China tech giants offer real value, tech veteran says\",\n",
       " 'Standard Chartered-owned crypto firm Zodia launches in Hong Kong',\n",
       " 'WTO chief warns Israel-Hamas war could hurt global growth if conflict spills over',\n",
       " 'Stock futures rebound to start a big week with the S&P 500 mired in a correction',\n",
       " 'Missed Nvidia? Fund manager says this under-the-radar network stock is set for an AI boost',\n",
       " 'Biden unveils AI executive order to create new safeguards',\n",
       " 'Is your hotel sustainable? Not if these two things are in your room, says Soneva’s founder ',\n",
       " \"Global bond rout looks 'tremendously dangerous' for stocks, hedge fund manager warns\",\n",
       " 'Chinese consumer stocks that analysts like for their global potential',\n",
       " \"Mark Cuban: An NBA legend taught me this 9-word mantra—it helps you 'differentiate' yourself\",\n",
       " 'U.S. is working with Indo-Pacific partners to boost economic resilience, says Katherine Tai',\n",
       " \"Factories are heading for a 'dark' future — and it's not what you think\",\n",
       " \"Asia markets mixed ahead of Japan's BOJ decision and South Korea inflation this week\",\n",
       " 'Matthew Perry, ‘Friends’ actor, dies of apparent drowning at 54',\n",
       " 'G7 calls for immediate repeal of bans on Japanese food, pressing China',\n",
       " \"As the market enters correction territory, don't blame the American consumer\",\n",
       " \"Bank of Japan policymakers are meeting. Here's what you need to know\",\n",
       " 'CNBC Daily Open: Are things about to get more difficult?',\n",
       " \"China's foreign minister suggests road to Xi-Biden summit will not be smooth\"]"
      ]
     },
     "execution_count": 144,
     "metadata": {},
     "output_type": "execute_result"
    }
   ],
   "source": [
    "title=[]\n",
    "for i in soup.find_all('div',class_=\"RiverHeadline-headline RiverHeadline-hasThumbnail\"):\n",
    "    title.append(i.text)\n",
    "title\n",
    "    "
   ]
  },
  {
   "cell_type": "code",
   "execution_count": null,
   "id": "0e838806",
   "metadata": {},
   "outputs": [],
   "source": [
    "title.text"
   ]
  },
  {
   "cell_type": "code",
   "execution_count": 123,
   "id": "c776f0eb",
   "metadata": {},
   "outputs": [
    {
     "data": {
      "text/plain": [
       "['28 min ago',\n",
       " '28 min ago',\n",
       " '4 hours ago',\n",
       " '4 hours ago',\n",
       " '15 min ago',\n",
       " '15 min ago',\n",
       " '2 hours ago',\n",
       " '2 hours ago',\n",
       " '4 hours ago',\n",
       " '4 hours ago',\n",
       " '4 hours ago',\n",
       " '4 hours ago',\n",
       " '5 hours ago',\n",
       " '5 hours ago']"
      ]
     },
     "execution_count": 123,
     "metadata": {},
     "output_type": "execute_result"
    }
   ],
   "source": [
    "title_time= []\n",
    "for i in soup.find_all('span',class_=\"RiverByline-datePublished\"):\n",
    "    title_time.append(i.text)\n",
    "title_time"
   ]
  },
  {
   "cell_type": "code",
   "execution_count": 127,
   "id": "00f1ffef",
   "metadata": {},
   "outputs": [
    {
     "data": {
      "text/plain": [
       "['Israel-Hamas conflict',\n",
       " 'U.S. Treasurys',\n",
       " 'Global bond rout',\n",
       " 'U.S. futures',\n",
       " 'Evergrande slump',\n",
       " 'Pro: Missed Nvidia?']"
      ]
     },
     "execution_count": 127,
     "metadata": {},
     "output_type": "execute_result"
    }
   ],
   "source": [
    "title_link= []\n",
    "for i in soup.find_all('span',class_=\"QuickLinks-quickLink\"):\n",
    "    title_link.append(i.text)\n",
    "title_link"
   ]
  },
  {
   "cell_type": "code",
   "execution_count": 128,
   "id": "ffdb3e1c",
   "metadata": {},
   "outputs": [
    {
     "name": "stdout",
     "output_type": "stream",
     "text": [
      "20 14 6\n"
     ]
    }
   ],
   "source": [
    "print(len(title),len(title_time),len(title_link))"
   ]
  },
  {
   "cell_type": "code",
   "execution_count": null,
   "id": "575e9d40",
   "metadata": {},
   "outputs": [],
   "source": []
  },
  {
   "cell_type": "code",
   "execution_count": null,
   "id": "9df2ca8e",
   "metadata": {},
   "outputs": [],
   "source": []
  }
 ],
 "metadata": {
  "kernelspec": {
   "display_name": "Python 3 (ipykernel)",
   "language": "python",
   "name": "python3"
  },
  "language_info": {
   "codemirror_mode": {
    "name": "ipython",
    "version": 3
   },
   "file_extension": ".py",
   "mimetype": "text/x-python",
   "name": "python",
   "nbconvert_exporter": "python",
   "pygments_lexer": "ipython3",
   "version": "3.10.9"
  }
 },
 "nbformat": 4,
 "nbformat_minor": 5
}
